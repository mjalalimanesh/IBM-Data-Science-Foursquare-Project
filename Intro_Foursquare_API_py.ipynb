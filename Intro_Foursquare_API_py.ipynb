{
  "nbformat": 4,
  "nbformat_minor": 0,
  "metadata": {
    "kernelspec": {
      "name": "python3",
      "display_name": "Python 3"
    },
    "colab": {
      "name": "Intro-Foursquare-API-py.ipynb",
      "provenance": [],
      "include_colab_link": true
    }
  },
  "cells": [
    {
      "cell_type": "markdown",
      "metadata": {
        "id": "view-in-github",
        "colab_type": "text"
      },
      "source": [
        "<a href=\"https://colab.research.google.com/github/mjalalimanesh/IBM-Data-Science-Foursquare-Project/blob/main/Intro_Foursquare_API_py.ipynb\" target=\"_parent\"><img src=\"https://colab.research.google.com/assets/colab-badge.svg\" alt=\"Open In Colab\"/></a>"
      ]
    },
    {
      "cell_type": "markdown",
      "metadata": {
        "button": false,
        "new_sheet": false,
        "run_control": {
          "read_only": false
        },
        "id": "G2pO3nnlFnkL"
      },
      "source": [
        "\n",
        "<h1 align=center><font size = 5>Learning FourSquare API with Python</font></h1>\n",
        "\n",
        "An IBM Data Science Capstone Project Notebook"
      ]
    },
    {
      "cell_type": "markdown",
      "metadata": {
        "button": false,
        "new_sheet": false,
        "run_control": {
          "read_only": false
        },
        "id": "Ygvj3W9GFnkP"
      },
      "source": [
        "## Table of Contents\n",
        "\n",
        "1.  <a href=\"#item1\">Foursquare API Search Function</a>\n",
        "2.  <a href=\"#item2\">Explore a Given Venue</a>  \n",
        "3.  <a href=\"#item3\">Explore a User</a>  \n",
        "4.  <a href=\"#item4\">Foursquare API Explore Function</a>  \n",
        "5.  <a href=\"#item5\">Get Trending Venues</a>  \n"
      ]
    },
    {
      "cell_type": "markdown",
      "metadata": {
        "button": false,
        "new_sheet": false,
        "run_control": {
          "read_only": false
        },
        "id": "8j8wx0_TFnkQ"
      },
      "source": [
        "### Import necessary Libraries\n"
      ]
    },
    {
      "cell_type": "code",
      "metadata": {
        "button": false,
        "jupyter": {
          "outputs_hidden": false
        },
        "new_sheet": false,
        "run_control": {
          "read_only": false
        },
        "id": "341e5f4IFnkR",
        "outputId": "5ee3344a-1e08-42d6-9cc3-389934ab8bf6",
        "colab": {
          "base_uri": "https://localhost:8080/"
        }
      },
      "source": [
        "import requests # library to handle requests\n",
        "import pandas as pd # library for data analsysis\n",
        "import numpy as np # library to handle data in a vectorized manner\n",
        "import random # library for random number generation\n",
        "\n",
        "\n",
        "\n",
        "from geopy.geocoders import Nominatim # module to convert an address into latitude and longitude values\n",
        "\n",
        "# libraries for displaying images\n",
        "from IPython.display import Image \n",
        "from IPython.core.display import HTML \n",
        "    \n",
        "# tranforming json file into a pandas dataframe library\n",
        "from pandas import json_normalize\n",
        "\n",
        "\n",
        "import folium # plotting library\n",
        "\n",
        "print('Folium installed')\n",
        "print('Libraries imported.')"
      ],
      "execution_count": 1,
      "outputs": [
        {
          "output_type": "stream",
          "text": [
            "Folium installed\n",
            "Libraries imported.\n"
          ],
          "name": "stdout"
        }
      ]
    },
    {
      "cell_type": "markdown",
      "metadata": {
        "button": false,
        "new_sheet": false,
        "run_control": {
          "read_only": false
        },
        "id": "ZOVAnGrOFnkW"
      },
      "source": [
        "### Define Foursquare Credentials and Version\n"
      ]
    },
    {
      "cell_type": "markdown",
      "metadata": {
        "button": false,
        "new_sheet": false,
        "run_control": {
          "read_only": false
        },
        "id": "z2hI2oQCFnkX"
      },
      "source": [
        "##### Make sure that you have created a Foursquare developer account and have your credentials handy\n"
      ]
    },
    {
      "cell_type": "code",
      "metadata": {
        "button": false,
        "jupyter": {
          "outputs_hidden": false
        },
        "new_sheet": false,
        "run_control": {
          "read_only": false
        },
        "id": "rPs2jak2FnkY",
        "outputId": "ffcd4739-8ccf-4d73-ab8c-993627d9db11",
        "colab": {
          "base_uri": "https://localhost:8080/"
        }
      },
      "source": [
        "CLIENT_ID = 'RZ4H2M3IIHZWWXT0LEQQL44UT5DQITVYQY3GLIWFWIDV3NDR' # your Foursquare ID\n",
        "CLIENT_SECRET = 'KNGLLHDYW5HPZ5VR4BMFUIW1S1OUDRUX3C13533QP2IKGWN3' # your Foursquare Secret\n",
        "VERSION = '20201106'\n",
        "LIMIT = 30\n",
        "print('Your credentails:')\n",
        "print('CLIENT_ID: ' + CLIENT_ID)\n",
        "print('CLIENT_SECRET:' + CLIENT_SECRET)"
      ],
      "execution_count": 2,
      "outputs": [
        {
          "output_type": "stream",
          "text": [
            "Your credentails:\n",
            "CLIENT_ID: RZ4H2M3IIHZWWXT0LEQQL44UT5DQITVYQY3GLIWFWIDV3NDR\n",
            "CLIENT_SECRET:KNGLLHDYW5HPZ5VR4BMFUIW1S1OUDRUX3C13533QP2IKGWN3\n"
          ],
          "name": "stdout"
        }
      ]
    },
    {
      "cell_type": "markdown",
      "metadata": {
        "button": false,
        "new_sheet": false,
        "run_control": {
          "read_only": false
        },
        "id": "T57lXz6fFnkd"
      },
      "source": [
        "\n"
      ]
    },
    {
      "cell_type": "markdown",
      "metadata": {
        "button": false,
        "new_sheet": false,
        "run_control": {
          "read_only": false
        },
        "id": "UjqT7-54Fnke"
      },
      "source": [
        "#### Let's again assume that you are at Tajrish Square. So let's start by converting the Tajrish's address to its latitude and longitude coordinates.\n"
      ]
    },
    {
      "cell_type": "markdown",
      "metadata": {
        "id": "IjQrcEsxFnkf"
      },
      "source": [
        "In order to define an instance of the geocoder, we need to define a user_agent. We will name our agent <em>foursquare_agent</em>, as shown below.\n"
      ]
    },
    {
      "cell_type": "code",
      "metadata": {
        "button": false,
        "jupyter": {
          "outputs_hidden": false
        },
        "new_sheet": false,
        "run_control": {
          "read_only": false
        },
        "id": "_ISspkd9Fnkg",
        "outputId": "28e340e0-25cd-45e8-db3b-a550817dfc69",
        "colab": {
          "base_uri": "https://localhost:8080/"
        }
      },
      "source": [
        "address = 'Tajrish square, Tehran, Iran'\n",
        "\n",
        "geolocator = Nominatim(user_agent=\"foursquare_agent\")\n",
        "location = geolocator.geocode(address)\n",
        "print(location.address)\n",
        "latitude = location.latitude\n",
        "longitude = location.longitude\n",
        "print(latitude, longitude)"
      ],
      "execution_count": 5,
      "outputs": [
        {
          "output_type": "stream",
          "text": [
            "میدان تجریش, تجریش, منطقه ۱ شهر تهران, دهستان تجریش, شهرستان شمیرانات, استان تهران, ایران\n",
            "35.806994700000004 51.428815219116515\n"
          ],
          "name": "stdout"
        }
      ]
    },
    {
      "cell_type": "markdown",
      "metadata": {
        "button": false,
        "new_sheet": false,
        "run_control": {
          "read_only": false
        },
        "id": "9knlKmyWFnkp"
      },
      "source": [
        "## 1. Search for a specific venue category\n",
        "\n",
        "> `https://api.foursquare.com/v2/venues/`**search**`?client_id=`**CLIENT_ID**`&client_secret=`**CLIENT_SECRET**`&ll=`**LATITUDE**`,`**LONGITUDE**`&v=`**VERSION**`&query=`**QUERY**`&radius=`**RADIUS**`&limit=`**LIMIT**\n"
      ]
    },
    {
      "cell_type": "markdown",
      "metadata": {
        "button": false,
        "new_sheet": false,
        "run_control": {
          "read_only": false
        },
        "id": "Kc9ghWRyFnkq"
      },
      "source": [
        "#### Now, let's assume that it is lunch time,  food that is within 500 metres from the Tajrish Square.\n"
      ]
    },
    {
      "cell_type": "code",
      "metadata": {
        "button": false,
        "jupyter": {
          "outputs_hidden": false
        },
        "new_sheet": false,
        "run_control": {
          "read_only": false
        },
        "scrolled": true,
        "id": "u15g-daJFnkr",
        "outputId": "096f6ba8-e1a0-4cdf-8d20-308c9fea3780",
        "colab": {
          "base_uri": "https://localhost:8080/"
        }
      },
      "source": [
        "search_query = 'restaurant'\n",
        "radius = 500\n",
        "print(search_query + ' .... OK!')"
      ],
      "execution_count": 3,
      "outputs": [
        {
          "output_type": "stream",
          "text": [
            "restaurant .... OK!\n"
          ],
          "name": "stdout"
        }
      ]
    },
    {
      "cell_type": "markdown",
      "metadata": {
        "button": false,
        "new_sheet": false,
        "run_control": {
          "read_only": false
        },
        "id": "KoZt_U1lFnky"
      },
      "source": [
        "#### Define the corresponding URL\n"
      ]
    },
    {
      "cell_type": "code",
      "metadata": {
        "button": false,
        "jupyter": {
          "outputs_hidden": false
        },
        "new_sheet": false,
        "run_control": {
          "read_only": false
        },
        "id": "ot2ZBahXFnkz",
        "outputId": "0d6d38d0-cfb2-4934-b0c3-a778f7bd20b3",
        "colab": {
          "base_uri": "https://localhost:8080/",
          "height": 53
        }
      },
      "source": [
        "url = 'https://api.foursquare.com/v2/venues/search?client_id={}&client_secret={}&ll={},{}&v={}&query={}&radius={}&limit={}'.format(CLIENT_ID, CLIENT_SECRET, latitude, longitude, VERSION, search_query, radius, LIMIT)\n",
        "url"
      ],
      "execution_count": 6,
      "outputs": [
        {
          "output_type": "execute_result",
          "data": {
            "application/vnd.google.colaboratory.intrinsic+json": {
              "type": "string"
            },
            "text/plain": [
              "'https://api.foursquare.com/v2/venues/search?client_id=RZ4H2M3IIHZWWXT0LEQQL44UT5DQITVYQY3GLIWFWIDV3NDR&client_secret=KNGLLHDYW5HPZ5VR4BMFUIW1S1OUDRUX3C13533QP2IKGWN3&ll=35.806994700000004,51.428815219116515&v=20201106&query=restaurant&radius=500&limit=30'"
            ]
          },
          "metadata": {
            "tags": []
          },
          "execution_count": 6
        }
      ]
    },
    {
      "cell_type": "markdown",
      "metadata": {
        "button": false,
        "new_sheet": false,
        "run_control": {
          "read_only": false
        },
        "id": "xttbxgwpFnk7"
      },
      "source": [
        "#### Send the GET Request and examine the results\n"
      ]
    },
    {
      "cell_type": "code",
      "metadata": {
        "button": false,
        "jupyter": {
          "outputs_hidden": false
        },
        "new_sheet": false,
        "run_control": {
          "read_only": false
        },
        "scrolled": true,
        "id": "cLoOFTa3Fnk7"
      },
      "source": [
        "results = requests.get(url).json()"
      ],
      "execution_count": 7,
      "outputs": []
    },
    {
      "cell_type": "markdown",
      "metadata": {
        "button": false,
        "new_sheet": false,
        "run_control": {
          "read_only": false
        },
        "id": "fk-lS8NBFnk_"
      },
      "source": [
        "#### Get relevant part of JSON and transform it into a _pandas_ dataframe\n"
      ]
    },
    {
      "cell_type": "code",
      "metadata": {
        "button": false,
        "jupyter": {
          "outputs_hidden": false
        },
        "new_sheet": false,
        "run_control": {
          "read_only": false
        },
        "id": "Nv3Y3fYvFnlA",
        "outputId": "b620847b-ead5-4fdf-8419-223426ff1bd7",
        "colab": {
          "base_uri": "https://localhost:8080/",
          "height": 444
        }
      },
      "source": [
        "# assign relevant part of JSON to venues\n",
        "venues = results['response']['venues']\n",
        "print('length of venues list : ', len(venues))\n",
        "print('first element of list : ', venues[0])\n",
        "# tranform venues into a dataframe\n",
        "dataframe = json_normalize(venues)\n",
        "print('dataframe shape ', dataframe.shape)\n",
        "\n",
        "dataframe.head(3)"
      ],
      "execution_count": 24,
      "outputs": [
        {
          "output_type": "stream",
          "text": [
            "length of venues list :  30\n",
            "first element of list :  {'id': '5bc0cb46ccad6b002ca5db2e', 'name': 'Rebelan Cafe & Restaurant | کافه و رستوران ربلان (کافه و رستوران ربلان)', 'location': {'address': 'Gholam Jafari St.', 'crossStreet': '7th Floor', 'lat': 35.80859986099495, 'lng': 51.42931103349665, 'labeledLatLngs': [{'label': 'display', 'lat': 35.80859986099495, 'lng': 51.42931103349665}], 'distance': 184, 'cc': 'IR', 'city': 'تهران', 'state': 'تهران', 'country': 'ایران', 'formattedAddress': ['Gholam Jafari St. (7th Floor)', 'تهران, تهران', 'ایران']}, 'categories': [{'id': '4bf58dd8d48988d1c4941735', 'name': 'Restaurant', 'pluralName': 'Restaurants', 'shortName': 'Restaurant', 'icon': {'prefix': 'https://ss3.4sqi.net/img/categories_v2/food/default_', 'suffix': '.png'}, 'primary': True}], 'referralId': 'v-1604911723', 'hasPerk': False}\n",
            "dataframe shape  (30, 18)\n"
          ],
          "name": "stdout"
        },
        {
          "output_type": "execute_result",
          "data": {
            "text/html": [
              "<div>\n",
              "<style scoped>\n",
              "    .dataframe tbody tr th:only-of-type {\n",
              "        vertical-align: middle;\n",
              "    }\n",
              "\n",
              "    .dataframe tbody tr th {\n",
              "        vertical-align: top;\n",
              "    }\n",
              "\n",
              "    .dataframe thead th {\n",
              "        text-align: right;\n",
              "    }\n",
              "</style>\n",
              "<table border=\"1\" class=\"dataframe\">\n",
              "  <thead>\n",
              "    <tr style=\"text-align: right;\">\n",
              "      <th></th>\n",
              "      <th>id</th>\n",
              "      <th>name</th>\n",
              "      <th>categories</th>\n",
              "      <th>referralId</th>\n",
              "      <th>hasPerk</th>\n",
              "      <th>location.address</th>\n",
              "      <th>location.crossStreet</th>\n",
              "      <th>location.lat</th>\n",
              "      <th>location.lng</th>\n",
              "      <th>location.labeledLatLngs</th>\n",
              "      <th>location.distance</th>\n",
              "      <th>location.cc</th>\n",
              "      <th>location.city</th>\n",
              "      <th>location.state</th>\n",
              "      <th>location.country</th>\n",
              "      <th>location.formattedAddress</th>\n",
              "      <th>location.postalCode</th>\n",
              "      <th>location.neighborhood</th>\n",
              "    </tr>\n",
              "  </thead>\n",
              "  <tbody>\n",
              "    <tr>\n",
              "      <th>0</th>\n",
              "      <td>5bc0cb46ccad6b002ca5db2e</td>\n",
              "      <td>Rebelan Cafe &amp; Restaurant | کافه و رستوران ربل...</td>\n",
              "      <td>[{'id': '4bf58dd8d48988d1c4941735', 'name': 'R...</td>\n",
              "      <td>v-1604911723</td>\n",
              "      <td>False</td>\n",
              "      <td>Gholam Jafari St.</td>\n",
              "      <td>7th Floor</td>\n",
              "      <td>35.808600</td>\n",
              "      <td>51.429311</td>\n",
              "      <td>[{'label': 'display', 'lat': 35.80859986099495...</td>\n",
              "      <td>184</td>\n",
              "      <td>IR</td>\n",
              "      <td>تهران</td>\n",
              "      <td>تهران</td>\n",
              "      <td>ایران</td>\n",
              "      <td>[Gholam Jafari St. (7th Floor), تهران, تهران, ...</td>\n",
              "      <td>NaN</td>\n",
              "      <td>NaN</td>\n",
              "    </tr>\n",
              "    <tr>\n",
              "      <th>1</th>\n",
              "      <td>5c2798ecf05ca8002d832e82</td>\n",
              "      <td>Rouhi Café &amp; Restaurant | کافه رستوران روحی (ک...</td>\n",
              "      <td>[{'id': '52e81612bcbc57f1066b79f7', 'name': 'P...</td>\n",
              "      <td>v-1604911723</td>\n",
              "      <td>False</td>\n",
              "      <td>Cinema Astara</td>\n",
              "      <td>Tajrish Sq.</td>\n",
              "      <td>35.806444</td>\n",
              "      <td>51.431249</td>\n",
              "      <td>[{'label': 'display', 'lat': 35.80644381720913...</td>\n",
              "      <td>228</td>\n",
              "      <td>IR</td>\n",
              "      <td>تهران</td>\n",
              "      <td>تهران</td>\n",
              "      <td>ایران</td>\n",
              "      <td>[Cinema Astara (Tajrish Sq.), تهران, تهران 009...</td>\n",
              "      <td>0098</td>\n",
              "      <td>District 1</td>\n",
              "    </tr>\n",
              "    <tr>\n",
              "      <th>2</th>\n",
              "      <td>52a1db5b11d2334522301d19</td>\n",
              "      <td>Baghcheh Traditional Restaurant | رستوران سنتی...</td>\n",
              "      <td>[{'id': '52e81612bcbc57f1066b79f7', 'name': 'P...</td>\n",
              "      <td>v-1604911723</td>\n",
              "      <td>False</td>\n",
              "      <td>Tajrish Grand Bazaar</td>\n",
              "      <td>Hammam Dogholoo Aly.</td>\n",
              "      <td>35.805183</td>\n",
              "      <td>51.430803</td>\n",
              "      <td>[{'label': 'display', 'lat': 35.80518269459799...</td>\n",
              "      <td>269</td>\n",
              "      <td>IR</td>\n",
              "      <td>تهران</td>\n",
              "      <td>تهران</td>\n",
              "      <td>ایران</td>\n",
              "      <td>[Tajrish Grand Bazaar (Hammam Dogholoo Aly.), ...</td>\n",
              "      <td>NaN</td>\n",
              "      <td>NaN</td>\n",
              "    </tr>\n",
              "  </tbody>\n",
              "</table>\n",
              "</div>"
            ],
            "text/plain": [
              "                         id  ... location.neighborhood\n",
              "0  5bc0cb46ccad6b002ca5db2e  ...                   NaN\n",
              "1  5c2798ecf05ca8002d832e82  ...            District 1\n",
              "2  52a1db5b11d2334522301d19  ...                   NaN\n",
              "\n",
              "[3 rows x 18 columns]"
            ]
          },
          "metadata": {
            "tags": []
          },
          "execution_count": 24
        }
      ]
    },
    {
      "cell_type": "markdown",
      "metadata": {
        "button": false,
        "new_sheet": false,
        "run_control": {
          "read_only": false
        },
        "id": "2UjbIqa7FnlE"
      },
      "source": [
        "#### Define information of interest and filter dataframe\n"
      ]
    },
    {
      "cell_type": "code",
      "metadata": {
        "id": "6jcsbglrOAwQ",
        "outputId": "ffdd8b79-0c79-467b-d8d1-28e1480d7832",
        "colab": {
          "base_uri": "https://localhost:8080/"
        }
      },
      "source": [
        "dataframe.loc[0, 'categories']"
      ],
      "execution_count": 21,
      "outputs": [
        {
          "output_type": "execute_result",
          "data": {
            "text/plain": [
              "[{'icon': {'prefix': 'https://ss3.4sqi.net/img/categories_v2/food/default_',\n",
              "   'suffix': '.png'},\n",
              "  'id': '4bf58dd8d48988d1c4941735',\n",
              "  'name': 'Restaurant',\n",
              "  'pluralName': 'Restaurants',\n",
              "  'primary': True,\n",
              "  'shortName': 'Restaurant'}]"
            ]
          },
          "metadata": {
            "tags": []
          },
          "execution_count": 21
        }
      ]
    },
    {
      "cell_type": "code",
      "metadata": {
        "button": false,
        "jupyter": {
          "outputs_hidden": false
        },
        "new_sheet": false,
        "run_control": {
          "read_only": false
        },
        "scrolled": true,
        "id": "FkB_6LxSFnlF",
        "outputId": "fee50a56-4c00-4a35-abd3-b94d654ab4fb",
        "colab": {
          "base_uri": "https://localhost:8080/",
          "height": 391
        }
      },
      "source": [
        "# keep only columns that include venue name, and anything that is associated with location\n",
        "filtered_columns = ['name', 'categories'] + [col for col in dataframe.columns if col.startswith('location.')] + ['id']\n",
        "dataframe_filtered = dataframe.loc[:, filtered_columns]\n",
        "\n",
        "# function that extracts the category of the venue\n",
        "def get_category_type(row):\n",
        "    try:\n",
        "        categories_list = row['categories']\n",
        "    except:\n",
        "        categories_list = row['venue.categories']\n",
        "        \n",
        "    if len(categories_list) == 0:\n",
        "        return None\n",
        "    else:\n",
        "        return categories_list[0]['name']\n",
        "\n",
        "# filter the category for each row\n",
        "dataframe_filtered['categories'] = dataframe_filtered.apply(get_category_type, axis=1)\n",
        "\n",
        "# clean column names by keeping only last term\n",
        "dataframe_filtered.columns = [column.split('.')[-1] for column in dataframe_filtered.columns]\n",
        "\n",
        "dataframe_filtered.head(3)"
      ],
      "execution_count": 25,
      "outputs": [
        {
          "output_type": "execute_result",
          "data": {
            "text/html": [
              "<div>\n",
              "<style scoped>\n",
              "    .dataframe tbody tr th:only-of-type {\n",
              "        vertical-align: middle;\n",
              "    }\n",
              "\n",
              "    .dataframe tbody tr th {\n",
              "        vertical-align: top;\n",
              "    }\n",
              "\n",
              "    .dataframe thead th {\n",
              "        text-align: right;\n",
              "    }\n",
              "</style>\n",
              "<table border=\"1\" class=\"dataframe\">\n",
              "  <thead>\n",
              "    <tr style=\"text-align: right;\">\n",
              "      <th></th>\n",
              "      <th>name</th>\n",
              "      <th>categories</th>\n",
              "      <th>address</th>\n",
              "      <th>crossStreet</th>\n",
              "      <th>lat</th>\n",
              "      <th>lng</th>\n",
              "      <th>labeledLatLngs</th>\n",
              "      <th>distance</th>\n",
              "      <th>cc</th>\n",
              "      <th>city</th>\n",
              "      <th>state</th>\n",
              "      <th>country</th>\n",
              "      <th>formattedAddress</th>\n",
              "      <th>postalCode</th>\n",
              "      <th>neighborhood</th>\n",
              "      <th>id</th>\n",
              "    </tr>\n",
              "  </thead>\n",
              "  <tbody>\n",
              "    <tr>\n",
              "      <th>0</th>\n",
              "      <td>Rebelan Cafe &amp; Restaurant | کافه و رستوران ربل...</td>\n",
              "      <td>Restaurant</td>\n",
              "      <td>Gholam Jafari St.</td>\n",
              "      <td>7th Floor</td>\n",
              "      <td>35.808600</td>\n",
              "      <td>51.429311</td>\n",
              "      <td>[{'label': 'display', 'lat': 35.80859986099495...</td>\n",
              "      <td>184</td>\n",
              "      <td>IR</td>\n",
              "      <td>تهران</td>\n",
              "      <td>تهران</td>\n",
              "      <td>ایران</td>\n",
              "      <td>[Gholam Jafari St. (7th Floor), تهران, تهران, ...</td>\n",
              "      <td>NaN</td>\n",
              "      <td>NaN</td>\n",
              "      <td>5bc0cb46ccad6b002ca5db2e</td>\n",
              "    </tr>\n",
              "    <tr>\n",
              "      <th>1</th>\n",
              "      <td>Rouhi Café &amp; Restaurant | کافه رستوران روحی (ک...</td>\n",
              "      <td>Persian Restaurant</td>\n",
              "      <td>Cinema Astara</td>\n",
              "      <td>Tajrish Sq.</td>\n",
              "      <td>35.806444</td>\n",
              "      <td>51.431249</td>\n",
              "      <td>[{'label': 'display', 'lat': 35.80644381720913...</td>\n",
              "      <td>228</td>\n",
              "      <td>IR</td>\n",
              "      <td>تهران</td>\n",
              "      <td>تهران</td>\n",
              "      <td>ایران</td>\n",
              "      <td>[Cinema Astara (Tajrish Sq.), تهران, تهران 009...</td>\n",
              "      <td>0098</td>\n",
              "      <td>District 1</td>\n",
              "      <td>5c2798ecf05ca8002d832e82</td>\n",
              "    </tr>\n",
              "    <tr>\n",
              "      <th>2</th>\n",
              "      <td>Baghcheh Traditional Restaurant | رستوران سنتی...</td>\n",
              "      <td>Persian Restaurant</td>\n",
              "      <td>Tajrish Grand Bazaar</td>\n",
              "      <td>Hammam Dogholoo Aly.</td>\n",
              "      <td>35.805183</td>\n",
              "      <td>51.430803</td>\n",
              "      <td>[{'label': 'display', 'lat': 35.80518269459799...</td>\n",
              "      <td>269</td>\n",
              "      <td>IR</td>\n",
              "      <td>تهران</td>\n",
              "      <td>تهران</td>\n",
              "      <td>ایران</td>\n",
              "      <td>[Tajrish Grand Bazaar (Hammam Dogholoo Aly.), ...</td>\n",
              "      <td>NaN</td>\n",
              "      <td>NaN</td>\n",
              "      <td>52a1db5b11d2334522301d19</td>\n",
              "    </tr>\n",
              "  </tbody>\n",
              "</table>\n",
              "</div>"
            ],
            "text/plain": [
              "                                                name  ...                        id\n",
              "0  Rebelan Cafe & Restaurant | کافه و رستوران ربل...  ...  5bc0cb46ccad6b002ca5db2e\n",
              "1  Rouhi Café & Restaurant | کافه رستوران روحی (ک...  ...  5c2798ecf05ca8002d832e82\n",
              "2  Baghcheh Traditional Restaurant | رستوران سنتی...  ...  52a1db5b11d2334522301d19\n",
              "\n",
              "[3 rows x 16 columns]"
            ]
          },
          "metadata": {
            "tags": []
          },
          "execution_count": 25
        }
      ]
    },
    {
      "cell_type": "markdown",
      "metadata": {
        "button": false,
        "new_sheet": false,
        "run_control": {
          "read_only": false
        },
        "id": "qcevpzxlFnlK"
      },
      "source": [
        "#### Let's visualize the restaurants that are nearby\n"
      ]
    },
    {
      "cell_type": "code",
      "metadata": {
        "button": false,
        "jupyter": {
          "outputs_hidden": false
        },
        "new_sheet": false,
        "run_control": {
          "read_only": false
        },
        "id": "8KB55EqjFnlK",
        "outputId": "cf542b67-c6f8-4828-d245-f6d7d56262e9",
        "colab": {
          "base_uri": "https://localhost:8080/"
        }
      },
      "source": [
        "dataframe_filtered.name"
      ],
      "execution_count": 26,
      "outputs": [
        {
          "output_type": "execute_result",
          "data": {
            "text/plain": [
              "0     Rebelan Cafe & Restaurant | کافه و رستوران ربل...\n",
              "1     Rouhi Café & Restaurant | کافه رستوران روحی (ک...\n",
              "2     Baghcheh Traditional Restaurant | رستوران سنتی...\n",
              "3       Foloot Restaurant | رستوران فلوت (رستوران فلوت)\n",
              "4     Buono Italian Restaurant (رستوران ایتالیایی بونو)\n",
              "5                                      Valak Restaurant\n",
              "6     Part Café & Restaurant | کافه رستوران پارت (کا...\n",
              "7     Bam-e Sabz Café & Restaurant (کافه رستوران بام...\n",
              "8     Hafezieh Restaurant | رستوران حافظیه (رستوران ...\n",
              "9     Part cafe & Restaurant & Hooka Lounge / كافه ر...\n",
              "10                 Atorina Restaurant | رستوران آتورینا\n",
              "11    Le Chatean French Restaurant (رستوران فرانسوی ...\n",
              "12                         Tajrasht Café And Restaurant\n",
              "13                   Dalloon Restaurant | رستوران دالون\n",
              "14    Restaurant Gallery Bame Shemroon‎ | رستوران گا...\n",
              "15                             Hoodad cafe & restaurant\n",
              "16                      رستوران دنیز | Deniz Restaurant\n",
              "17                                  Bazarche Restaurant\n",
              "18                 رستوران شميران | Shemiran Restaurant\n",
              "19                    Sasha Fried Chicken Restaurant  ‌\n",
              "20                 Qashqayi Restaurant | رستوران قشقایی\n",
              "21                رستوارن شمشيري | Shamshiri Restaurant\n",
              "22                    Timche Restaurant | رستوران تيمچه\n",
              "23    Siavash Traditional Restaurant | سفره خانه سنت...\n",
              "24                                    Rezvan Restaurant\n",
              "25                 Aturina Restaurant | رستوران آتورینا\n",
              "26                      sadra restaurant | رستوران صدرا\n",
              "27                                  Heeva | هیوا (هیوا)\n",
              "28                     Jelveh Restaurant | رستوران جلوه\n",
              "29                            Saran (کافه رستوران سران)\n",
              "Name: name, dtype: object"
            ]
          },
          "metadata": {
            "tags": []
          },
          "execution_count": 26
        }
      ]
    },
    {
      "cell_type": "code",
      "metadata": {
        "button": false,
        "jupyter": {
          "outputs_hidden": false
        },
        "new_sheet": false,
        "run_control": {
          "read_only": false
        },
        "scrolled": true,
        "id": "nnOrrfRmFnlO",
        "outputId": "eca0047d-4a5f-4984-8d63-77660ec67b36",
        "colab": {
          "base_uri": "https://localhost:8080/",
          "height": 814
        }
      },
      "source": [
        "venues_map = folium.Map(location=[latitude, longitude], zoom_start=16) # generate map centred around the Tajrish square\n",
        "\n",
        "# add a red circle marker to represent the Tajrish square\n",
        "folium.CircleMarker(\n",
        "    [latitude, longitude],\n",
        "    radius=10,\n",
        "    color='red',\n",
        "    popup='Conrad Hotel',\n",
        "    fill = True,\n",
        "    fill_color = 'red',\n",
        "    fill_opacity = 0.6\n",
        ").add_to(venues_map)\n",
        "\n",
        "# add the Italian restaurants as blue circle markers\n",
        "for lat, lng, label in zip(dataframe_filtered.lat, dataframe_filtered.lng, dataframe_filtered.categories):\n",
        "    folium.CircleMarker(\n",
        "        [lat, lng],\n",
        "        radius=5,\n",
        "        color='blue',\n",
        "        popup=label,\n",
        "        fill = True,\n",
        "        fill_color='blue',\n",
        "        fill_opacity=0.6\n",
        "    ).add_to(venues_map)\n",
        "\n",
        "# display map\n",
        "venues_map"
      ],
      "execution_count": 29,
      "outputs": [
        {
          "output_type": "execute_result",
          "data": {
            "text/html": [
              "<div style=\"width:100%;\"><div style=\"position:relative;width:100%;height:0;padding-bottom:60%;\"><span style=\"color:#565656\">Make this Notebook Trusted to load map: File -> Trust Notebook</span><iframe src=\"about:blank\" style=\"position:absolute;width:100%;height:100%;left:0;top:0;border:none !important;\" data-html=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 onload=\"this.contentDocument.open();this.contentDocument.write(atob(this.getAttribute('data-html')));this.contentDocument.close();\" allowfullscreen webkitallowfullscreen mozallowfullscreen></iframe></div></div>"
            ],
            "text/plain": [
              "<folium.folium.Map at 0x7f40ca35bc88>"
            ]
          },
          "metadata": {
            "tags": []
          },
          "execution_count": 29
        }
      ]
    },
    {
      "cell_type": "markdown",
      "metadata": {
        "button": false,
        "new_sheet": false,
        "run_control": {
          "read_only": false
        },
        "id": "5xJJgocbFnlT"
      },
      "source": [
        "\n"
      ]
    },
    {
      "cell_type": "markdown",
      "metadata": {
        "button": false,
        "new_sheet": false,
        "run_control": {
          "read_only": false
        },
        "id": "uYzD3xUkFnlU"
      },
      "source": [
        "<a id=\"item2\"></a>\n"
      ]
    },
    {
      "cell_type": "markdown",
      "metadata": {
        "button": false,
        "new_sheet": false,
        "run_control": {
          "read_only": false
        },
        "id": "dndBkGfRFnlV"
      },
      "source": [
        "## 2. Explore a Given Venue\n",
        "\n",
        "> `https://api.foursquare.com/v2/venues/`**VENUE_ID**`?client_id=`**CLIENT_ID**`&client_secret=`**CLIENT_SECRET**`&v=`**VERSION**\n"
      ]
    },
    {
      "cell_type": "markdown",
      "metadata": {
        "button": false,
        "new_sheet": false,
        "run_control": {
          "read_only": false
        },
        "id": "z7rOdupQFnlW"
      },
      "source": [
        "### A. Let's explore a restaurant\n"
      ]
    },
    {
      "cell_type": "code",
      "metadata": {
        "button": false,
        "jupyter": {
          "outputs_hidden": false
        },
        "new_sheet": false,
        "run_control": {
          "read_only": false
        },
        "id": "GrxYQXNOFnlW",
        "outputId": "e4b1abcb-2b0d-448b-f766-67a2b4a6b877",
        "colab": {
          "base_uri": "https://localhost:8080/",
          "height": 53
        }
      },
      "source": [
        "venue_id = '5bc0cb46ccad6b002ca5db2e' # ID of Harry's Italian Pizza Bar\n",
        "url = 'https://api.foursquare.com/v2/venues/{}?client_id={}&client_secret={}&v={}'.format(venue_id, CLIENT_ID, CLIENT_SECRET, VERSION)\n",
        "url"
      ],
      "execution_count": 31,
      "outputs": [
        {
          "output_type": "execute_result",
          "data": {
            "application/vnd.google.colaboratory.intrinsic+json": {
              "type": "string"
            },
            "text/plain": [
              "'https://api.foursquare.com/v2/venues/5bc0cb46ccad6b002ca5db2e?client_id=RZ4H2M3IIHZWWXT0LEQQL44UT5DQITVYQY3GLIWFWIDV3NDR&client_secret=KNGLLHDYW5HPZ5VR4BMFUIW1S1OUDRUX3C13533QP2IKGWN3&v=20201106'"
            ]
          },
          "metadata": {
            "tags": []
          },
          "execution_count": 31
        }
      ]
    },
    {
      "cell_type": "markdown",
      "metadata": {
        "button": false,
        "new_sheet": false,
        "run_control": {
          "read_only": false
        },
        "id": "sKbJZq_UFnlb"
      },
      "source": [
        "#### Send GET request for result\n"
      ]
    },
    {
      "cell_type": "code",
      "metadata": {
        "button": false,
        "jupyter": {
          "outputs_hidden": false
        },
        "new_sheet": false,
        "run_control": {
          "read_only": false
        },
        "id": "-KWkAnrkFnlc",
        "outputId": "bb1a277b-bff0-4e32-f878-5f80c4838eff",
        "colab": {
          "base_uri": "https://localhost:8080/"
        }
      },
      "source": [
        "result = requests.get(url).json()\n",
        "print(result['response']['venue'].keys())"
      ],
      "execution_count": 32,
      "outputs": [
        {
          "output_type": "stream",
          "text": [
            "dict_keys(['id', 'name', 'contact', 'location', 'canonicalUrl', 'categories', 'verified', 'stats', 'price', 'likes', 'dislike', 'ok', 'rating', 'ratingColor', 'ratingSignals', 'allowMenuUrlEdit', 'beenHere', 'specials', 'photos', 'reasons', 'hereNow', 'createdAt', 'tips', 'shortUrl', 'timeZone', 'listed', 'hours', 'popular', 'seasonalHours', 'defaultHours', 'pageUpdates', 'inbox', 'parent', 'hierarchy', 'attributes', 'bestPhoto', 'colors'])\n"
          ],
          "name": "stdout"
        }
      ]
    },
    {
      "cell_type": "markdown",
      "metadata": {
        "button": false,
        "new_sheet": false,
        "run_control": {
          "read_only": false
        },
        "id": "yOxLuSj9Fnlf"
      },
      "source": [
        "### B. Get the venue's overall rating\n"
      ]
    },
    {
      "cell_type": "code",
      "metadata": {
        "button": false,
        "jupyter": {
          "outputs_hidden": false
        },
        "new_sheet": false,
        "run_control": {
          "read_only": false
        },
        "id": "k9ggOa1iFnlg",
        "outputId": "d50783b0-cf9f-4724-bc2b-7c06de359db5",
        "colab": {
          "base_uri": "https://localhost:8080/"
        }
      },
      "source": [
        "try:\n",
        "    print(result['response']['venue']['rating'])\n",
        "except:\n",
        "    print('This venue has not been rated yet.')"
      ],
      "execution_count": 33,
      "outputs": [
        {
          "output_type": "stream",
          "text": [
            "7.6\n"
          ],
          "name": "stdout"
        }
      ]
    },
    {
      "cell_type": "markdown",
      "metadata": {
        "button": false,
        "new_sheet": false,
        "run_control": {
          "read_only": false
        },
        "id": "GFmZQirkFnlw"
      },
      "source": [
        "### C. Get the number of tips\n"
      ]
    },
    {
      "cell_type": "code",
      "metadata": {
        "button": false,
        "jupyter": {
          "outputs_hidden": false
        },
        "new_sheet": false,
        "run_control": {
          "read_only": false
        },
        "id": "ktF45XrwFnlx",
        "outputId": "65980fd8-42de-4433-ce75-6b9c8833cc57",
        "colab": {
          "base_uri": "https://localhost:8080/"
        }
      },
      "source": [
        "result['response']['venue']['tips']['count']"
      ],
      "execution_count": 34,
      "outputs": [
        {
          "output_type": "execute_result",
          "data": {
            "text/plain": [
              "62"
            ]
          },
          "metadata": {
            "tags": []
          },
          "execution_count": 34
        }
      ]
    },
    {
      "cell_type": "markdown",
      "metadata": {
        "button": false,
        "new_sheet": false,
        "run_control": {
          "read_only": false
        },
        "id": "MbcXhdvaFnl2"
      },
      "source": [
        "### D. Get the venue's tips\n",
        "\n",
        "> `https://api.foursquare.com/v2/venues/`**VENUE_ID**`/tips?client_id=`**CLIENT_ID**`&client_secret=`**CLIENT_SECRET**`&v=`**VERSION**`&limit=`**LIMIT**\n"
      ]
    },
    {
      "cell_type": "markdown",
      "metadata": {
        "button": false,
        "new_sheet": false,
        "run_control": {
          "read_only": false
        },
        "id": "n7cI--wYFnl3"
      },
      "source": [
        "#### Create URL and send GET request. Make sure to set limit to get all tips\n"
      ]
    },
    {
      "cell_type": "code",
      "metadata": {
        "button": false,
        "jupyter": {
          "outputs_hidden": false
        },
        "new_sheet": false,
        "run_control": {
          "read_only": false
        },
        "id": "l-6Aait1Fnl5"
      },
      "source": [
        "## Ecco Tips\n",
        "limit = 5 # set limit to be greater than or equal to the total number of tips\n",
        "url = 'https://api.foursquare.com/v2/venues/{}/tips?client_id={}&client_secret={}&v={}&limit={}'.format(venue_id, CLIENT_ID, CLIENT_SECRET, VERSION, limit)\n",
        "\n",
        "results = requests.get(url).json()"
      ],
      "execution_count": 48,
      "outputs": []
    },
    {
      "cell_type": "markdown",
      "metadata": {
        "button": false,
        "new_sheet": false,
        "run_control": {
          "read_only": false
        },
        "id": "_JThrFvvFnl8"
      },
      "source": [
        "#### Get tips and list of associated features\n"
      ]
    },
    {
      "cell_type": "code",
      "metadata": {
        "button": false,
        "jupyter": {
          "outputs_hidden": false
        },
        "new_sheet": false,
        "run_control": {
          "read_only": false
        },
        "id": "katDyxyfFnl9",
        "outputId": "09f62f57-2801-4072-9482-5163ff64d364",
        "colab": {
          "base_uri": "https://localhost:8080/"
        }
      },
      "source": [
        "tips = results['response']['tips']['items']\n",
        "print(len(tips))\n",
        "tip = results['response']['tips']['items'][0]\n",
        "tip.keys()"
      ],
      "execution_count": 49,
      "outputs": [
        {
          "output_type": "stream",
          "text": [
            "1\n"
          ],
          "name": "stdout"
        },
        {
          "output_type": "execute_result",
          "data": {
            "text/plain": [
              "dict_keys(['id', 'createdAt', 'text', 'type', 'canonicalUrl', 'photo', 'photourl', 'lang', 'likes', 'logView', 'agreeCount', 'disagreeCount', 'todo', 'user', 'authorInteractionType'])"
            ]
          },
          "metadata": {
            "tags": []
          },
          "execution_count": 49
        }
      ]
    },
    {
      "cell_type": "markdown",
      "metadata": {
        "button": false,
        "new_sheet": false,
        "run_control": {
          "read_only": false
        },
        "id": "nUEJCktXFnmB"
      },
      "source": [
        "#### Format column width and display all tips\n"
      ]
    },
    {
      "cell_type": "code",
      "metadata": {
        "button": false,
        "jupyter": {
          "outputs_hidden": false
        },
        "new_sheet": false,
        "run_control": {
          "read_only": false
        },
        "id": "pZ4FX_AZFnmB",
        "outputId": "cf47b03f-7091-4d93-b59b-bcf4773ebf3c",
        "colab": {
          "base_uri": "https://localhost:8080/",
          "height": 150
        }
      },
      "source": [
        "pd.set_option('display.max_colwidth', -1)\n",
        "\n",
        "tips_df = json_normalize(tips) # json normalize tips\n",
        "\n",
        "# columns to keep\n",
        "filtered_columns = ['text', 'agreeCount', 'disagreeCount', 'id', 'user.firstName', 'user.id']\n",
        "tips_filtered = tips_df.loc[:, filtered_columns]\n",
        "\n",
        "# display tips\n",
        "tips_filtered.reindex()"
      ],
      "execution_count": 52,
      "outputs": [
        {
          "output_type": "stream",
          "text": [
            "/usr/local/lib/python3.6/dist-packages/ipykernel_launcher.py:1: FutureWarning: Passing a negative integer is deprecated in version 1.0 and will not be supported in future version. Instead, use None to not limit the column width.\n",
            "  \"\"\"Entry point for launching an IPython kernel.\n"
          ],
          "name": "stderr"
        },
        {
          "output_type": "execute_result",
          "data": {
            "text/html": [
              "<div>\n",
              "<style scoped>\n",
              "    .dataframe tbody tr th:only-of-type {\n",
              "        vertical-align: middle;\n",
              "    }\n",
              "\n",
              "    .dataframe tbody tr th {\n",
              "        vertical-align: top;\n",
              "    }\n",
              "\n",
              "    .dataframe thead th {\n",
              "        text-align: right;\n",
              "    }\n",
              "</style>\n",
              "<table border=\"1\" class=\"dataframe\">\n",
              "  <thead>\n",
              "    <tr style=\"text-align: right;\">\n",
              "      <th></th>\n",
              "      <th>text</th>\n",
              "      <th>agreeCount</th>\n",
              "      <th>disagreeCount</th>\n",
              "      <th>id</th>\n",
              "      <th>user.firstName</th>\n",
              "      <th>user.id</th>\n",
              "    </tr>\n",
              "  </thead>\n",
              "  <tbody>\n",
              "    <tr>\n",
              "      <th>0</th>\n",
              "      <td>جای رستوران الیزه باز شده. فضاش فوق العادست و یه اتاق آینه تماشایی هم داره. مشخصا خیلی هزینه دکوراسیون اینجا و سقف های متحرکش شده و در نتیجه قیمت ها بالاست ولی حتما ارزش یک بار رفتنو داره</td>\n",
              "      <td>12</td>\n",
              "      <td>0</td>\n",
              "      <td>5c3a083d4c9be6002c0d6fb0</td>\n",
              "      <td>Alireza</td>\n",
              "      <td>77983309</td>\n",
              "    </tr>\n",
              "  </tbody>\n",
              "</table>\n",
              "</div>"
            ],
            "text/plain": [
              "                                                                                                                                                                                          text  ...   user.id\n",
              "0  جای رستوران الیزه باز شده. فضاش فوق العادست و یه اتاق آینه تماشایی هم داره. مشخصا خیلی هزینه دکوراسیون اینجا و سقف های متحرکش شده و در نتیجه قیمت ها بالاست ولی حتما ارزش یک بار رفتنو داره  ...  77983309\n",
              "\n",
              "[1 rows x 6 columns]"
            ]
          },
          "metadata": {
            "tags": []
          },
          "execution_count": 52
        }
      ]
    },
    {
      "cell_type": "markdown",
      "metadata": {
        "button": false,
        "new_sheet": false,
        "run_control": {
          "read_only": false
        },
        "id": "godkbYieFnmO"
      },
      "source": [
        "Now remember that because we are using a personal developer account, then we can access only 2 of the restaurant's tips, instead of all tips.\n"
      ]
    },
    {
      "cell_type": "markdown",
      "metadata": {
        "button": false,
        "new_sheet": false,
        "run_control": {
          "read_only": false
        },
        "id": "oclP6iHYFnmP"
      },
      "source": [
        "\n"
      ]
    },
    {
      "cell_type": "markdown",
      "metadata": {
        "button": false,
        "new_sheet": false,
        "run_control": {
          "read_only": false
        },
        "id": "EaHkKHtcFnmP"
      },
      "source": [
        "<a id=\"item3\"></a>\n"
      ]
    },
    {
      "cell_type": "markdown",
      "metadata": {
        "button": false,
        "new_sheet": false,
        "run_control": {
          "read_only": false
        },
        "id": "Xc2h2sO9FnmQ"
      },
      "source": [
        "## 3. Search a Foursquare User\n",
        "\n",
        "> `https://api.foursquare.com/v2/users/`**USER_ID**`?client_id=`**CLIENT_ID**`&client_secret=`**CLIENT_SECRET**`&v=`**VERSION**\n"
      ]
    },
    {
      "cell_type": "markdown",
      "metadata": {
        "button": false,
        "new_sheet": false,
        "run_control": {
          "read_only": false
        },
        "id": "HEWNnscIFnmR"
      },
      "source": [
        "### Define URL, send GET request and display features associated with user\n"
      ]
    },
    {
      "cell_type": "code",
      "metadata": {
        "button": false,
        "jupyter": {
          "outputs_hidden": false
        },
        "new_sheet": false,
        "run_control": {
          "read_only": false
        },
        "id": "YdsO__pxFnmS",
        "outputId": "7579d508-a0a3-4f58-dd41-cd2d7ee31fec",
        "colab": {
          "base_uri": "https://localhost:8080/"
        }
      },
      "source": [
        "idnumber = '77983309' # user ID with most agree counts and complete profile\n",
        "\n",
        "url = 'https://api.foursquare.com/v2/users/{}/tips?client_id={}&client_secret={}&v={}'.format(idnumber, CLIENT_ID, CLIENT_SECRET, VERSION) # define URL\n",
        "\n",
        "# send GET request\n",
        "results = requests.get(url).json()\n",
        "user_data = results['response']['tips']['count']\n",
        "#user_data=results['response']['tips']['items'][0]['venue']['photos']['groups'][0]['items']#['items']\n",
        "# display features associated with user\n",
        "print('total number of user tips = ', user_data)\n"
      ],
      "execution_count": 95,
      "outputs": [
        {
          "output_type": "stream",
          "text": [
            "total number of user tips =  2250\n"
          ],
          "name": "stdout"
        }
      ]
    },
    {
      "cell_type": "markdown",
      "metadata": {
        "id": "tIFdcTRBavJF"
      },
      "source": [
        "well that's a lot!"
      ]
    },
    {
      "cell_type": "markdown",
      "metadata": {
        "button": false,
        "new_sheet": false,
        "run_control": {
          "read_only": false
        },
        "id": "X1wt8NT3Fnmg"
      },
      "source": [
        "### Get User's tips\n"
      ]
    },
    {
      "cell_type": "code",
      "metadata": {
        "button": false,
        "jupyter": {
          "outputs_hidden": false
        },
        "new_sheet": false,
        "run_control": {
          "read_only": false
        },
        "id": "J6dczIb1Fnmg",
        "outputId": "684cd646-6f13-4bd9-d708-63993b1f9215",
        "colab": {
          "base_uri": "https://localhost:8080/",
          "height": 621
        }
      },
      "source": [
        "# define tips URL\n",
        "user_id='77983309'\n",
        "limit = 1000\n",
        "url = 'https://api.foursquare.com/v2/users/{}/tips?client_id={}&client_secret={}&v={}&limit={}'.format(user_id, CLIENT_ID, CLIENT_SECRET, VERSION, limit)\n",
        "\n",
        "# send GET request and get user's tips\n",
        "results = requests.get(url).json()\n",
        "tips = results['response']['tips']['items']\n",
        "\n",
        "# format column width\n",
        "pd.set_option('display.max_colwidth', -1)\n",
        "\n",
        "tips_df = json_normalize(tips)\n",
        "\n",
        "# filter columns\n",
        "filtered_columns = ['text', 'agreeCount', 'disagreeCount', 'id', 'venue.name']\n",
        "tips_filtered = tips_df.loc[:, filtered_columns]\n",
        "\n",
        "# display user's tips\n",
        "print(tips_filtered.shape)\n",
        "tips_filtered.head()"
      ],
      "execution_count": 101,
      "outputs": [
        {
          "output_type": "stream",
          "text": [
            "/usr/local/lib/python3.6/dist-packages/ipykernel_launcher.py:11: FutureWarning: Passing a negative integer is deprecated in version 1.0 and will not be supported in future version. Instead, use None to not limit the column width.\n",
            "  # This is added back by InteractiveShellApp.init_path()\n"
          ],
          "name": "stderr"
        },
        {
          "output_type": "stream",
          "text": [
            "(500, 5)\n"
          ],
          "name": "stdout"
        },
        {
          "output_type": "execute_result",
          "data": {
            "text/html": [
              "<div>\n",
              "<style scoped>\n",
              "    .dataframe tbody tr th:only-of-type {\n",
              "        vertical-align: middle;\n",
              "    }\n",
              "\n",
              "    .dataframe tbody tr th {\n",
              "        vertical-align: top;\n",
              "    }\n",
              "\n",
              "    .dataframe thead th {\n",
              "        text-align: right;\n",
              "    }\n",
              "</style>\n",
              "<table border=\"1\" class=\"dataframe\">\n",
              "  <thead>\n",
              "    <tr style=\"text-align: right;\">\n",
              "      <th></th>\n",
              "      <th>text</th>\n",
              "      <th>agreeCount</th>\n",
              "      <th>disagreeCount</th>\n",
              "      <th>id</th>\n",
              "      <th>venue.name</th>\n",
              "    </tr>\n",
              "  </thead>\n",
              "  <tbody>\n",
              "    <tr>\n",
              "      <th>0</th>\n",
              "      <td>طبق گفته راهنما بنا حول و روی تپه خاکی موجود ساخته شده، هیچ طبقه‌ای بر روی طبقه پایین‌تر قرار نگرفته و اتاق ها تنها در طبقه همکف واقع هستند. زیگورات فاقد هرگونه اتاق مخفی یا چیز شبیه آن در داخل است</td>\n",
              "      <td>6</td>\n",
              "      <td>0</td>\n",
              "      <td>5e44143731456200066b86c7</td>\n",
              "      <td>Chogha Zanbil Ziggurat | زیگورات چغازنبیل (زیگورات چغازنبیل)</td>\n",
              "    </tr>\n",
              "    <tr>\n",
              "      <th>1</th>\n",
              "      <td>تا قبل از اکتشاف، زیگورات به صورت کامل در زیر خاک مدفون بوده. تمام آجرچینی‌های مرتب مربوط به بعد از اکتشاف توسط رومن گیرشمن باستان‌شناس فرانسوی است و دیوارهای بازسازی نشده در طبقات بالا قابل تمایز است</td>\n",
              "      <td>3</td>\n",
              "      <td>0</td>\n",
              "      <td>5e441223bb09a70006e54d6b</td>\n",
              "      <td>Chogha Zanbil Ziggurat | زیگورات چغازنبیل (زیگورات چغازنبیل)</td>\n",
              "    </tr>\n",
              "    <tr>\n",
              "      <th>2</th>\n",
              "      <td>جکی فرنچ فرایز خوب نپخته بود و نه خودش و نه سسش جالب نبود. گارلیک چیزشف خوب ولی با سس گوجه کارخانه‌ای. جای نشستن در پیاده رو است و بیشتر به درد گرفتن و بردن می خورد. سرویس دهی ضعیف</td>\n",
              "      <td>4</td>\n",
              "      <td>0</td>\n",
              "      <td>5e3f815a60dabe00068a9f05</td>\n",
              "      <td>Pelak Restaurant | رستوران پلاک (رستوران پلاک)</td>\n",
              "    </tr>\n",
              "    <tr>\n",
              "      <th>3</th>\n",
              "      <td>شوخی غذای سالم را نادیده بگیرید و به چشم یک فست فود کمی متفاوت بهش نگاه کنید. منویشان تصویری است با توضیحات کافی ولی بدون قیمت که مجبورتان می کند یکی یکی قیمت‌ها را بپرسید.</td>\n",
              "      <td>4</td>\n",
              "      <td>0</td>\n",
              "      <td>5e3f7ea8314562000665afe3</td>\n",
              "      <td>Pelak Restaurant | رستوران پلاک (رستوران پلاک)</td>\n",
              "    </tr>\n",
              "    <tr>\n",
              "      <th>4</th>\n",
              "      <td>معمار این اثر متفاوت و زیبا رضا دانشمیر است. البته با تبدیل اخیر تمام فضاهای خالی مجموعه به سالن جدید، طراحی اولیه او را عوض کرده اند. آواسنتر اقدسیه و مسجد ناتمام مجاور تئاتر شهر از دیگر آثار اوست.</td>\n",
              "      <td>3</td>\n",
              "      <td>0</td>\n",
              "      <td>5e3edfc73145620006bf0c57</td>\n",
              "      <td>Mellat Cinema Complex | پردیس سینما گالری ملت (پردیس سینما گالری ملت)</td>\n",
              "    </tr>\n",
              "  </tbody>\n",
              "</table>\n",
              "</div>"
            ],
            "text/plain": [
              "                                                                                                                                                                                                       text  ...                                                             venue.name\n",
              "0  طبق گفته راهنما بنا حول و روی تپه خاکی موجود ساخته شده، هیچ طبقه‌ای بر روی طبقه پایین‌تر قرار نگرفته و اتاق ها تنها در طبقه همکف واقع هستند. زیگورات فاقد هرگونه اتاق مخفی یا چیز شبیه آن در داخل است     ...  Chogha Zanbil Ziggurat | زیگورات چغازنبیل (زیگورات چغازنبیل)         \n",
              "1  تا قبل از اکتشاف، زیگورات به صورت کامل در زیر خاک مدفون بوده. تمام آجرچینی‌های مرتب مربوط به بعد از اکتشاف توسط رومن گیرشمن باستان‌شناس فرانسوی است و دیوارهای بازسازی نشده در طبقات بالا قابل تمایز است  ...  Chogha Zanbil Ziggurat | زیگورات چغازنبیل (زیگورات چغازنبیل)         \n",
              "2  جکی فرنچ فرایز خوب نپخته بود و نه خودش و نه سسش جالب نبود. گارلیک چیزشف خوب ولی با سس گوجه کارخانه‌ای. جای نشستن در پیاده رو است و بیشتر به درد گرفتن و بردن می خورد. سرویس دهی ضعیف                      ...  Pelak Restaurant | رستوران پلاک (رستوران پلاک)                       \n",
              "3  شوخی غذای سالم را نادیده بگیرید و به چشم یک فست فود کمی متفاوت بهش نگاه کنید. منویشان تصویری است با توضیحات کافی ولی بدون قیمت که مجبورتان می کند یکی یکی قیمت‌ها را بپرسید.                              ...  Pelak Restaurant | رستوران پلاک (رستوران پلاک)                       \n",
              "4  معمار این اثر متفاوت و زیبا رضا دانشمیر است. البته با تبدیل اخیر تمام فضاهای خالی مجموعه به سالن جدید، طراحی اولیه او را عوض کرده اند. آواسنتر اقدسیه و مسجد ناتمام مجاور تئاتر شهر از دیگر آثار اوست.    ...  Mellat Cinema Complex | پردیس سینما گالری ملت (پردیس سینما گالری ملت)\n",
              "\n",
              "[5 rows x 5 columns]"
            ]
          },
          "metadata": {
            "tags": []
          },
          "execution_count": 101
        }
      ]
    },
    {
      "cell_type": "markdown",
      "metadata": {
        "button": false,
        "new_sheet": false,
        "run_control": {
          "read_only": false
        },
        "id": "auyvuHaJFnmk"
      },
      "source": [
        "#### Let's get the venue for the tip with the greatest number of agree counts\n"
      ]
    },
    {
      "cell_type": "code",
      "metadata": {
        "id": "NZM1xqh3cjRE",
        "outputId": "614d4702-d656-4b07-ea95-9e6ece9658f8",
        "colab": {
          "base_uri": "https://localhost:8080/",
          "height": 287
        }
      },
      "source": [
        "tips_sorted = tips_filtered.sort_values(by='agreeCount', ascending=False)\n",
        "tips_sorted.reset_index(inplace=True)\n",
        "tips_sorted.head(3)"
      ],
      "execution_count": 112,
      "outputs": [
        {
          "output_type": "execute_result",
          "data": {
            "text/html": [
              "<div>\n",
              "<style scoped>\n",
              "    .dataframe tbody tr th:only-of-type {\n",
              "        vertical-align: middle;\n",
              "    }\n",
              "\n",
              "    .dataframe tbody tr th {\n",
              "        vertical-align: top;\n",
              "    }\n",
              "\n",
              "    .dataframe thead th {\n",
              "        text-align: right;\n",
              "    }\n",
              "</style>\n",
              "<table border=\"1\" class=\"dataframe\">\n",
              "  <thead>\n",
              "    <tr style=\"text-align: right;\">\n",
              "      <th></th>\n",
              "      <th>index</th>\n",
              "      <th>text</th>\n",
              "      <th>agreeCount</th>\n",
              "      <th>disagreeCount</th>\n",
              "      <th>id</th>\n",
              "      <th>venue.name</th>\n",
              "    </tr>\n",
              "  </thead>\n",
              "  <tbody>\n",
              "    <tr>\n",
              "      <th>0</th>\n",
              "      <td>426</td>\n",
              "      <td>A twenty years old blvd dripping with restaurants, fast foods and ice-cream shops that attracts food lovers from all over Tehran and also rich kids who want to boast their luxury cars.</td>\n",
              "      <td>29</td>\n",
              "      <td>1</td>\n",
              "      <td>5ad481833c858d2f75d0dcfe</td>\n",
              "      <td>Andarzgou Boulevard | بلوار اندرزگو (بلوار اندرزگو)</td>\n",
              "    </tr>\n",
              "    <tr>\n",
              "      <th>1</th>\n",
              "      <td>439</td>\n",
              "      <td>There used to be a garden here. All the trees were dried to build this vast mall. It's a sad story that tugs at your heartstrings. Not many objected in fear of the organization that was behind it.</td>\n",
              "      <td>27</td>\n",
              "      <td>0</td>\n",
              "      <td>5a449a6c838e5971b3a3cf96</td>\n",
              "      <td>Tajrish Arg Center | ارگ تجاری تجریش (ارگ تجاری تجریش)</td>\n",
              "    </tr>\n",
              "    <tr>\n",
              "      <th>2</th>\n",
              "      <td>456</td>\n",
              "      <td>این اپ واسه اینه که دیگران در مورد رستوران شما نظر بدن. اینستاگرامم برای شماست که از خودتون تعریف کنید. اینجا رو با پستای تبلیغیتون پر نکنید.</td>\n",
              "      <td>26</td>\n",
              "      <td>1</td>\n",
              "      <td>59b0175dd41bb77d81df040b</td>\n",
              "      <td>Shine International Restaurant | رستوران بین المللی شاین (رستوران بین المللی شاین)</td>\n",
              "    </tr>\n",
              "  </tbody>\n",
              "</table>\n",
              "</div>"
            ],
            "text/plain": [
              "   index  ...                                                                          venue.name\n",
              "0  426    ...  Andarzgou Boulevard | بلوار اندرزگو (بلوار اندرزگو)                               \n",
              "1  439    ...  Tajrish Arg Center | ارگ تجاری تجریش (ارگ تجاری تجریش)                            \n",
              "2  456    ...  Shine International Restaurant | رستوران بین المللی شاین (رستوران بین المللی شاین)\n",
              "\n",
              "[3 rows x 6 columns]"
            ]
          },
          "metadata": {
            "tags": []
          },
          "execution_count": 112
        }
      ]
    },
    {
      "cell_type": "code",
      "metadata": {
        "button": false,
        "jupyter": {
          "outputs_hidden": false
        },
        "new_sheet": false,
        "run_control": {
          "read_only": false
        },
        "id": "Mh2btiWLFnml",
        "outputId": "c5b27297-894a-4bec-f57a-dc58de05272b",
        "colab": {
          "base_uri": "https://localhost:8080/",
          "height": 35
        }
      },
      "source": [
        "tips_sorted.loc[2, 'venue.name']"
      ],
      "execution_count": 114,
      "outputs": [
        {
          "output_type": "execute_result",
          "data": {
            "application/vnd.google.colaboratory.intrinsic+json": {
              "type": "string"
            },
            "text/plain": [
              "'Shine International Restaurant | رستوران بین المللی شاین (رستوران بین المللی شاین)'"
            ]
          },
          "metadata": {
            "tags": []
          },
          "execution_count": 114
        }
      ]
    },
    {
      "cell_type": "markdown",
      "metadata": {
        "button": false,
        "new_sheet": false,
        "run_control": {
          "read_only": false
        },
        "id": "h-Vy7NVnFnmo"
      },
      "source": [
        "## 4. Explore a location\n",
        "\n",
        "> `https://api.foursquare.com/v2/venues/`**explore**`?client_id=`**CLIENT_ID**`&client_secret=`**CLIENT_SECRET**`&ll=`**LATITUDE**`,`**LONGITUDE**`&v=`**VERSION**`&limit=`**LIMIT**\n"
      ]
    },
    {
      "cell_type": "markdown",
      "metadata": {
        "button": false,
        "new_sheet": false,
        "run_control": {
          "read_only": false
        },
        "id": "Jj9AOGtYFnmp"
      },
      "source": [
        "#### So, you just finished your food at restaurant, and are just curious about the popular spots around the restaurant. In order to explore the area, let's start by getting the latitude and longitude values.\n"
      ]
    },
    {
      "cell_type": "code",
      "metadata": {
        "button": false,
        "new_sheet": false,
        "run_control": {
          "read_only": false
        },
        "id": "SidxTz4QFnmq",
        "outputId": "0aa9b9bf-00a1-4d12-f11b-74b6ef4ddfbd",
        "colab": {
          "base_uri": "https://localhost:8080/"
        }
      },
      "source": [
        "address = 'Tajrish square, Tehran, Iran'\n",
        "\n",
        "geolocator = Nominatim(user_agent=\"foursquare_agent\")\n",
        "location = geolocator.geocode(address)\n",
        "print(location.address)\n",
        "latitude = location.latitude\n",
        "longitude = location.longitude\n",
        "print(latitude, longitude)"
      ],
      "execution_count": 115,
      "outputs": [
        {
          "output_type": "stream",
          "text": [
            "میدان تجریش, تجریش, منطقه ۱ شهر تهران, دهستان تجریش, شهرستان شمیرانات, استان تهران, ایران\n",
            "35.806994700000004 51.428815219116515\n"
          ],
          "name": "stdout"
        }
      ]
    },
    {
      "cell_type": "markdown",
      "metadata": {
        "button": false,
        "new_sheet": false,
        "run_control": {
          "read_only": false
        },
        "id": "GKyNasQyFnmt"
      },
      "source": [
        "#### Define URL\n"
      ]
    },
    {
      "cell_type": "code",
      "metadata": {
        "button": false,
        "jupyter": {
          "outputs_hidden": false
        },
        "new_sheet": false,
        "run_control": {
          "read_only": false
        },
        "id": "xAPS8FsyFnmu",
        "outputId": "e4bc650c-5f18-44bf-c6f4-9e322c9289f5",
        "colab": {
          "base_uri": "https://localhost:8080/",
          "height": 53
        }
      },
      "source": [
        "LIMIT = 1000\n",
        "url = 'https://api.foursquare.com/v2/venues/explore?client_id={}&client_secret={}&ll={},{}&v={}&radius={}&limit={}'.format(CLIENT_ID, CLIENT_SECRET, latitude, longitude, VERSION, radius, LIMIT)\n",
        "url"
      ],
      "execution_count": 117,
      "outputs": [
        {
          "output_type": "execute_result",
          "data": {
            "application/vnd.google.colaboratory.intrinsic+json": {
              "type": "string"
            },
            "text/plain": [
              "'https://api.foursquare.com/v2/venues/explore?client_id=RZ4H2M3IIHZWWXT0LEQQL44UT5DQITVYQY3GLIWFWIDV3NDR&client_secret=KNGLLHDYW5HPZ5VR4BMFUIW1S1OUDRUX3C13533QP2IKGWN3&ll=35.806994700000004,51.428815219116515&v=20201106&radius=500&limit=1000'"
            ]
          },
          "metadata": {
            "tags": []
          },
          "execution_count": 117
        }
      ]
    },
    {
      "cell_type": "markdown",
      "metadata": {
        "button": false,
        "new_sheet": false,
        "run_control": {
          "read_only": false
        },
        "id": "fNAVsGx-Fnmy"
      },
      "source": [
        "#### Send GET request and examine results\n"
      ]
    },
    {
      "cell_type": "code",
      "metadata": {
        "button": false,
        "jupyter": {
          "outputs_hidden": false
        },
        "new_sheet": false,
        "run_control": {
          "read_only": false
        },
        "id": "eg4FyOBpFnm4",
        "outputId": "8f48a2a4-1def-42f1-f106-001eb670f520",
        "colab": {
          "base_uri": "https://localhost:8080/",
          "height": 35
        }
      },
      "source": [
        "results = requests.get(url).json()\n",
        "'There are {} around Tajrish.'.format(len(results['response']['groups'][0]['items']))"
      ],
      "execution_count": 118,
      "outputs": [
        {
          "output_type": "execute_result",
          "data": {
            "application/vnd.google.colaboratory.intrinsic+json": {
              "type": "string"
            },
            "text/plain": [
              "'There are 72 around Tajrish.'"
            ]
          },
          "metadata": {
            "tags": []
          },
          "execution_count": 118
        }
      ]
    },
    {
      "cell_type": "markdown",
      "metadata": {
        "button": false,
        "new_sheet": false,
        "run_control": {
          "read_only": false
        },
        "id": "hBz3mCK3FnnA"
      },
      "source": [
        "#### Get relevant part of JSON\n"
      ]
    },
    {
      "cell_type": "code",
      "metadata": {
        "button": false,
        "jupyter": {
          "outputs_hidden": false
        },
        "new_sheet": false,
        "run_control": {
          "read_only": false
        },
        "id": "nWb7M92mFnnB"
      },
      "source": [
        "items = results['response']['groups'][0]['items']"
      ],
      "execution_count": 119,
      "outputs": []
    },
    {
      "cell_type": "markdown",
      "metadata": {
        "button": false,
        "new_sheet": false,
        "run_control": {
          "read_only": false
        },
        "id": "lBm2kzzUFnnE"
      },
      "source": [
        "#### Process JSON and convert it to a clean dataframe\n"
      ]
    },
    {
      "cell_type": "code",
      "metadata": {
        "button": false,
        "jupyter": {
          "outputs_hidden": false
        },
        "new_sheet": false,
        "run_control": {
          "read_only": false
        },
        "id": "M8Rk775EFnnE",
        "outputId": "9a0f6f81-d529-42d4-85d2-d8863ebef271",
        "colab": {
          "base_uri": "https://localhost:8080/",
          "height": 901
        }
      },
      "source": [
        "dataframe = json_normalize(items) # flatten JSON\n",
        "\n",
        "# filter columns\n",
        "filtered_columns = ['venue.name', 'venue.categories'] + [col for col in dataframe.columns if col.startswith('venue.location.')] + ['venue.id']\n",
        "dataframe_filtered = dataframe.loc[:, filtered_columns]\n",
        "\n",
        "# filter the category for each row\n",
        "dataframe_filtered['venue.categories'] = dataframe_filtered.apply(get_category_type, axis=1)\n",
        "\n",
        "# clean columns\n",
        "dataframe_filtered.columns = [col.split('.')[-1] for col in dataframe_filtered.columns]\n",
        "\n",
        "dataframe_filtered.head(10)"
      ],
      "execution_count": 120,
      "outputs": [
        {
          "output_type": "execute_result",
          "data": {
            "text/html": [
              "<div>\n",
              "<style scoped>\n",
              "    .dataframe tbody tr th:only-of-type {\n",
              "        vertical-align: middle;\n",
              "    }\n",
              "\n",
              "    .dataframe tbody tr th {\n",
              "        vertical-align: top;\n",
              "    }\n",
              "\n",
              "    .dataframe thead th {\n",
              "        text-align: right;\n",
              "    }\n",
              "</style>\n",
              "<table border=\"1\" class=\"dataframe\">\n",
              "  <thead>\n",
              "    <tr style=\"text-align: right;\">\n",
              "      <th></th>\n",
              "      <th>name</th>\n",
              "      <th>categories</th>\n",
              "      <th>address</th>\n",
              "      <th>lat</th>\n",
              "      <th>lng</th>\n",
              "      <th>labeledLatLngs</th>\n",
              "      <th>distance</th>\n",
              "      <th>cc</th>\n",
              "      <th>city</th>\n",
              "      <th>state</th>\n",
              "      <th>country</th>\n",
              "      <th>formattedAddress</th>\n",
              "      <th>crossStreet</th>\n",
              "      <th>neighborhood</th>\n",
              "      <th>postalCode</th>\n",
              "      <th>id</th>\n",
              "    </tr>\n",
              "  </thead>\n",
              "  <tbody>\n",
              "    <tr>\n",
              "      <th>0</th>\n",
              "      <td>Tajrish Bazaar | بازار تجریش (بازار تجریش)</td>\n",
              "      <td>Market</td>\n",
              "      <td>Tajrish Sq.</td>\n",
              "      <td>35.805868</td>\n",
              "      <td>51.429956</td>\n",
              "      <td>[{'label': 'display', 'lat': 35.80586762169362, 'lng': 51.42995589642485}]</td>\n",
              "      <td>162</td>\n",
              "      <td>IR</td>\n",
              "      <td>تهران</td>\n",
              "      <td>تهران</td>\n",
              "      <td>ایران</td>\n",
              "      <td>[Tajrish Sq., تهران, تهران, ایران]</td>\n",
              "      <td>NaN</td>\n",
              "      <td>NaN</td>\n",
              "      <td>NaN</td>\n",
              "      <td>50336c50e4b002cea0e87182</td>\n",
              "    </tr>\n",
              "    <tr>\n",
              "      <th>1</th>\n",
              "      <td>Astara Movie Theater | سینما آستارا (سینما آستارا)</td>\n",
              "      <td>Multiplex</td>\n",
              "      <td>Tajrish</td>\n",
              "      <td>35.806421</td>\n",
              "      <td>51.431039</td>\n",
              "      <td>[{'label': 'display', 'lat': 35.80642050992581, 'lng': 51.43103868717868}]</td>\n",
              "      <td>210</td>\n",
              "      <td>IR</td>\n",
              "      <td>تهران</td>\n",
              "      <td>تهران</td>\n",
              "      <td>ایران</td>\n",
              "      <td>[Tajrish, تهران, تهران, ایران]</td>\n",
              "      <td>NaN</td>\n",
              "      <td>NaN</td>\n",
              "      <td>NaN</td>\n",
              "      <td>597306a046e1b64b6b5fd229</td>\n",
              "    </tr>\n",
              "    <tr>\n",
              "      <th>2</th>\n",
              "      <td>Tajrish Square | میدان تجریش (میدان تجریش)</td>\n",
              "      <td>Plaza</td>\n",
              "      <td>NaN</td>\n",
              "      <td>35.806680</td>\n",
              "      <td>51.429233</td>\n",
              "      <td>[{'label': 'display', 'lat': 35.80667999426187, 'lng': 51.429233045949005}]</td>\n",
              "      <td>51</td>\n",
              "      <td>IR</td>\n",
              "      <td>تهران</td>\n",
              "      <td>تهران</td>\n",
              "      <td>ایران</td>\n",
              "      <td>[Valiasr Ave., تهران, تهران, ایران]</td>\n",
              "      <td>NaN</td>\n",
              "      <td>NaN</td>\n",
              "      <td>NaN</td>\n",
              "      <td>4f1aaf99e4b0f67a95e996dc</td>\n",
              "    </tr>\n",
              "    <tr>\n",
              "      <th>3</th>\n",
              "      <td>Shemroon Kabab House | کبابسرای شمرون (کبابسرای شمرون)</td>\n",
              "      <td>Persian Restaurant</td>\n",
              "      <td>Tajrish Sq.</td>\n",
              "      <td>35.806959</td>\n",
              "      <td>51.429765</td>\n",
              "      <td>[{'label': 'display', 'lat': 35.80695939250296, 'lng': 51.42976462841034}]</td>\n",
              "      <td>85</td>\n",
              "      <td>IR</td>\n",
              "      <td>تهران</td>\n",
              "      <td>تهران</td>\n",
              "      <td>ایران</td>\n",
              "      <td>[Tajrish Sq. (North East of Tajrish Sq.), تهران, تهران, ایران]</td>\n",
              "      <td>North East of Tajrish Sq.</td>\n",
              "      <td>NaN</td>\n",
              "      <td>NaN</td>\n",
              "      <td>50939f15e4b0b6c7168dfde1</td>\n",
              "    </tr>\n",
              "    <tr>\n",
              "      <th>4</th>\n",
              "      <td>GEOX | ج اوکس (ج اوکس)</td>\n",
              "      <td>Shoe Store</td>\n",
              "      <td>-1st Fl., Arg Center</td>\n",
              "      <td>35.808035</td>\n",
              "      <td>51.426988</td>\n",
              "      <td>[{'label': 'display', 'lat': 35.80803494163345, 'lng': 51.426987646228255}]</td>\n",
              "      <td>201</td>\n",
              "      <td>IR</td>\n",
              "      <td>تهران</td>\n",
              "      <td>تهران</td>\n",
              "      <td>ایران</td>\n",
              "      <td>[-1st Fl., Arg Center, تهران, تهران, ایران]</td>\n",
              "      <td>NaN</td>\n",
              "      <td>NaN</td>\n",
              "      <td>NaN</td>\n",
              "      <td>55ddb870498ed8c46980894e</td>\n",
              "    </tr>\n",
              "    <tr>\n",
              "      <th>5</th>\n",
              "      <td>Lamiz Coffee | لمیز کافی (لمیز کافی)</td>\n",
              "      <td>Coffee Shop</td>\n",
              "      <td>Tajrish Sq.</td>\n",
              "      <td>35.807081</td>\n",
              "      <td>51.428087</td>\n",
              "      <td>[{'label': 'display', 'lat': 35.807081, 'lng': 51.428087}]</td>\n",
              "      <td>66</td>\n",
              "      <td>IR</td>\n",
              "      <td>تهران</td>\n",
              "      <td>تهران</td>\n",
              "      <td>ایران</td>\n",
              "      <td>[Tajrish Sq. (Sadabad St.), تهران, تهران, ایران]</td>\n",
              "      <td>Sadabad St.</td>\n",
              "      <td>NaN</td>\n",
              "      <td>NaN</td>\n",
              "      <td>4e07737562e100e5816fec67</td>\n",
              "    </tr>\n",
              "    <tr>\n",
              "      <th>6</th>\n",
              "      <td>Tajrish Arg Center | ارگ تجاری تجریش (ارگ تجاری تجریش)</td>\n",
              "      <td>Shopping Mall</td>\n",
              "      <td>Sa'd Abad St., Tajrish Sq.</td>\n",
              "      <td>35.808056</td>\n",
              "      <td>51.426921</td>\n",
              "      <td>[{'label': 'display', 'lat': 35.80805552061461, 'lng': 51.42692092610364}]</td>\n",
              "      <td>207</td>\n",
              "      <td>IR</td>\n",
              "      <td>تهران</td>\n",
              "      <td>تهران</td>\n",
              "      <td>ایران</td>\n",
              "      <td>[Sa'd Abad St., Tajrish Sq., تهران, تهران, ایران]</td>\n",
              "      <td>NaN</td>\n",
              "      <td>NaN</td>\n",
              "      <td>NaN</td>\n",
              "      <td>52f8853411d2e3f5f4bb0b04</td>\n",
              "    </tr>\n",
              "    <tr>\n",
              "      <th>7</th>\n",
              "      <td>تره بار تجریش</td>\n",
              "      <td>Market</td>\n",
              "      <td>NaN</td>\n",
              "      <td>35.805842</td>\n",
              "      <td>51.428879</td>\n",
              "      <td>[{'label': 'display', 'lat': 35.80584182318957, 'lng': 51.42887931350617}]</td>\n",
              "      <td>128</td>\n",
              "      <td>IR</td>\n",
              "      <td>NaN</td>\n",
              "      <td>NaN</td>\n",
              "      <td>ایران</td>\n",
              "      <td>[ایران]</td>\n",
              "      <td>NaN</td>\n",
              "      <td>NaN</td>\n",
              "      <td>NaN</td>\n",
              "      <td>55bde22b498e244a3cf888ef</td>\n",
              "    </tr>\n",
              "    <tr>\n",
              "      <th>8</th>\n",
              "      <td>Victorinox | ویکتورینوکس (ویکتورینوکس)</td>\n",
              "      <td>Accessories Store</td>\n",
              "      <td>G Fl., Arg Center</td>\n",
              "      <td>35.808082</td>\n",
              "      <td>51.427024</td>\n",
              "      <td>[{'label': 'display', 'lat': 35.80808172299587, 'lng': 51.427023531008814}]</td>\n",
              "      <td>202</td>\n",
              "      <td>IR</td>\n",
              "      <td>تهران</td>\n",
              "      <td>تهران</td>\n",
              "      <td>ایران</td>\n",
              "      <td>[G Fl., Arg Center, تهران, تهران, ایران]</td>\n",
              "      <td>NaN</td>\n",
              "      <td>NaN</td>\n",
              "      <td>NaN</td>\n",
              "      <td>55ddbc02498ee2d1cb079041</td>\n",
              "    </tr>\n",
              "    <tr>\n",
              "      <th>9</th>\n",
              "      <td>Lamiz Coffee | لمیز کافی (لمیز کافی)</td>\n",
              "      <td>Coffee Shop</td>\n",
              "      <td>Bagh Ferdows</td>\n",
              "      <td>35.806948</td>\n",
              "      <td>51.425511</td>\n",
              "      <td>[{'label': 'display', 'lat': 35.806948, 'lng': 51.425511}]</td>\n",
              "      <td>298</td>\n",
              "      <td>IR</td>\n",
              "      <td>تهران</td>\n",
              "      <td>تهران</td>\n",
              "      <td>ایران</td>\n",
              "      <td>[Bagh Ferdows (Vali-e Asr Street), تهران, تهران, ایران]</td>\n",
              "      <td>Vali-e Asr Street</td>\n",
              "      <td>NaN</td>\n",
              "      <td>NaN</td>\n",
              "      <td>5ddbb5b6c243930008e98810</td>\n",
              "    </tr>\n",
              "  </tbody>\n",
              "</table>\n",
              "</div>"
            ],
            "text/plain": [
              "                                                     name  ...                        id\n",
              "0  Tajrish Bazaar | بازار تجریش (بازار تجریش)              ...  50336c50e4b002cea0e87182\n",
              "1  Astara Movie Theater | سینما آستارا (سینما آستارا)      ...  597306a046e1b64b6b5fd229\n",
              "2  Tajrish Square | میدان تجریش (میدان تجریش)              ...  4f1aaf99e4b0f67a95e996dc\n",
              "3  Shemroon Kabab House | کبابسرای شمرون (کبابسرای شمرون)  ...  50939f15e4b0b6c7168dfde1\n",
              "4  GEOX | ج اوکس (ج اوکس)                                  ...  55ddb870498ed8c46980894e\n",
              "5  Lamiz Coffee | لمیز کافی (لمیز کافی)                    ...  4e07737562e100e5816fec67\n",
              "6  Tajrish Arg Center | ارگ تجاری تجریش (ارگ تجاری تجریش)  ...  52f8853411d2e3f5f4bb0b04\n",
              "7  تره بار تجریش                                           ...  55bde22b498e244a3cf888ef\n",
              "8  Victorinox | ویکتورینوکس (ویکتورینوکس)                  ...  55ddbc02498ee2d1cb079041\n",
              "9  Lamiz Coffee | لمیز کافی (لمیز کافی)                    ...  5ddbb5b6c243930008e98810\n",
              "\n",
              "[10 rows x 16 columns]"
            ]
          },
          "metadata": {
            "tags": []
          },
          "execution_count": 120
        }
      ]
    },
    {
      "cell_type": "markdown",
      "metadata": {
        "button": false,
        "new_sheet": false,
        "run_control": {
          "read_only": false
        },
        "id": "Q8OfjeqlFnnI"
      },
      "source": [
        "#### Let's visualize these items on the map around our location\n"
      ]
    },
    {
      "cell_type": "code",
      "metadata": {
        "button": false,
        "jupyter": {
          "outputs_hidden": false
        },
        "new_sheet": false,
        "run_control": {
          "read_only": false
        },
        "scrolled": true,
        "id": "joy4s0ieFnnJ",
        "outputId": "89d89a21-28d1-47b4-81b7-34c84a527770",
        "colab": {
          "base_uri": "https://localhost:8080/",
          "height": 814
        }
      },
      "source": [
        "venues_map = folium.Map(location=[latitude, longitude], zoom_start=16) # generate map centred around Ecco\n",
        "\n",
        "\n",
        "# add Ecco as a red circle mark\n",
        "folium.CircleMarker(\n",
        "    [latitude, longitude],\n",
        "    radius=10,\n",
        "    popup='Ecco',\n",
        "    fill=True,\n",
        "    color='red',\n",
        "    fill_color='red',\n",
        "    fill_opacity=0.6\n",
        "    ).add_to(venues_map)\n",
        "\n",
        "\n",
        "# add popular spots to the map as blue circle markers\n",
        "for lat, lng, label in zip(dataframe_filtered.lat, dataframe_filtered.lng, dataframe_filtered.categories):\n",
        "    folium.CircleMarker(\n",
        "        [lat, lng],\n",
        "        radius=5,\n",
        "        popup=label,\n",
        "        fill=True,\n",
        "        color='blue',\n",
        "        fill_color='blue',\n",
        "        fill_opacity=0.6\n",
        "        ).add_to(venues_map)\n",
        "\n",
        "# display map\n",
        "venues_map"
      ],
      "execution_count": 122,
      "outputs": [
        {
          "output_type": "execute_result",
          "data": {
            "text/html": [
              "<div style=\"width:100%;\"><div style=\"position:relative;width:100%;height:0;padding-bottom:60%;\"><span style=\"color:#565656\">Make this Notebook Trusted to load map: File -> Trust Notebook</span><iframe src=\"about:blank\" style=\"position:absolute;width:100%;height:100%;left:0;top:0;border:none !important;\" data-html=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 onload=\"this.contentDocument.open();this.contentDocument.write(atob(this.getAttribute('data-html')));this.contentDocument.close();\" allowfullscreen webkitallowfullscreen mozallowfullscreen></iframe></div></div>"
            ],
            "text/plain": [
              "<folium.folium.Map at 0x7f40c8477208>"
            ]
          },
          "metadata": {
            "tags": []
          },
          "execution_count": 122
        }
      ]
    },
    {
      "cell_type": "markdown",
      "metadata": {
        "button": false,
        "new_sheet": false,
        "run_control": {
          "read_only": false
        },
        "id": "wvNmsUMGFnnO"
      },
      "source": [
        "\n"
      ]
    },
    {
      "cell_type": "markdown",
      "metadata": {
        "button": false,
        "new_sheet": false,
        "run_control": {
          "read_only": false
        },
        "id": "_SHTLp3eFnnP"
      },
      "source": [
        "<a id=\"item5\"></a>\n"
      ]
    },
    {
      "cell_type": "markdown",
      "metadata": {
        "button": false,
        "new_sheet": false,
        "run_control": {
          "read_only": false
        },
        "id": "_mI5Dp-7FnnQ"
      },
      "source": [
        "## 5. Explore Trending Venues\n",
        "\n",
        "> `https://api.foursquare.com/v2/venues/`**trending**`?client_id=`**CLIENT_ID**`&client_secret=`**CLIENT_SECRET**`&ll=`**LATITUDE**`,`**LONGITUDE**`&v=`**VERSION**\n"
      ]
    },
    {
      "cell_type": "markdown",
      "metadata": {
        "button": false,
        "new_sheet": false,
        "run_control": {
          "read_only": false
        },
        "id": "KAmjRttcFnnR"
      },
      "source": [
        "#### Now, instead of simply exploring the area around Tajrish, you are interested in knowing the venues that are trending at the time you are done with your lunch, meaning the places with the highest foot traffic. So let's do that and get the trending venues around Tajrish.\n"
      ]
    },
    {
      "cell_type": "code",
      "metadata": {
        "button": false,
        "jupyter": {
          "outputs_hidden": false
        },
        "new_sheet": false,
        "run_control": {
          "read_only": false
        },
        "id": "85_ieiK7FnnT",
        "outputId": "36fb11a0-6e8b-4384-bff0-779095e78315",
        "colab": {
          "base_uri": "https://localhost:8080/"
        }
      },
      "source": [
        "# define URL\n",
        "url = 'https://api.foursquare.com/v2/venues/trending?client_id={}&client_secret={}&ll={},{}&v={}'.format(CLIENT_ID, CLIENT_SECRET, latitude, longitude, VERSION)\n",
        "\n",
        "# send GET request and get trending venues\n",
        "results = requests.get(url).json()\n",
        "results"
      ],
      "execution_count": 123,
      "outputs": [
        {
          "output_type": "execute_result",
          "data": {
            "text/plain": [
              "{'meta': {'code': 200, 'requestId': '5fa9175c61fa2753f89bdaac'},\n",
              " 'response': {'venues': []}}"
            ]
          },
          "metadata": {
            "tags": []
          },
          "execution_count": 123
        }
      ]
    },
    {
      "cell_type": "markdown",
      "metadata": {
        "button": false,
        "new_sheet": false,
        "run_control": {
          "read_only": false
        },
        "id": "HI5IWQWNFnnY"
      },
      "source": [
        "### Check if any venues are trending at this time\n"
      ]
    },
    {
      "cell_type": "code",
      "metadata": {
        "button": false,
        "new_sheet": false,
        "run_control": {
          "read_only": false
        },
        "id": "kFxKe9TpFnnY"
      },
      "source": [
        "if len(results['response']['venues']) == 0:\n",
        "    trending_venues_df = 'No trending venues are available at the moment!'\n",
        "    \n",
        "else:\n",
        "    trending_venues = results['response']['venues']\n",
        "    trending_venues_df = json_normalize(trending_venues)\n",
        "\n",
        "    # filter columns\n",
        "    columns_filtered = ['name', 'categories'] + ['location.distance', 'location.city', 'location.postalCode', 'location.state', 'location.country', 'location.lat', 'location.lng']\n",
        "    trending_venues_df = trending_venues_df.loc[:, columns_filtered]\n",
        "\n",
        "    # filter the category for each row\n",
        "    trending_venues_df['categories'] = trending_venues_df.apply(get_category_type, axis=1)"
      ],
      "execution_count": 124,
      "outputs": []
    },
    {
      "cell_type": "code",
      "metadata": {
        "button": false,
        "jupyter": {
          "outputs_hidden": false
        },
        "new_sheet": false,
        "run_control": {
          "read_only": false
        },
        "id": "wWIESF2fFnnf",
        "outputId": "60081869-5da9-4b4b-f57c-7a38dab0a3d9",
        "colab": {
          "base_uri": "https://localhost:8080/",
          "height": 35
        }
      },
      "source": [
        "# display trending venues\n",
        "trending_venues_df"
      ],
      "execution_count": 125,
      "outputs": [
        {
          "output_type": "execute_result",
          "data": {
            "application/vnd.google.colaboratory.intrinsic+json": {
              "type": "string"
            },
            "text/plain": [
              "'No trending venues are available at the moment!'"
            ]
          },
          "metadata": {
            "tags": []
          },
          "execution_count": 125
        }
      ]
    },
    {
      "cell_type": "markdown",
      "metadata": {
        "button": false,
        "new_sheet": false,
        "run_control": {
          "read_only": false
        },
        "id": "Nojs5uJgFnnj"
      },
      "source": [
        "Now, depending on when you run the above code, you might get different venues since the venues with the highest foot traffic are fetched live. \n"
      ]
    },
    {
      "cell_type": "markdown",
      "metadata": {
        "button": false,
        "new_sheet": false,
        "run_control": {
          "read_only": false
        },
        "id": "hb17HN5aFnnk"
      },
      "source": [
        "### Visualize trending venues\n"
      ]
    },
    {
      "cell_type": "code",
      "metadata": {
        "button": false,
        "jupyter": {
          "outputs_hidden": false
        },
        "new_sheet": false,
        "run_control": {
          "read_only": false
        },
        "id": "npDLq38lFnnk"
      },
      "source": [
        "if len(results['response']['venues']) == 0:\n",
        "    venues_map = 'Cannot generate visual as no trending venues are available at the moment!'\n",
        "\n",
        "else:\n",
        "    venues_map = folium.Map(location=[latitude, longitude], zoom_start=15) # generate map centred around Ecco\n",
        "\n",
        "\n",
        "    # add Ecco as a red circle mark\n",
        "    folium.CircleMarker(\n",
        "        [latitude, longitude],\n",
        "        radius=10,\n",
        "        popup='Ecco',\n",
        "        fill=True,\n",
        "        color='red',\n",
        "        fill_color='red',\n",
        "        fill_opacity=0.6\n",
        "    ).add_to(venues_map)\n",
        "\n",
        "\n",
        "    # add the trending venues as blue circle markers\n",
        "    for lat, lng, label in zip(trending_venues_df['location.lat'], trending_venues_df['location.lng'], trending_venues_df['name']):\n",
        "        folium.CircleMarker(\n",
        "            [lat, lng],\n",
        "            radius=5,\n",
        "            poup=label,\n",
        "            fill=True,\n",
        "            color='blue',\n",
        "            fill_color='blue',\n",
        "            fill_opacity=0.6\n",
        "        ).add_to(venues_map)"
      ],
      "execution_count": null,
      "outputs": []
    },
    {
      "cell_type": "code",
      "metadata": {
        "button": false,
        "jupyter": {
          "outputs_hidden": false
        },
        "new_sheet": false,
        "run_control": {
          "read_only": false
        },
        "scrolled": true,
        "id": "ldv77uQDFnno",
        "outputId": "737c1e17-a450-4ed6-842f-4f699a5da3e6"
      },
      "source": [
        "# display map\n",
        "venues_map"
      ],
      "execution_count": null,
      "outputs": [
        {
          "output_type": "execute_result",
          "data": {
            "text/plain": [
              "'Cannot generate visual as no trending venues are available at the moment!'"
            ]
          },
          "metadata": {
            "tags": []
          },
          "execution_count": 49
        }
      ]
    },
    {
      "cell_type": "markdown",
      "metadata": {
        "button": false,
        "new_sheet": false,
        "run_control": {
          "read_only": false
        },
        "id": "qbPT7URCFnnq"
      },
      "source": [
        "<a id=\"item6\"></a>\n"
      ]
    },
    {
      "cell_type": "markdown",
      "metadata": {
        "button": false,
        "new_sheet": false,
        "run_control": {
          "read_only": false
        },
        "id": "NCdEjLszFnnr"
      },
      "source": [
        "\n"
      ]
    },
    {
      "cell_type": "markdown",
      "metadata": {
        "button": false,
        "new_sheet": false,
        "run_control": {
          "read_only": false
        },
        "id": "5kV-Y4hfFnnr"
      },
      "source": [
        "### Thank you for completing this lab!\n",
        "\n",
        "\n",
        "This notebook was created by [Alex Aklson](https://www.linkedin.com/in/aklson?cm_mmc=Email_Newsletter-_-Developer_Ed%2BTech-_-WW_WW-_-SkillsNetwork-Courses-IBMDeveloperSkillsNetwork-DS0701EN-SkillsNetwork-21253531&cm_mmca1=000026UJ&cm_mmca2=10006555&cm_mmca3=M12345678&cvosrc=email.Newsletter.M12345678&cvo_campaign=000026UJ&cm_mmc=Email_Newsletter-_-Developer_Ed%2BTech-_-WW_WW-_-SkillsNetwork-Courses-IBMDeveloperSkillsNetwork-DS0701EN-SkillsNetwork-21253531&cm_mmca1=000026UJ&cm_mmca2=10006555&cm_mmca3=M12345678&cvosrc=email.Newsletter.M12345678&cvo_campaign=000026UJ). I hope you found this lab interesting and educational. Feel free to contact me if you have any questions!\n",
        "\n",
        "This notebook modified by Nayef Abou Tayoun ([https://www.linkedin.com/in/nayefaboutayoun/](https://www.linkedin.com/in/nayefaboutayoun?cm_mmc=Email_Newsletter-_-Developer_Ed%2BTech-_-WW_WW-_-SkillsNetwork-Courses-IBMDeveloperSkillsNetwork-DS0701EN-SkillsNetwork-21253531&cm_mmca1=000026UJ&cm_mmca2=10006555&cm_mmca3=M12345678&cvosrc=email.Newsletter.M12345678&cvo_campaign=000026UJ))\n",
        "\n",
        "**Modified by Mohamad Jalalimanesh to test with Tehran**\n"
      ]
    },
    {
      "cell_type": "markdown",
      "metadata": {
        "button": false,
        "new_sheet": false,
        "run_control": {
          "read_only": false
        },
        "id": "G5-OjZgjFnns"
      },
      "source": [
        "This notebook is part of a course on **Coursera** called _Applied Data Science Capstone_. If you accessed this notebook outside the course, you can take this course online by clicking [here](http://cocl.us/DP0701EN_Coursera_Week2_LAB1).\n"
      ]
    },
    {
      "cell_type": "markdown",
      "metadata": {
        "button": false,
        "new_sheet": false,
        "run_control": {
          "read_only": false
        },
        "id": "ERytc6dUFnns"
      },
      "source": [
        "<hr>\n",
        "Copyright &copy; 2018 [Cognitive Class](https://cognitiveclass.ai/?utm_source=bducopyrightlink&utm_medium=dswb&utm_campaign=bdu). This notebook and its source code are released under the terms of the [MIT License](https://bigdatauniversity.com/mit-license/).\n"
      ]
    },
    {
      "cell_type": "code",
      "metadata": {
        "id": "kOj47-leFnnt"
      },
      "source": [
        ""
      ],
      "execution_count": null,
      "outputs": []
    }
  ]
}