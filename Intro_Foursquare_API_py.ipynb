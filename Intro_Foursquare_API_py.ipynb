{
  "nbformat": 4,
  "nbformat_minor": 0,
  "metadata": {
    "kernelspec": {
      "name": "python3",
      "display_name": "Python 3"
    },
    "colab": {
      "name": "Intro-Foursquare-API-py.ipynb",
      "provenance": [],
      "include_colab_link": true
    }
  },
  "cells": [
    {
      "cell_type": "markdown",
      "metadata": {
        "id": "view-in-github",
        "colab_type": "text"
      },
      "source": [
        "<a href=\"https://colab.research.google.com/github/mjalalimanesh/IBM-Data-Science-Foursquare-Project/blob/main/Intro_Foursquare_API_py.ipynb\" target=\"_parent\"><img src=\"https://colab.research.google.com/assets/colab-badge.svg\" alt=\"Open In Colab\"/></a>"
      ]
    },
    {
      "cell_type": "markdown",
      "metadata": {
        "button": false,
        "new_sheet": false,
        "run_control": {
          "read_only": false
        },
        "id": "G2pO3nnlFnkL"
      },
      "source": [
        "\n",
        "<h1 align=center><font size = 5>Learning FourSquare API with Python</font></h1>\n",
        "\n",
        "An IBM Data Science Capstone Project Notebook"
      ]
    },
    {
      "cell_type": "markdown",
      "metadata": {
        "button": false,
        "new_sheet": false,
        "run_control": {
          "read_only": false
        },
        "id": "8UPZy7QnFnkN"
      },
      "source": [
        "\n"
      ]
    },
    {
      "cell_type": "markdown",
      "metadata": {
        "button": false,
        "new_sheet": false,
        "run_control": {
          "read_only": false
        },
        "id": "Ygvj3W9GFnkP"
      },
      "source": [
        "## Table of Contents\n",
        "\n",
        "1.  <a href=\"#item1\">Foursquare API Search Function</a>\n",
        "2.  <a href=\"#item2\">Explore a Given Venue</a>  \n",
        "3.  <a href=\"#item3\">Explore a User</a>  \n",
        "4.  <a href=\"#item4\">Foursquare API Explore Function</a>  \n",
        "5.  <a href=\"#item5\">Get Trending Venues</a>  \n"
      ]
    },
    {
      "cell_type": "markdown",
      "metadata": {
        "button": false,
        "new_sheet": false,
        "run_control": {
          "read_only": false
        },
        "id": "8j8wx0_TFnkQ"
      },
      "source": [
        "### Import necessary Libraries\n"
      ]
    },
    {
      "cell_type": "code",
      "metadata": {
        "button": false,
        "jupyter": {
          "outputs_hidden": false
        },
        "new_sheet": false,
        "run_control": {
          "read_only": false
        },
        "id": "341e5f4IFnkR",
        "outputId": "21e98dbe-0caf-482d-c9ec-0bf7bb357273",
        "colab": {
          "base_uri": "https://localhost:8080/"
        }
      },
      "source": [
        "import requests # library to handle requests\n",
        "import pandas as pd # library for data analsysis\n",
        "import numpy as np # library to handle data in a vectorized manner\n",
        "import random # library for random number generation\n",
        "\n",
        "\n",
        "\n",
        "from geopy.geocoders import Nominatim # module to convert an address into latitude and longitude values\n",
        "\n",
        "# libraries for displaying images\n",
        "from IPython.display import Image \n",
        "from IPython.core.display import HTML \n",
        "    \n",
        "# tranforming json file into a pandas dataframe library\n",
        "from pandas import json_normalize\n",
        "\n",
        "\n",
        "import folium # plotting library\n",
        "\n",
        "print('Folium installed')\n",
        "print('Libraries imported.')"
      ],
      "execution_count": 1,
      "outputs": [
        {
          "output_type": "stream",
          "text": [
            "Folium installed\n",
            "Libraries imported.\n"
          ],
          "name": "stdout"
        }
      ]
    },
    {
      "cell_type": "markdown",
      "metadata": {
        "button": false,
        "new_sheet": false,
        "run_control": {
          "read_only": false
        },
        "id": "ZOVAnGrOFnkW"
      },
      "source": [
        "### Define Foursquare Credentials and Version\n"
      ]
    },
    {
      "cell_type": "markdown",
      "metadata": {
        "button": false,
        "new_sheet": false,
        "run_control": {
          "read_only": false
        },
        "id": "z2hI2oQCFnkX"
      },
      "source": [
        "##### Make sure that you have created a Foursquare developer account and have your credentials handy\n"
      ]
    },
    {
      "cell_type": "code",
      "metadata": {
        "button": false,
        "jupyter": {
          "outputs_hidden": false
        },
        "new_sheet": false,
        "run_control": {
          "read_only": false
        },
        "id": "rPs2jak2FnkY",
        "outputId": "1d7e077e-4079-49ba-d00a-cbd86d189e94",
        "colab": {
          "base_uri": "https://localhost:8080/"
        }
      },
      "source": [
        "CLIENT_ID = 'RZ4H2M3IIHZWWXT0LEQQL44UT5DQITVYQY3GLIWFWIDV3NDR' # your Foursquare ID\n",
        "CLIENT_SECRET = 'KNGLLHDYW5HPZ5VR4BMFUIW1S1OUDRUX3C13533QP2IKGWN3' # your Foursquare Secret\n",
        "VERSION = '20201106'\n",
        "LIMIT = 30\n",
        "print('Your credentails:')\n",
        "print('CLIENT_ID: ' + CLIENT_ID)\n",
        "print('CLIENT_SECRET:' + CLIENT_SECRET)"
      ],
      "execution_count": 2,
      "outputs": [
        {
          "output_type": "stream",
          "text": [
            "Your credentails:\n",
            "CLIENT_ID: RZ4H2M3IIHZWWXT0LEQQL44UT5DQITVYQY3GLIWFWIDV3NDR\n",
            "CLIENT_SECRET:KNGLLHDYW5HPZ5VR4BMFUIW1S1OUDRUX3C13533QP2IKGWN3\n"
          ],
          "name": "stdout"
        }
      ]
    },
    {
      "cell_type": "markdown",
      "metadata": {
        "button": false,
        "new_sheet": false,
        "run_control": {
          "read_only": false
        },
        "id": "T57lXz6fFnkd"
      },
      "source": [
        "\n"
      ]
    },
    {
      "cell_type": "markdown",
      "metadata": {
        "button": false,
        "new_sheet": false,
        "run_control": {
          "read_only": false
        },
        "id": "UjqT7-54Fnke"
      },
      "source": [
        "#### Let's again assume that you are staying at the Conrad hotel. So let's start by converting the Contrad Hotel's address to its latitude and longitude coordinates.\n"
      ]
    },
    {
      "cell_type": "markdown",
      "metadata": {
        "id": "IjQrcEsxFnkf"
      },
      "source": [
        "In order to define an instance of the geocoder, we need to define a user_agent. We will name our agent <em>foursquare_agent</em>, as shown below.\n"
      ]
    },
    {
      "cell_type": "code",
      "metadata": {
        "button": false,
        "jupyter": {
          "outputs_hidden": false
        },
        "new_sheet": false,
        "run_control": {
          "read_only": false
        },
        "id": "_ISspkd9Fnkg",
        "outputId": "0b16a0e3-5ce7-4fa0-f256-ec923470d0be",
        "colab": {
          "base_uri": "https://localhost:8080/"
        }
      },
      "source": [
        "address = 'Tajrish square, Tehran, Iran'\n",
        "\n",
        "geolocator = Nominatim(user_agent=\"foursquare_agent\")\n",
        "location = geolocator.geocode(address)\n",
        "print(location.address)\n",
        "latitude = location.latitude\n",
        "longitude = location.longitude\n",
        "print(latitude, longitude)"
      ],
      "execution_count": 3,
      "outputs": [
        {
          "output_type": "stream",
          "text": [
            "میدان تجریش, تجریش, منطقه ۱ شهر تهران, دهستان تجریش, شهرستان شمیرانات, استان تهران, ایران\n",
            "35.806994700000004 51.428815219116515\n"
          ],
          "name": "stdout"
        }
      ]
    },
    {
      "cell_type": "markdown",
      "metadata": {
        "button": false,
        "new_sheet": false,
        "run_control": {
          "read_only": false
        },
        "id": "gbYuQh94Fnkn"
      },
      "source": [
        "\n"
      ]
    },
    {
      "cell_type": "markdown",
      "metadata": {
        "button": false,
        "new_sheet": false,
        "run_control": {
          "read_only": false
        },
        "id": "GQZJsWZhFnko"
      },
      "source": [
        "<a id=\"item1\"></a>\n"
      ]
    },
    {
      "cell_type": "markdown",
      "metadata": {
        "button": false,
        "new_sheet": false,
        "run_control": {
          "read_only": false
        },
        "id": "9knlKmyWFnkp"
      },
      "source": [
        "## 1. Search for a specific venue category\n",
        "\n",
        "> `https://api.foursquare.com/v2/venues/`**search**`?client_id=`**CLIENT_ID**`&client_secret=`**CLIENT_SECRET**`&ll=`**LATITUDE**`,`**LONGITUDE**`&v=`**VERSION**`&query=`**QUERY**`&radius=`**RADIUS**`&limit=`**LIMIT**\n"
      ]
    },
    {
      "cell_type": "markdown",
      "metadata": {
        "button": false,
        "new_sheet": false,
        "run_control": {
          "read_only": false
        },
        "id": "Kc9ghWRyFnkq"
      },
      "source": [
        "#### Now, let's assume that it is lunch time, and you are craving Italian food. So, let's define a query to search for Italian food that is within 500 metres from the Conrad Hotel.\n"
      ]
    },
    {
      "cell_type": "code",
      "metadata": {
        "button": false,
        "jupyter": {
          "outputs_hidden": false
        },
        "new_sheet": false,
        "run_control": {
          "read_only": false
        },
        "scrolled": true,
        "id": "u15g-daJFnkr",
        "outputId": "b84abb68-0baa-4057-8756-394371eb89ae",
        "colab": {
          "base_uri": "https://localhost:8080/"
        }
      },
      "source": [
        "search_query = 'restaurant'\n",
        "radius = 1500\n",
        "print(search_query + ' .... OK!')"
      ],
      "execution_count": 4,
      "outputs": [
        {
          "output_type": "stream",
          "text": [
            "restaurant .... OK!\n"
          ],
          "name": "stdout"
        }
      ]
    },
    {
      "cell_type": "markdown",
      "metadata": {
        "button": false,
        "new_sheet": false,
        "run_control": {
          "read_only": false
        },
        "id": "KoZt_U1lFnky"
      },
      "source": [
        "#### Define the corresponding URL\n"
      ]
    },
    {
      "cell_type": "code",
      "metadata": {
        "button": false,
        "jupyter": {
          "outputs_hidden": false
        },
        "new_sheet": false,
        "run_control": {
          "read_only": false
        },
        "id": "ot2ZBahXFnkz",
        "outputId": "b05412f3-4319-4ce0-99fb-b46639e34065",
        "colab": {
          "base_uri": "https://localhost:8080/",
          "height": 53
        }
      },
      "source": [
        "url = 'https://api.foursquare.com/v2/venues/search?client_id={}&client_secret={}&ll={},{}&v={}&query={}&radius={}&limit={}'.format(CLIENT_ID, CLIENT_SECRET, latitude, longitude, VERSION, search_query, radius, LIMIT)\n",
        "url"
      ],
      "execution_count": 5,
      "outputs": [
        {
          "output_type": "execute_result",
          "data": {
            "application/vnd.google.colaboratory.intrinsic+json": {
              "type": "string"
            },
            "text/plain": [
              "'https://api.foursquare.com/v2/venues/search?client_id=RZ4H2M3IIHZWWXT0LEQQL44UT5DQITVYQY3GLIWFWIDV3NDR&client_secret=KNGLLHDYW5HPZ5VR4BMFUIW1S1OUDRUX3C13533QP2IKGWN3&ll=35.806994700000004,51.428815219116515&v=20201106&query=restaurant&radius=1500&limit=30'"
            ]
          },
          "metadata": {
            "tags": []
          },
          "execution_count": 5
        }
      ]
    },
    {
      "cell_type": "markdown",
      "metadata": {
        "button": false,
        "new_sheet": false,
        "run_control": {
          "read_only": false
        },
        "id": "xttbxgwpFnk7"
      },
      "source": [
        "#### Send the GET Request and examine the results\n"
      ]
    },
    {
      "cell_type": "code",
      "metadata": {
        "button": false,
        "jupyter": {
          "outputs_hidden": false
        },
        "new_sheet": false,
        "run_control": {
          "read_only": false
        },
        "scrolled": true,
        "id": "cLoOFTa3Fnk7"
      },
      "source": [
        "results = requests.get(url).json()"
      ],
      "execution_count": 6,
      "outputs": []
    },
    {
      "cell_type": "markdown",
      "metadata": {
        "button": false,
        "new_sheet": false,
        "run_control": {
          "read_only": false
        },
        "id": "fk-lS8NBFnk_"
      },
      "source": [
        "#### Get relevant part of JSON and transform it into a _pandas_ dataframe\n"
      ]
    },
    {
      "cell_type": "code",
      "metadata": {
        "button": false,
        "jupyter": {
          "outputs_hidden": false
        },
        "new_sheet": false,
        "run_control": {
          "read_only": false
        },
        "id": "Nv3Y3fYvFnlA",
        "outputId": "59e2ced4-1e4e-41d5-c94f-8d7724fc28d8",
        "colab": {
          "base_uri": "https://localhost:8080/",
          "height": 672
        }
      },
      "source": [
        "# assign relevant part of JSON to venues\n",
        "venues = results['response']['venues']\n",
        "print(len(venues))\n",
        "print(type(venues))\n",
        "# tranform venues into a dataframe\n",
        "dataframe = json_normalize(venues)\n",
        "print(dataframe.shape)\n",
        "print(type(dataframe))\n",
        "\n",
        "dataframe.head()"
      ],
      "execution_count": 7,
      "outputs": [
        {
          "output_type": "stream",
          "text": [
            "30\n",
            "<class 'list'>\n",
            "(30, 19)\n",
            "<class 'pandas.core.frame.DataFrame'>\n"
          ],
          "name": "stdout"
        },
        {
          "output_type": "execute_result",
          "data": {
            "text/html": [
              "<div>\n",
              "<style scoped>\n",
              "    .dataframe tbody tr th:only-of-type {\n",
              "        vertical-align: middle;\n",
              "    }\n",
              "\n",
              "    .dataframe tbody tr th {\n",
              "        vertical-align: top;\n",
              "    }\n",
              "\n",
              "    .dataframe thead th {\n",
              "        text-align: right;\n",
              "    }\n",
              "</style>\n",
              "<table border=\"1\" class=\"dataframe\">\n",
              "  <thead>\n",
              "    <tr style=\"text-align: right;\">\n",
              "      <th></th>\n",
              "      <th>id</th>\n",
              "      <th>name</th>\n",
              "      <th>categories</th>\n",
              "      <th>referralId</th>\n",
              "      <th>hasPerk</th>\n",
              "      <th>location.address</th>\n",
              "      <th>location.crossStreet</th>\n",
              "      <th>location.lat</th>\n",
              "      <th>location.lng</th>\n",
              "      <th>location.labeledLatLngs</th>\n",
              "      <th>location.distance</th>\n",
              "      <th>location.cc</th>\n",
              "      <th>location.city</th>\n",
              "      <th>location.state</th>\n",
              "      <th>location.country</th>\n",
              "      <th>location.formattedAddress</th>\n",
              "      <th>location.neighborhood</th>\n",
              "      <th>location.postalCode</th>\n",
              "      <th>venuePage.id</th>\n",
              "    </tr>\n",
              "  </thead>\n",
              "  <tbody>\n",
              "    <tr>\n",
              "      <th>0</th>\n",
              "      <td>5bc0cb46ccad6b002ca5db2e</td>\n",
              "      <td>Rebelan Cafe &amp; Restaurant | کافه و رستوران ربل...</td>\n",
              "      <td>[{'id': '4bf58dd8d48988d1c4941735', 'name': 'R...</td>\n",
              "      <td>v-1604742469</td>\n",
              "      <td>False</td>\n",
              "      <td>Gholam Jafari St.</td>\n",
              "      <td>7th Floor</td>\n",
              "      <td>35.808600</td>\n",
              "      <td>51.429311</td>\n",
              "      <td>[{'label': 'display', 'lat': 35.80859986099495...</td>\n",
              "      <td>184</td>\n",
              "      <td>IR</td>\n",
              "      <td>تهران</td>\n",
              "      <td>تهران</td>\n",
              "      <td>ایران</td>\n",
              "      <td>[Gholam Jafari St. (7th Floor), تهران, تهران, ...</td>\n",
              "      <td>NaN</td>\n",
              "      <td>NaN</td>\n",
              "      <td>NaN</td>\n",
              "    </tr>\n",
              "    <tr>\n",
              "      <th>1</th>\n",
              "      <td>5c504285d03360002cc9dbd4</td>\n",
              "      <td>Rāš Café &amp; Restaurant |‌ کافه و رستوران راش (ک...</td>\n",
              "      <td>[{'id': '4bf58dd8d48988d16d941735', 'name': 'C...</td>\n",
              "      <td>v-1604742469</td>\n",
              "      <td>False</td>\n",
              "      <td>No. 6, Arefnasab St.</td>\n",
              "      <td>NaN</td>\n",
              "      <td>35.800941</td>\n",
              "      <td>51.421620</td>\n",
              "      <td>[{'label': 'display', 'lat': 35.80094131739832...</td>\n",
              "      <td>935</td>\n",
              "      <td>IR</td>\n",
              "      <td>تهران</td>\n",
              "      <td>تهران</td>\n",
              "      <td>ایران</td>\n",
              "      <td>[No. 6, Arefnasab St., تهران, تهران, ایران]</td>\n",
              "      <td>District 1</td>\n",
              "      <td>NaN</td>\n",
              "      <td>NaN</td>\n",
              "    </tr>\n",
              "    <tr>\n",
              "      <th>2</th>\n",
              "      <td>5c2798ecf05ca8002d832e82</td>\n",
              "      <td>Rouhi Café &amp; Restaurant | کافه رستوران روحی (ک...</td>\n",
              "      <td>[{'id': '52e81612bcbc57f1066b79f7', 'name': 'P...</td>\n",
              "      <td>v-1604742469</td>\n",
              "      <td>False</td>\n",
              "      <td>Cinema Astara</td>\n",
              "      <td>Tajrish Sq.</td>\n",
              "      <td>35.806444</td>\n",
              "      <td>51.431249</td>\n",
              "      <td>[{'label': 'display', 'lat': 35.80644381720913...</td>\n",
              "      <td>228</td>\n",
              "      <td>IR</td>\n",
              "      <td>تهران</td>\n",
              "      <td>تهران</td>\n",
              "      <td>ایران</td>\n",
              "      <td>[Cinema Astara (Tajrish Sq.), تهران, تهران 009...</td>\n",
              "      <td>District 1</td>\n",
              "      <td>0098</td>\n",
              "      <td>NaN</td>\n",
              "    </tr>\n",
              "    <tr>\n",
              "      <th>3</th>\n",
              "      <td>52aa077c11d29b0830a4a910</td>\n",
              "      <td>Déjàvu Restaurant | رستوران مدیترانه ای دژاوو ...</td>\n",
              "      <td>[{'id': '4bf58dd8d48988d1c0941735', 'name': 'M...</td>\n",
              "      <td>v-1604742469</td>\n",
              "      <td>False</td>\n",
              "      <td>Moghadas Ardebili St.</td>\n",
              "      <td>Between Alef Sq. &amp; Pesyan St.</td>\n",
              "      <td>35.800518</td>\n",
              "      <td>51.415634</td>\n",
              "      <td>[{'label': 'display', 'lat': 35.8005184608819,...</td>\n",
              "      <td>1391</td>\n",
              "      <td>IR</td>\n",
              "      <td>تهران</td>\n",
              "      <td>تهران</td>\n",
              "      <td>ایران</td>\n",
              "      <td>[Moghadas Ardebili St. (Between Alef Sq. &amp; Pes...</td>\n",
              "      <td>NaN</td>\n",
              "      <td>NaN</td>\n",
              "      <td>NaN</td>\n",
              "    </tr>\n",
              "    <tr>\n",
              "      <th>4</th>\n",
              "      <td>524d6243498edf4831d57431</td>\n",
              "      <td>Ribar Café Restaurant | کافه رستوران ریبار (کا...</td>\n",
              "      <td>[{'id': '4bf58dd8d48988d16d941735', 'name': 'C...</td>\n",
              "      <td>v-1604742469</td>\n",
              "      <td>False</td>\n",
              "      <td>Zafaranieh St.</td>\n",
              "      <td>NaN</td>\n",
              "      <td>35.805462</td>\n",
              "      <td>51.419047</td>\n",
              "      <td>[{'label': 'display', 'lat': 35.80546206124904...</td>\n",
              "      <td>898</td>\n",
              "      <td>IR</td>\n",
              "      <td>تهران</td>\n",
              "      <td>تهران</td>\n",
              "      <td>ایران</td>\n",
              "      <td>[Zafaranieh St., تهران, تهران, ایران]</td>\n",
              "      <td>NaN</td>\n",
              "      <td>NaN</td>\n",
              "      <td>NaN</td>\n",
              "    </tr>\n",
              "  </tbody>\n",
              "</table>\n",
              "</div>"
            ],
            "text/plain": [
              "                         id  ... venuePage.id\n",
              "0  5bc0cb46ccad6b002ca5db2e  ...          NaN\n",
              "1  5c504285d03360002cc9dbd4  ...          NaN\n",
              "2  5c2798ecf05ca8002d832e82  ...          NaN\n",
              "3  52aa077c11d29b0830a4a910  ...          NaN\n",
              "4  524d6243498edf4831d57431  ...          NaN\n",
              "\n",
              "[5 rows x 19 columns]"
            ]
          },
          "metadata": {
            "tags": []
          },
          "execution_count": 7
        }
      ]
    },
    {
      "cell_type": "markdown",
      "metadata": {
        "button": false,
        "new_sheet": false,
        "run_control": {
          "read_only": false
        },
        "id": "2UjbIqa7FnlE"
      },
      "source": [
        "#### Define information of interest and filter dataframe\n"
      ]
    },
    {
      "cell_type": "code",
      "metadata": {
        "button": false,
        "jupyter": {
          "outputs_hidden": false
        },
        "new_sheet": false,
        "run_control": {
          "read_only": false
        },
        "scrolled": true,
        "id": "FkB_6LxSFnlF",
        "outputId": "02227268-5969-4e36-ec7c-ce370bf48309",
        "colab": {
          "base_uri": "https://localhost:8080/",
          "height": 1000
        }
      },
      "source": [
        "# keep only columns that include venue name, and anything that is associated with location\n",
        "filtered_columns = ['name', 'categories'] + [col for col in dataframe.columns if col.startswith('location.')] + ['id']\n",
        "dataframe_filtered = dataframe.loc[:, filtered_columns]\n",
        "\n",
        "# function that extracts the category of the venue\n",
        "def get_category_type(row):\n",
        "    try:\n",
        "        categories_list = row['categories']\n",
        "    except:\n",
        "        categories_list = row['venue.categories']\n",
        "        \n",
        "    if len(categories_list) == 0:\n",
        "        return None\n",
        "    else:\n",
        "        return categories_list[0]['name']\n",
        "\n",
        "# filter the category for each row\n",
        "dataframe_filtered['categories'] = dataframe_filtered.apply(get_category_type, axis=1)\n",
        "\n",
        "# clean column names by keeping only last term\n",
        "dataframe_filtered.columns = [column.split('.')[-1] for column in dataframe_filtered.columns]\n",
        "\n",
        "dataframe_filtered"
      ],
      "execution_count": 8,
      "outputs": [
        {
          "output_type": "execute_result",
          "data": {
            "text/html": [
              "<div>\n",
              "<style scoped>\n",
              "    .dataframe tbody tr th:only-of-type {\n",
              "        vertical-align: middle;\n",
              "    }\n",
              "\n",
              "    .dataframe tbody tr th {\n",
              "        vertical-align: top;\n",
              "    }\n",
              "\n",
              "    .dataframe thead th {\n",
              "        text-align: right;\n",
              "    }\n",
              "</style>\n",
              "<table border=\"1\" class=\"dataframe\">\n",
              "  <thead>\n",
              "    <tr style=\"text-align: right;\">\n",
              "      <th></th>\n",
              "      <th>name</th>\n",
              "      <th>categories</th>\n",
              "      <th>address</th>\n",
              "      <th>crossStreet</th>\n",
              "      <th>lat</th>\n",
              "      <th>lng</th>\n",
              "      <th>labeledLatLngs</th>\n",
              "      <th>distance</th>\n",
              "      <th>cc</th>\n",
              "      <th>city</th>\n",
              "      <th>state</th>\n",
              "      <th>country</th>\n",
              "      <th>formattedAddress</th>\n",
              "      <th>neighborhood</th>\n",
              "      <th>postalCode</th>\n",
              "      <th>id</th>\n",
              "    </tr>\n",
              "  </thead>\n",
              "  <tbody>\n",
              "    <tr>\n",
              "      <th>0</th>\n",
              "      <td>Rebelan Cafe &amp; Restaurant | کافه و رستوران ربل...</td>\n",
              "      <td>Restaurant</td>\n",
              "      <td>Gholam Jafari St.</td>\n",
              "      <td>7th Floor</td>\n",
              "      <td>35.808600</td>\n",
              "      <td>51.429311</td>\n",
              "      <td>[{'label': 'display', 'lat': 35.80859986099495...</td>\n",
              "      <td>184</td>\n",
              "      <td>IR</td>\n",
              "      <td>تهران</td>\n",
              "      <td>تهران</td>\n",
              "      <td>ایران</td>\n",
              "      <td>[Gholam Jafari St. (7th Floor), تهران, تهران, ...</td>\n",
              "      <td>NaN</td>\n",
              "      <td>NaN</td>\n",
              "      <td>5bc0cb46ccad6b002ca5db2e</td>\n",
              "    </tr>\n",
              "    <tr>\n",
              "      <th>1</th>\n",
              "      <td>Rāš Café &amp; Restaurant |‌ کافه و رستوران راش (ک...</td>\n",
              "      <td>Café</td>\n",
              "      <td>No. 6, Arefnasab St.</td>\n",
              "      <td>NaN</td>\n",
              "      <td>35.800941</td>\n",
              "      <td>51.421620</td>\n",
              "      <td>[{'label': 'display', 'lat': 35.80094131739832...</td>\n",
              "      <td>935</td>\n",
              "      <td>IR</td>\n",
              "      <td>تهران</td>\n",
              "      <td>تهران</td>\n",
              "      <td>ایران</td>\n",
              "      <td>[No. 6, Arefnasab St., تهران, تهران, ایران]</td>\n",
              "      <td>District 1</td>\n",
              "      <td>NaN</td>\n",
              "      <td>5c504285d03360002cc9dbd4</td>\n",
              "    </tr>\n",
              "    <tr>\n",
              "      <th>2</th>\n",
              "      <td>Rouhi Café &amp; Restaurant | کافه رستوران روحی (ک...</td>\n",
              "      <td>Persian Restaurant</td>\n",
              "      <td>Cinema Astara</td>\n",
              "      <td>Tajrish Sq.</td>\n",
              "      <td>35.806444</td>\n",
              "      <td>51.431249</td>\n",
              "      <td>[{'label': 'display', 'lat': 35.80644381720913...</td>\n",
              "      <td>228</td>\n",
              "      <td>IR</td>\n",
              "      <td>تهران</td>\n",
              "      <td>تهران</td>\n",
              "      <td>ایران</td>\n",
              "      <td>[Cinema Astara (Tajrish Sq.), تهران, تهران 009...</td>\n",
              "      <td>District 1</td>\n",
              "      <td>0098</td>\n",
              "      <td>5c2798ecf05ca8002d832e82</td>\n",
              "    </tr>\n",
              "    <tr>\n",
              "      <th>3</th>\n",
              "      <td>Déjàvu Restaurant | رستوران مدیترانه ای دژاوو ...</td>\n",
              "      <td>Mediterranean Restaurant</td>\n",
              "      <td>Moghadas Ardebili St.</td>\n",
              "      <td>Between Alef Sq. &amp; Pesyan St.</td>\n",
              "      <td>35.800518</td>\n",
              "      <td>51.415634</td>\n",
              "      <td>[{'label': 'display', 'lat': 35.8005184608819,...</td>\n",
              "      <td>1391</td>\n",
              "      <td>IR</td>\n",
              "      <td>تهران</td>\n",
              "      <td>تهران</td>\n",
              "      <td>ایران</td>\n",
              "      <td>[Moghadas Ardebili St. (Between Alef Sq. &amp; Pes...</td>\n",
              "      <td>NaN</td>\n",
              "      <td>NaN</td>\n",
              "      <td>52aa077c11d29b0830a4a910</td>\n",
              "    </tr>\n",
              "    <tr>\n",
              "      <th>4</th>\n",
              "      <td>Ribar Café Restaurant | کافه رستوران ریبار (کا...</td>\n",
              "      <td>Café</td>\n",
              "      <td>Zafaranieh St.</td>\n",
              "      <td>NaN</td>\n",
              "      <td>35.805462</td>\n",
              "      <td>51.419047</td>\n",
              "      <td>[{'label': 'display', 'lat': 35.80546206124904...</td>\n",
              "      <td>898</td>\n",
              "      <td>IR</td>\n",
              "      <td>تهران</td>\n",
              "      <td>تهران</td>\n",
              "      <td>ایران</td>\n",
              "      <td>[Zafaranieh St., تهران, تهران, ایران]</td>\n",
              "      <td>NaN</td>\n",
              "      <td>NaN</td>\n",
              "      <td>524d6243498edf4831d57431</td>\n",
              "    </tr>\n",
              "    <tr>\n",
              "      <th>5</th>\n",
              "      <td>Gheyme.com Cafe &amp; Restaurant | قیمه دات‌کام (ق...</td>\n",
              "      <td>Persian Restaurant</td>\n",
              "      <td>Valiasr, Toosi Alley, 31</td>\n",
              "      <td>NaN</td>\n",
              "      <td>35.804675</td>\n",
              "      <td>51.421940</td>\n",
              "      <td>[{'label': 'display', 'lat': 35.804675, 'lng':...</td>\n",
              "      <td>672</td>\n",
              "      <td>IR</td>\n",
              "      <td>تهران</td>\n",
              "      <td>تهران</td>\n",
              "      <td>ایران</td>\n",
              "      <td>[Valiasr, Toosi Alley, 31, تهران, تهران, ایران]</td>\n",
              "      <td>NaN</td>\n",
              "      <td>NaN</td>\n",
              "      <td>5e481965768bdd0008c8af68</td>\n",
              "    </tr>\n",
              "    <tr>\n",
              "      <th>6</th>\n",
              "      <td>Baghcheh Traditional Restaurant | رستوران سنتی...</td>\n",
              "      <td>Persian Restaurant</td>\n",
              "      <td>Tajrish Grand Bazaar</td>\n",
              "      <td>Hammam Dogholoo Aly.</td>\n",
              "      <td>35.805183</td>\n",
              "      <td>51.430803</td>\n",
              "      <td>[{'label': 'display', 'lat': 35.80518269459799...</td>\n",
              "      <td>269</td>\n",
              "      <td>IR</td>\n",
              "      <td>تهران</td>\n",
              "      <td>تهران</td>\n",
              "      <td>ایران</td>\n",
              "      <td>[Tajrish Grand Bazaar (Hammam Dogholoo Aly.), ...</td>\n",
              "      <td>NaN</td>\n",
              "      <td>NaN</td>\n",
              "      <td>52a1db5b11d2334522301d19</td>\n",
              "    </tr>\n",
              "    <tr>\n",
              "      <th>7</th>\n",
              "      <td>Foloot Restaurant | رستوران فلوت (رستوران فلوت)</td>\n",
              "      <td>Persian Restaurant</td>\n",
              "      <td>Shahrdari St.</td>\n",
              "      <td>Shahrdari St.</td>\n",
              "      <td>35.804901</td>\n",
              "      <td>51.432839</td>\n",
              "      <td>[{'label': 'display', 'lat': 35.80490059113342...</td>\n",
              "      <td>431</td>\n",
              "      <td>IR</td>\n",
              "      <td>تهران</td>\n",
              "      <td>تهران</td>\n",
              "      <td>ایران</td>\n",
              "      <td>[Shahrdari St. (Shahrdari St.), تهران, تهران, ...</td>\n",
              "      <td>NaN</td>\n",
              "      <td>NaN</td>\n",
              "      <td>50f28ce1e4b04eb64385b50a</td>\n",
              "    </tr>\n",
              "    <tr>\n",
              "      <th>8</th>\n",
              "      <td>Buono Italian Restaurant (رستوران ایتالیایی بونو)</td>\n",
              "      <td>Italian Restaurant</td>\n",
              "      <td>3rd Level, Arg Food Court</td>\n",
              "      <td>Tajrish</td>\n",
              "      <td>35.807978</td>\n",
              "      <td>51.426487</td>\n",
              "      <td>[{'label': 'display', 'lat': 35.807978, 'lng':...</td>\n",
              "      <td>236</td>\n",
              "      <td>IR</td>\n",
              "      <td>تهران</td>\n",
              "      <td>تهران</td>\n",
              "      <td>ایران</td>\n",
              "      <td>[3rd Level, Arg Food Court (Tajrish), تهران, ت...</td>\n",
              "      <td>NaN</td>\n",
              "      <td>NaN</td>\n",
              "      <td>5c5dd37a2f97ec002c1b9783</td>\n",
              "    </tr>\n",
              "    <tr>\n",
              "      <th>9</th>\n",
              "      <td>Ghassab 2 Restaurant | رستوران قصاب ۲ (رستوران...</td>\n",
              "      <td>Steakhouse</td>\n",
              "      <td>No 67 Fanakhosro St. Tajrish Sq.</td>\n",
              "      <td>Darband St.</td>\n",
              "      <td>35.813794</td>\n",
              "      <td>51.430124</td>\n",
              "      <td>[{'label': 'display', 'lat': 35.81379374050478...</td>\n",
              "      <td>766</td>\n",
              "      <td>IR</td>\n",
              "      <td>تهران</td>\n",
              "      <td>تهران</td>\n",
              "      <td>ایران</td>\n",
              "      <td>[No 67 Fanakhosro St. Tajrish Sq. (Darband St....</td>\n",
              "      <td>NaN</td>\n",
              "      <td>NaN</td>\n",
              "      <td>5ba7c7e40a08ab002c8843f0</td>\n",
              "    </tr>\n",
              "    <tr>\n",
              "      <th>10</th>\n",
              "      <td>Valak Restaurant</td>\n",
              "      <td>Persian Restaurant</td>\n",
              "      <td>Tajrish Square</td>\n",
              "      <td>NaN</td>\n",
              "      <td>35.806793</td>\n",
              "      <td>51.429707</td>\n",
              "      <td>[{'label': 'display', 'lat': 35.806793, 'lng':...</td>\n",
              "      <td>83</td>\n",
              "      <td>IR</td>\n",
              "      <td>تهران</td>\n",
              "      <td>تهران</td>\n",
              "      <td>ایران</td>\n",
              "      <td>[Tajrish Square, تهران, تهران, ایران]</td>\n",
              "      <td>NaN</td>\n",
              "      <td>NaN</td>\n",
              "      <td>58fe0025a423622722c4ec50</td>\n",
              "    </tr>\n",
              "    <tr>\n",
              "      <th>11</th>\n",
              "      <td>77 Restaurant and Café | رستوران و کافه ۷۷ (رس...</td>\n",
              "      <td>Café</td>\n",
              "      <td>Zaferaniyeh St.</td>\n",
              "      <td>Akbari St.</td>\n",
              "      <td>35.807977</td>\n",
              "      <td>51.415878</td>\n",
              "      <td>[{'label': 'display', 'lat': 35.80797655681128...</td>\n",
              "      <td>1173</td>\n",
              "      <td>IR</td>\n",
              "      <td>تهران</td>\n",
              "      <td>تهران</td>\n",
              "      <td>ایران</td>\n",
              "      <td>[Zaferaniyeh St. (Akbari St.), تهران, تهران, ا...</td>\n",
              "      <td>NaN</td>\n",
              "      <td>NaN</td>\n",
              "      <td>51a73610498e5ffbbf65ea15</td>\n",
              "    </tr>\n",
              "    <tr>\n",
              "      <th>12</th>\n",
              "      <td>Nayeb Restaurant | رستوران نایب (رستوران نایب)</td>\n",
              "      <td>Persian Restaurant</td>\n",
              "      <td>No. 1719, Valiasr Ave.</td>\n",
              "      <td>Pesyan Bus Station</td>\n",
              "      <td>35.799801</td>\n",
              "      <td>51.418742</td>\n",
              "      <td>[{'label': 'display', 'lat': 35.79980111825937...</td>\n",
              "      <td>1211</td>\n",
              "      <td>IR</td>\n",
              "      <td>تهران</td>\n",
              "      <td>تهران</td>\n",
              "      <td>ایران</td>\n",
              "      <td>[No. 1719, Valiasr Ave. (Pesyan Bus Station), ...</td>\n",
              "      <td>NaN</td>\n",
              "      <td>1961613411</td>\n",
              "      <td>4fa018dae4b0bf270c6a6012</td>\n",
              "    </tr>\n",
              "    <tr>\n",
              "      <th>13</th>\n",
              "      <td>Part Café &amp; Restaurant | کافه رستوران پارت (کا...</td>\n",
              "      <td>Restaurant</td>\n",
              "      <td>Jalalvand St.</td>\n",
              "      <td>Tajrish Sq.</td>\n",
              "      <td>35.808420</td>\n",
              "      <td>51.428468</td>\n",
              "      <td>[{'label': 'display', 'lat': 35.80841965524997...</td>\n",
              "      <td>161</td>\n",
              "      <td>IR</td>\n",
              "      <td>تهران</td>\n",
              "      <td>تهران</td>\n",
              "      <td>ایران</td>\n",
              "      <td>[Jalalvand St. (Tajrish Sq.), تهران, تهران 198...</td>\n",
              "      <td>District 1</td>\n",
              "      <td>1989616653</td>\n",
              "      <td>56ce0d5e498eb1b5bba8aa30</td>\n",
              "    </tr>\n",
              "    <tr>\n",
              "      <th>14</th>\n",
              "      <td>Bam-e Sabz Café &amp; Restaurant (کافه رستوران بام...</td>\n",
              "      <td>Restaurant</td>\n",
              "      <td>Tajrish Arg Center</td>\n",
              "      <td>NaN</td>\n",
              "      <td>35.807592</td>\n",
              "      <td>51.426230</td>\n",
              "      <td>[{'label': 'display', 'lat': 35.807592, 'lng':...</td>\n",
              "      <td>242</td>\n",
              "      <td>IR</td>\n",
              "      <td>تهران</td>\n",
              "      <td>تهران</td>\n",
              "      <td>ایران</td>\n",
              "      <td>[Tajrish Arg Center, تهران, تهران, ایران]</td>\n",
              "      <td>District 1</td>\n",
              "      <td>NaN</td>\n",
              "      <td>5d8d1dace284e60008e922ac</td>\n",
              "    </tr>\n",
              "    <tr>\n",
              "      <th>15</th>\n",
              "      <td>Hafezieh Restaurant | رستوران حافظیه (رستوران ...</td>\n",
              "      <td>Persian Restaurant</td>\n",
              "      <td>Valiasr Ave.</td>\n",
              "      <td>NaN</td>\n",
              "      <td>35.806117</td>\n",
              "      <td>51.423106</td>\n",
              "      <td>[{'label': 'display', 'lat': 35.8061174154478,...</td>\n",
              "      <td>524</td>\n",
              "      <td>IR</td>\n",
              "      <td>تهران</td>\n",
              "      <td>تهران</td>\n",
              "      <td>ایران</td>\n",
              "      <td>[Valiasr Ave., تهران, تهران, ایران]</td>\n",
              "      <td>NaN</td>\n",
              "      <td>NaN</td>\n",
              "      <td>538c4b47498ee7f0fb2e3ad8</td>\n",
              "    </tr>\n",
              "    <tr>\n",
              "      <th>16</th>\n",
              "      <td>Part cafe &amp; Restaurant &amp; Hooka Lounge / كافه ر...</td>\n",
              "      <td>Café</td>\n",
              "      <td>No 2 , Jalalvand St</td>\n",
              "      <td>Tajrish Sq</td>\n",
              "      <td>35.809770</td>\n",
              "      <td>51.427966</td>\n",
              "      <td>[{'label': 'display', 'lat': 35.80977, 'lng': ...</td>\n",
              "      <td>318</td>\n",
              "      <td>IR</td>\n",
              "      <td>تهران</td>\n",
              "      <td>تهران</td>\n",
              "      <td>ایران</td>\n",
              "      <td>[No 2 , Jalalvand St (Tajrish Sq), تهران, تهرا...</td>\n",
              "      <td>NaN</td>\n",
              "      <td>NaN</td>\n",
              "      <td>57f973df498e98832fe138bf</td>\n",
              "    </tr>\n",
              "    <tr>\n",
              "      <th>17</th>\n",
              "      <td>Atorina Restaurant | رستوران آتورینا</td>\n",
              "      <td>Italian Restaurant</td>\n",
              "      <td>Parseh Shopping Center, Sarshaar Aly.</td>\n",
              "      <td>Valiasr Ave.</td>\n",
              "      <td>35.806366</td>\n",
              "      <td>51.424946</td>\n",
              "      <td>[{'label': 'display', 'lat': 35.80636596679687...</td>\n",
              "      <td>356</td>\n",
              "      <td>IR</td>\n",
              "      <td>تهران</td>\n",
              "      <td>تهران</td>\n",
              "      <td>ایران</td>\n",
              "      <td>[Parseh Shopping Center, Sarshaar Aly. (Valias...</td>\n",
              "      <td>NaN</td>\n",
              "      <td>NaN</td>\n",
              "      <td>5436e2cb498e1891c5713fd0</td>\n",
              "    </tr>\n",
              "    <tr>\n",
              "      <th>18</th>\n",
              "      <td>Le Chatean French Restaurant (رستوران فرانسوی ...</td>\n",
              "      <td>French Restaurant</td>\n",
              "      <td>NaN</td>\n",
              "      <td>Tajrish</td>\n",
              "      <td>35.804570</td>\n",
              "      <td>51.433682</td>\n",
              "      <td>[{'label': 'display', 'lat': 35.80457, 'lng': ...</td>\n",
              "      <td>515</td>\n",
              "      <td>IR</td>\n",
              "      <td>تهران</td>\n",
              "      <td>تهران</td>\n",
              "      <td>ایران</td>\n",
              "      <td>[Tajrish, تهران, تهران, ایران]</td>\n",
              "      <td>NaN</td>\n",
              "      <td>NaN</td>\n",
              "      <td>5609768a498e9b727e009ce1</td>\n",
              "    </tr>\n",
              "    <tr>\n",
              "      <th>19</th>\n",
              "      <td>Ciro Restaurant</td>\n",
              "      <td>Italian Restaurant</td>\n",
              "      <td>No 102 West Soleymani</td>\n",
              "      <td>Andarzgoo Blvd</td>\n",
              "      <td>35.798563</td>\n",
              "      <td>51.443979</td>\n",
              "      <td>[{'label': 'display', 'lat': 35.798563, 'lng':...</td>\n",
              "      <td>1659</td>\n",
              "      <td>IR</td>\n",
              "      <td>تهران</td>\n",
              "      <td>تهران</td>\n",
              "      <td>ایران</td>\n",
              "      <td>[No 102 West Soleymani (Andarzgoo Blvd), تهران...</td>\n",
              "      <td>District 1</td>\n",
              "      <td>NaN</td>\n",
              "      <td>5c49f843d3cce80039560820</td>\n",
              "    </tr>\n",
              "    <tr>\n",
              "      <th>20</th>\n",
              "      <td>Raad Restaurant | رستوران راد</td>\n",
              "      <td>Restaurant</td>\n",
              "      <td>Valiasr Ave.</td>\n",
              "      <td>NaN</td>\n",
              "      <td>35.805944</td>\n",
              "      <td>51.422837</td>\n",
              "      <td>[{'label': 'display', 'lat': 35.80594439394156...</td>\n",
              "      <td>552</td>\n",
              "      <td>IR</td>\n",
              "      <td>تهران</td>\n",
              "      <td>تهران</td>\n",
              "      <td>ایران</td>\n",
              "      <td>[Valiasr Ave., تهران, تهران, ایران]</td>\n",
              "      <td>NaN</td>\n",
              "      <td>NaN</td>\n",
              "      <td>515962aee4b094033164641d</td>\n",
              "    </tr>\n",
              "    <tr>\n",
              "      <th>21</th>\n",
              "      <td>Shamshiri Restaurant | رستوران شمشیری (رستوران...</td>\n",
              "      <td>Persian Restaurant</td>\n",
              "      <td>NaN</td>\n",
              "      <td>NaN</td>\n",
              "      <td>35.806058</td>\n",
              "      <td>51.422832</td>\n",
              "      <td>[{'label': 'display', 'lat': 35.806058, 'lng':...</td>\n",
              "      <td>550</td>\n",
              "      <td>IR</td>\n",
              "      <td>تهران</td>\n",
              "      <td>تهران</td>\n",
              "      <td>ایران</td>\n",
              "      <td>[تهران, تهران, ایران]</td>\n",
              "      <td>NaN</td>\n",
              "      <td>NaN</td>\n",
              "      <td>5c07bddbc36588002cb85bde</td>\n",
              "    </tr>\n",
              "    <tr>\n",
              "      <th>22</th>\n",
              "      <td>HighNoon Restaurant (رستورانِ های‌نون)</td>\n",
              "      <td>Persian Restaurant</td>\n",
              "      <td>Tajrish Square, Darbandi St, Dr. Hesabi St, Ir...</td>\n",
              "      <td>NaN</td>\n",
              "      <td>35.798702</td>\n",
              "      <td>51.425154</td>\n",
              "      <td>[{'label': 'display', 'lat': 35.79870170632096...</td>\n",
              "      <td>980</td>\n",
              "      <td>IR</td>\n",
              "      <td>تهران</td>\n",
              "      <td>تهران</td>\n",
              "      <td>ایران</td>\n",
              "      <td>[Tajrish Square, Darbandi St, Dr. Hesabi St, I...</td>\n",
              "      <td>NaN</td>\n",
              "      <td>1965834414</td>\n",
              "      <td>5c222f57b6b04b002c55f4fc</td>\n",
              "    </tr>\n",
              "    <tr>\n",
              "      <th>23</th>\n",
              "      <td>Pardis Restaurant | رستوران پرديس</td>\n",
              "      <td>Persian Restaurant</td>\n",
              "      <td>No. 2776, Valiasr Ave.</td>\n",
              "      <td>Parkway</td>\n",
              "      <td>35.794964</td>\n",
              "      <td>51.417154</td>\n",
              "      <td>[{'label': 'display', 'lat': 35.79496385056835...</td>\n",
              "      <td>1703</td>\n",
              "      <td>IR</td>\n",
              "      <td>تهران</td>\n",
              "      <td>تهران</td>\n",
              "      <td>ایران</td>\n",
              "      <td>[No. 2776, Valiasr Ave. (Parkway), تهران, تهرا...</td>\n",
              "      <td>District 1</td>\n",
              "      <td>NaN</td>\n",
              "      <td>5151b3e3e4b0be643b19650c</td>\n",
              "    </tr>\n",
              "    <tr>\n",
              "      <th>24</th>\n",
              "      <td>Gilar Restaurant | رستوران گیلار (رستوران گیلار)</td>\n",
              "      <td>Persian Restaurant</td>\n",
              "      <td>Niavaran</td>\n",
              "      <td>Mojdeh Crossroad</td>\n",
              "      <td>35.808759</td>\n",
              "      <td>51.442494</td>\n",
              "      <td>[{'label': 'display', 'lat': 35.80875889992664...</td>\n",
              "      <td>1250</td>\n",
              "      <td>IR</td>\n",
              "      <td>تهران</td>\n",
              "      <td>تهران</td>\n",
              "      <td>ایران</td>\n",
              "      <td>[Niavaran (Mojdeh Crossroad), تهران, تهران, ای...</td>\n",
              "      <td>NaN</td>\n",
              "      <td>NaN</td>\n",
              "      <td>509e429be4b0d1661bdbd7f3</td>\n",
              "    </tr>\n",
              "    <tr>\n",
              "      <th>25</th>\n",
              "      <td>Rodizio Brazilian Restaurant | رستوران برزیلی ...</td>\n",
              "      <td>Brazilian Restaurant</td>\n",
              "      <td>Palladium, Moghadas Ardebili St.</td>\n",
              "      <td>NaN</td>\n",
              "      <td>35.798017</td>\n",
              "      <td>51.412950</td>\n",
              "      <td>[{'label': 'display', 'lat': 35.79801741313619...</td>\n",
              "      <td>1746</td>\n",
              "      <td>IR</td>\n",
              "      <td>تهران</td>\n",
              "      <td>تهران</td>\n",
              "      <td>ایران</td>\n",
              "      <td>[Palladium, Moghadas Ardebili St., تهران, تهرا...</td>\n",
              "      <td>NaN</td>\n",
              "      <td>NaN</td>\n",
              "      <td>58ee6b3193eaf844b6b775a2</td>\n",
              "    </tr>\n",
              "    <tr>\n",
              "      <th>26</th>\n",
              "      <td>Tajrasht Café And Restaurant</td>\n",
              "      <td>Restaurant</td>\n",
              "      <td>Tadayon dead end , Shariati streer , Tajrish s...</td>\n",
              "      <td>NaN</td>\n",
              "      <td>35.806970</td>\n",
              "      <td>51.429325</td>\n",
              "      <td>[{'label': 'display', 'lat': 35.80697, 'lng': ...</td>\n",
              "      <td>46</td>\n",
              "      <td>IR</td>\n",
              "      <td>تهران</td>\n",
              "      <td>تهران</td>\n",
              "      <td>ایران</td>\n",
              "      <td>[Tadayon dead end , Shariati streer , Tajrish ...</td>\n",
              "      <td>NaN</td>\n",
              "      <td>NaN</td>\n",
              "      <td>5f92a4ed30968d739cc73afc</td>\n",
              "    </tr>\n",
              "    <tr>\n",
              "      <th>27</th>\n",
              "      <td>S.P.O Royal Restaurant | اسپئو (رویال اس‌پی‌ئو)</td>\n",
              "      <td>Persian Restaurant</td>\n",
              "      <td>4th Fl., Palladium</td>\n",
              "      <td>Moghaddas Ardebili St.</td>\n",
              "      <td>35.797748</td>\n",
              "      <td>51.413158</td>\n",
              "      <td>[{'label': 'display', 'lat': 35.79774801803619...</td>\n",
              "      <td>1748</td>\n",
              "      <td>IR</td>\n",
              "      <td>تهران</td>\n",
              "      <td>تهران</td>\n",
              "      <td>ایران</td>\n",
              "      <td>[4th Fl., Palladium (Moghaddas Ardebili St.), ...</td>\n",
              "      <td>NaN</td>\n",
              "      <td>NaN</td>\n",
              "      <td>5510754e498eb06e67034ad3</td>\n",
              "    </tr>\n",
              "    <tr>\n",
              "      <th>28</th>\n",
              "      <td>Lux-e Shamshiri Restaurant (رستوران لوکس شمشیری)</td>\n",
              "      <td>Persian Restaurant</td>\n",
              "      <td>Valiasr Ave.</td>\n",
              "      <td>Yekta Aly.</td>\n",
              "      <td>35.805412</td>\n",
              "      <td>51.414065</td>\n",
              "      <td>[{'label': 'display', 'lat': 35.80541184666656...</td>\n",
              "      <td>1343</td>\n",
              "      <td>IR</td>\n",
              "      <td>Tehran</td>\n",
              "      <td>Tehran Province</td>\n",
              "      <td>ایران</td>\n",
              "      <td>[Valiasr Ave. (Yekta Aly.), Tehran, Tehran Pro...</td>\n",
              "      <td>NaN</td>\n",
              "      <td>NaN</td>\n",
              "      <td>531d8618498e8d90107572a5</td>\n",
              "    </tr>\n",
              "    <tr>\n",
              "      <th>29</th>\n",
              "      <td>Dalloon Restaurant | رستوران دالون</td>\n",
              "      <td>Fast Food Restaurant</td>\n",
              "      <td>Tajrish Sq.</td>\n",
              "      <td>Northwest Side</td>\n",
              "      <td>35.806947</td>\n",
              "      <td>51.428254</td>\n",
              "      <td>[{'label': 'display', 'lat': 35.80694690516130...</td>\n",
              "      <td>50</td>\n",
              "      <td>IR</td>\n",
              "      <td>تهران</td>\n",
              "      <td>تهران</td>\n",
              "      <td>ایران</td>\n",
              "      <td>[Tajrish Sq. (Northwest Side), تهران, تهران, ا...</td>\n",
              "      <td>NaN</td>\n",
              "      <td>NaN</td>\n",
              "      <td>510f861be4b07546a8470ce0</td>\n",
              "    </tr>\n",
              "  </tbody>\n",
              "</table>\n",
              "</div>"
            ],
            "text/plain": [
              "                                                 name  ...                        id\n",
              "0   Rebelan Cafe & Restaurant | کافه و رستوران ربل...  ...  5bc0cb46ccad6b002ca5db2e\n",
              "1   Rāš Café & Restaurant |‌ کافه و رستوران راش (ک...  ...  5c504285d03360002cc9dbd4\n",
              "2   Rouhi Café & Restaurant | کافه رستوران روحی (ک...  ...  5c2798ecf05ca8002d832e82\n",
              "3   Déjàvu Restaurant | رستوران مدیترانه ای دژاوو ...  ...  52aa077c11d29b0830a4a910\n",
              "4   Ribar Café Restaurant | کافه رستوران ریبار (کا...  ...  524d6243498edf4831d57431\n",
              "5   Gheyme.com Cafe & Restaurant | قیمه دات‌کام (ق...  ...  5e481965768bdd0008c8af68\n",
              "6   Baghcheh Traditional Restaurant | رستوران سنتی...  ...  52a1db5b11d2334522301d19\n",
              "7     Foloot Restaurant | رستوران فلوت (رستوران فلوت)  ...  50f28ce1e4b04eb64385b50a\n",
              "8   Buono Italian Restaurant (رستوران ایتالیایی بونو)  ...  5c5dd37a2f97ec002c1b9783\n",
              "9   Ghassab 2 Restaurant | رستوران قصاب ۲ (رستوران...  ...  5ba7c7e40a08ab002c8843f0\n",
              "10                                   Valak Restaurant  ...  58fe0025a423622722c4ec50\n",
              "11  77 Restaurant and Café | رستوران و کافه ۷۷ (رس...  ...  51a73610498e5ffbbf65ea15\n",
              "12     Nayeb Restaurant | رستوران نایب (رستوران نایب)  ...  4fa018dae4b0bf270c6a6012\n",
              "13  Part Café & Restaurant | کافه رستوران پارت (کا...  ...  56ce0d5e498eb1b5bba8aa30\n",
              "14  Bam-e Sabz Café & Restaurant (کافه رستوران بام...  ...  5d8d1dace284e60008e922ac\n",
              "15  Hafezieh Restaurant | رستوران حافظیه (رستوران ...  ...  538c4b47498ee7f0fb2e3ad8\n",
              "16  Part cafe & Restaurant & Hooka Lounge / كافه ر...  ...  57f973df498e98832fe138bf\n",
              "17               Atorina Restaurant | رستوران آتورینا  ...  5436e2cb498e1891c5713fd0\n",
              "18  Le Chatean French Restaurant (رستوران فرانسوی ...  ...  5609768a498e9b727e009ce1\n",
              "19                                    Ciro Restaurant  ...  5c49f843d3cce80039560820\n",
              "20                      Raad Restaurant | رستوران راد  ...  515962aee4b094033164641d\n",
              "21  Shamshiri Restaurant | رستوران شمشیری (رستوران...  ...  5c07bddbc36588002cb85bde\n",
              "22             HighNoon Restaurant (رستورانِ های‌نون)  ...  5c222f57b6b04b002c55f4fc\n",
              "23                  Pardis Restaurant | رستوران پرديس  ...  5151b3e3e4b0be643b19650c\n",
              "24   Gilar Restaurant | رستوران گیلار (رستوران گیلار)  ...  509e429be4b0d1661bdbd7f3\n",
              "25  Rodizio Brazilian Restaurant | رستوران برزیلی ...  ...  58ee6b3193eaf844b6b775a2\n",
              "26                       Tajrasht Café And Restaurant  ...  5f92a4ed30968d739cc73afc\n",
              "27    S.P.O Royal Restaurant | اسپئو (رویال اس‌پی‌ئو)  ...  5510754e498eb06e67034ad3\n",
              "28   Lux-e Shamshiri Restaurant (رستوران لوکس شمشیری)  ...  531d8618498e8d90107572a5\n",
              "29                 Dalloon Restaurant | رستوران دالون  ...  510f861be4b07546a8470ce0\n",
              "\n",
              "[30 rows x 16 columns]"
            ]
          },
          "metadata": {
            "tags": []
          },
          "execution_count": 8
        }
      ]
    },
    {
      "cell_type": "markdown",
      "metadata": {
        "button": false,
        "new_sheet": false,
        "run_control": {
          "read_only": false
        },
        "id": "qcevpzxlFnlK"
      },
      "source": [
        "#### Let's visualize the Italian restaurants that are nearby\n"
      ]
    },
    {
      "cell_type": "code",
      "metadata": {
        "button": false,
        "jupyter": {
          "outputs_hidden": false
        },
        "new_sheet": false,
        "run_control": {
          "read_only": false
        },
        "id": "8KB55EqjFnlK",
        "outputId": "7344ef8f-4f16-4fed-ef78-2902eeb81b8d",
        "colab": {
          "base_uri": "https://localhost:8080/"
        }
      },
      "source": [
        "dataframe_filtered.name"
      ],
      "execution_count": 9,
      "outputs": [
        {
          "output_type": "execute_result",
          "data": {
            "text/plain": [
              "0     Rebelan Cafe & Restaurant | کافه و رستوران ربل...\n",
              "1     Rāš Café & Restaurant |‌ کافه و رستوران راش (ک...\n",
              "2     Rouhi Café & Restaurant | کافه رستوران روحی (ک...\n",
              "3     Déjàvu Restaurant | رستوران مدیترانه ای دژاوو ...\n",
              "4     Ribar Café Restaurant | کافه رستوران ریبار (کا...\n",
              "5     Gheyme.com Cafe & Restaurant | قیمه دات‌کام (ق...\n",
              "6     Baghcheh Traditional Restaurant | رستوران سنتی...\n",
              "7       Foloot Restaurant | رستوران فلوت (رستوران فلوت)\n",
              "8     Buono Italian Restaurant (رستوران ایتالیایی بونو)\n",
              "9     Ghassab 2 Restaurant | رستوران قصاب ۲ (رستوران...\n",
              "10                                     Valak Restaurant\n",
              "11    77 Restaurant and Café | رستوران و کافه ۷۷ (رس...\n",
              "12       Nayeb Restaurant | رستوران نایب (رستوران نایب)\n",
              "13    Part Café & Restaurant | کافه رستوران پارت (کا...\n",
              "14    Bam-e Sabz Café & Restaurant (کافه رستوران بام...\n",
              "15    Hafezieh Restaurant | رستوران حافظیه (رستوران ...\n",
              "16    Part cafe & Restaurant & Hooka Lounge / كافه ر...\n",
              "17                 Atorina Restaurant | رستوران آتورینا\n",
              "18    Le Chatean French Restaurant (رستوران فرانسوی ...\n",
              "19                                      Ciro Restaurant\n",
              "20                        Raad Restaurant | رستوران راد\n",
              "21    Shamshiri Restaurant | رستوران شمشیری (رستوران...\n",
              "22               HighNoon Restaurant (رستورانِ های‌نون)\n",
              "23                    Pardis Restaurant | رستوران پرديس\n",
              "24     Gilar Restaurant | رستوران گیلار (رستوران گیلار)\n",
              "25    Rodizio Brazilian Restaurant | رستوران برزیلی ...\n",
              "26                         Tajrasht Café And Restaurant\n",
              "27      S.P.O Royal Restaurant | اسپئو (رویال اس‌پی‌ئو)\n",
              "28     Lux-e Shamshiri Restaurant (رستوران لوکس شمشیری)\n",
              "29                   Dalloon Restaurant | رستوران دالون\n",
              "Name: name, dtype: object"
            ]
          },
          "metadata": {
            "tags": []
          },
          "execution_count": 9
        }
      ]
    },
    {
      "cell_type": "code",
      "metadata": {
        "button": false,
        "jupyter": {
          "outputs_hidden": false
        },
        "new_sheet": false,
        "run_control": {
          "read_only": false
        },
        "scrolled": true,
        "id": "nnOrrfRmFnlO",
        "outputId": "e154a78e-fbf7-4d61-beb2-8292c1fa78e2",
        "colab": {
          "base_uri": "https://localhost:8080/",
          "height": 814
        }
      },
      "source": [
        "venues_map = folium.Map(location=[latitude, longitude], zoom_start=13) # generate map centred around the Conrad Hotel\n",
        "\n",
        "# add a red circle marker to represent the Conrad Hotel\n",
        "folium.CircleMarker(\n",
        "    [latitude, longitude],\n",
        "    radius=10,\n",
        "    color='red',\n",
        "    popup='Conrad Hotel',\n",
        "    fill = True,\n",
        "    fill_color = 'red',\n",
        "    fill_opacity = 0.6\n",
        ").add_to(venues_map)\n",
        "\n",
        "# add the Italian restaurants as blue circle markers\n",
        "for lat, lng, label in zip(dataframe_filtered.lat, dataframe_filtered.lng, dataframe_filtered.categories):\n",
        "    folium.CircleMarker(\n",
        "        [lat, lng],\n",
        "        radius=5,\n",
        "        color='blue',\n",
        "        popup=label,\n",
        "        fill = True,\n",
        "        fill_color='blue',\n",
        "        fill_opacity=0.6\n",
        "    ).add_to(venues_map)\n",
        "\n",
        "# display map\n",
        "venues_map"
      ],
      "execution_count": 10,
      "outputs": [
        {
          "output_type": "execute_result",
          "data": {
            "text/html": [
              "<div style=\"width:100%;\"><div style=\"position:relative;width:100%;height:0;padding-bottom:60%;\"><span style=\"color:#565656\">Make this Notebook Trusted to load map: File -> Trust Notebook</span><iframe src=\"about:blank\" style=\"position:absolute;width:100%;height:100%;left:0;top:0;border:none !important;\" data-html=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 onload=\"this.contentDocument.open();this.contentDocument.write(atob(this.getAttribute('data-html')));this.contentDocument.close();\" allowfullscreen webkitallowfullscreen mozallowfullscreen></iframe></div></div>"
            ],
            "text/plain": [
              "<folium.folium.Map at 0x7f7b23821eb8>"
            ]
          },
          "metadata": {
            "tags": []
          },
          "execution_count": 10
        }
      ]
    },
    {
      "cell_type": "markdown",
      "metadata": {
        "button": false,
        "new_sheet": false,
        "run_control": {
          "read_only": false
        },
        "id": "5xJJgocbFnlT"
      },
      "source": [
        "\n"
      ]
    },
    {
      "cell_type": "markdown",
      "metadata": {
        "button": false,
        "new_sheet": false,
        "run_control": {
          "read_only": false
        },
        "id": "uYzD3xUkFnlU"
      },
      "source": [
        "<a id=\"item2\"></a>\n"
      ]
    },
    {
      "cell_type": "markdown",
      "metadata": {
        "button": false,
        "new_sheet": false,
        "run_control": {
          "read_only": false
        },
        "id": "dndBkGfRFnlV"
      },
      "source": [
        "## 2. Explore a Given Venue\n",
        "\n",
        "> `https://api.foursquare.com/v2/venues/`**VENUE_ID**`?client_id=`**CLIENT_ID**`&client_secret=`**CLIENT_SECRET**`&v=`**VERSION**\n"
      ]
    },
    {
      "cell_type": "markdown",
      "metadata": {
        "button": false,
        "new_sheet": false,
        "run_control": {
          "read_only": false
        },
        "id": "z7rOdupQFnlW"
      },
      "source": [
        "### A. Let's explore the closest Italian restaurant -- _Harry's Italian Pizza Bar_\n"
      ]
    },
    {
      "cell_type": "code",
      "metadata": {
        "button": false,
        "jupyter": {
          "outputs_hidden": false
        },
        "new_sheet": false,
        "run_control": {
          "read_only": false
        },
        "id": "GrxYQXNOFnlW",
        "outputId": "7faf24a9-adc2-45b4-dbf4-3c41287e0da4",
        "colab": {
          "base_uri": "https://localhost:8080/",
          "height": 53
        }
      },
      "source": [
        "venue_id = '5c504285d03360002cc9dbd4' # ID of Harry's Italian Pizza Bar\n",
        "url = 'https://api.foursquare.com/v2/venues/{}?client_id={}&client_secret={}&v={}'.format(venue_id, CLIENT_ID, CLIENT_SECRET, VERSION)\n",
        "url"
      ],
      "execution_count": 11,
      "outputs": [
        {
          "output_type": "execute_result",
          "data": {
            "application/vnd.google.colaboratory.intrinsic+json": {
              "type": "string"
            },
            "text/plain": [
              "'https://api.foursquare.com/v2/venues/5c504285d03360002cc9dbd4?client_id=RZ4H2M3IIHZWWXT0LEQQL44UT5DQITVYQY3GLIWFWIDV3NDR&client_secret=KNGLLHDYW5HPZ5VR4BMFUIW1S1OUDRUX3C13533QP2IKGWN3&v=20201106'"
            ]
          },
          "metadata": {
            "tags": []
          },
          "execution_count": 11
        }
      ]
    },
    {
      "cell_type": "markdown",
      "metadata": {
        "button": false,
        "new_sheet": false,
        "run_control": {
          "read_only": false
        },
        "id": "sKbJZq_UFnlb"
      },
      "source": [
        "#### Send GET request for result\n"
      ]
    },
    {
      "cell_type": "code",
      "metadata": {
        "button": false,
        "jupyter": {
          "outputs_hidden": false
        },
        "new_sheet": false,
        "run_control": {
          "read_only": false
        },
        "id": "-KWkAnrkFnlc",
        "outputId": "b9dcabc3-1432-4cfd-f9fd-707ac84ead0d",
        "colab": {
          "base_uri": "https://localhost:8080/"
        }
      },
      "source": [
        "result = requests.get(url).json()\n",
        "print(result['response']['venue'].keys())\n",
        "result['response']['venue']"
      ],
      "execution_count": 12,
      "outputs": [
        {
          "output_type": "stream",
          "text": [
            "dict_keys(['id', 'name', 'contact', 'location', 'canonicalUrl', 'categories', 'verified', 'stats', 'price', 'likes', 'dislike', 'ok', 'rating', 'ratingColor', 'ratingSignals', 'allowMenuUrlEdit', 'beenHere', 'specials', 'photos', 'reasons', 'hereNow', 'createdAt', 'tips', 'shortUrl', 'timeZone', 'listed', 'hours', 'popular', 'seasonalHours', 'defaultHours', 'pageUpdates', 'inbox', 'parent', 'hierarchy', 'attributes', 'bestPhoto', 'colors'])\n"
          ],
          "name": "stdout"
        },
        {
          "output_type": "execute_result",
          "data": {
            "text/plain": [
              "{'allowMenuUrlEdit': True,\n",
              " 'attributes': {'groups': [{'count': 1,\n",
              "    'items': [{'displayName': 'Price', 'displayValue': '$', 'priceTier': 1}],\n",
              "    'name': 'Price',\n",
              "    'summary': '$',\n",
              "    'type': 'price'},\n",
              "   {'count': 3,\n",
              "    'items': [{'displayName': 'Reservations', 'displayValue': 'Yes'}],\n",
              "    'name': 'Reservations',\n",
              "    'summary': 'Reservations',\n",
              "    'type': 'reservations'},\n",
              "   {'count': 5,\n",
              "    'items': [{'displayName': 'Credit Cards', 'displayValue': 'Yes'}],\n",
              "    'name': 'Credit Cards',\n",
              "    'summary': 'Credit Cards',\n",
              "    'type': 'payments'},\n",
              "   {'count': 1,\n",
              "    'items': [{'displayName': 'Outdoor Seating', 'displayValue': 'Yes'}],\n",
              "    'name': 'Outdoor Seating',\n",
              "    'summary': 'Outdoor Seating',\n",
              "    'type': 'outdoorSeating'},\n",
              "   {'count': 3,\n",
              "    'items': [{'displayName': 'Music', 'displayValue': 'Yes'}],\n",
              "    'name': 'Music',\n",
              "    'summary': 'Music',\n",
              "    'type': 'music'},\n",
              "   {'count': 1,\n",
              "    'items': [{'displayName': 'Wi-Fi', 'displayValue': 'No'}],\n",
              "    'name': 'Wi-Fi',\n",
              "    'type': 'wifi'},\n",
              "   {'count': 8,\n",
              "    'items': [{'displayName': 'Breakfast', 'displayValue': 'Breakfast'},\n",
              "     {'displayName': 'Brunch', 'displayValue': 'Brunch'},\n",
              "     {'displayName': 'Lunch', 'displayValue': 'Lunch'},\n",
              "     {'displayName': 'Dinner', 'displayValue': 'Dinner'},\n",
              "     {'displayName': 'Dessert', 'displayValue': 'Dessert'}],\n",
              "    'name': 'Menus',\n",
              "    'summary': 'Dessert, Lunch & more',\n",
              "    'type': 'serves'},\n",
              "   {'count': 5,\n",
              "    'items': [{'displayName': 'Bar Service', 'displayValue': 'Bar Service'},\n",
              "     {'displayName': 'Take-out', 'displayValue': 'Take-out'}],\n",
              "    'name': 'Dining Options',\n",
              "    'summary': 'Bar Service & Take-out',\n",
              "    'type': 'diningOptions'},\n",
              "   {'count': 5,\n",
              "    'items': [{'displayName': 'Street Parking', 'displayValue': 'Street'}],\n",
              "    'name': 'Parking',\n",
              "    'summary': 'Street Parking',\n",
              "    'type': 'parking'},\n",
              "   {'count': 1,\n",
              "    'items': [{'displayName': 'Restroom', 'displayValue': 'Yes'}],\n",
              "    'name': 'Restroom',\n",
              "    'summary': 'Restroom',\n",
              "    'type': 'restroom'},\n",
              "   {'count': 1,\n",
              "    'items': [{'displayName': 'Smoking', 'displayValue': 'Yes'}],\n",
              "    'name': 'Smoking',\n",
              "    'summary': 'Smoking',\n",
              "    'type': 'smoking'}]},\n",
              " 'beenHere': {'count': 0,\n",
              "  'lastCheckinExpiredAt': 0,\n",
              "  'marked': False,\n",
              "  'unconfirmedCount': 0},\n",
              " 'bestPhoto': {'createdAt': 1548765012,\n",
              "  'height': 1261,\n",
              "  'id': '5c5047549ef8ef002c74aa60',\n",
              "  'prefix': 'https://fastly.4sqi.net/img/general/',\n",
              "  'source': {'name': 'Swarm for iOS', 'url': 'https://www.swarmapp.com'},\n",
              "  'suffix': '/51485871_MWpg9Q55x_3fVr2c-zFEBOfUQx4BHuyrKCy3Si1fScw.jpg',\n",
              "  'visibility': 'public',\n",
              "  'width': 1920},\n",
              " 'canonicalUrl': 'https://foursquare.com/v/r%C4%81%C5%A1-caf%C3%A9--restaurant--%DA%A9%D8%A7%D9%81%D9%87-%D9%88-%D8%B1%D8%B3%D8%AA%D9%88%D8%B1%D8%A7%D9%86-%D8%B1%D8%A7%D8%B4/5c504285d03360002cc9dbd4',\n",
              " 'categories': [{'icon': {'prefix': 'https://ss3.4sqi.net/img/categories_v2/food/cafe_',\n",
              "    'suffix': '.png'},\n",
              "   'id': '4bf58dd8d48988d16d941735',\n",
              "   'name': 'Café',\n",
              "   'pluralName': 'Cafés',\n",
              "   'primary': True,\n",
              "   'shortName': 'Café'},\n",
              "  {'icon': {'prefix': 'https://ss3.4sqi.net/img/categories_v2/food/default_',\n",
              "    'suffix': '.png'},\n",
              "   'id': '4bf58dd8d48988d1c4941735',\n",
              "   'name': 'Restaurant',\n",
              "   'pluralName': 'Restaurants',\n",
              "   'shortName': 'Restaurant'}],\n",
              " 'colors': {'algoVersion': 3,\n",
              "  'highlightColor': {'photoId': '5c5047549ef8ef002c74aa60',\n",
              "   'value': -14673912},\n",
              "  'highlightTextColor': {'photoId': '5c5047549ef8ef002c74aa60', 'value': -1}},\n",
              " 'contact': {'facebook': '110059384104514',\n",
              "  'facebookName': 'Ras Cafe Restaurant',\n",
              "  'facebookUsername': 'rascaferestaurant',\n",
              "  'formattedPhone': '+98 21 2271 6010',\n",
              "  'instagram': 'rascenter',\n",
              "  'phone': '+982122716010'},\n",
              " 'createdAt': 1548763781,\n",
              " 'defaultHours': {'dayData': [],\n",
              "  'isLocalHoliday': False,\n",
              "  'isOpen': True,\n",
              "  'richStatus': {'entities': [], 'text': 'Open until 11:30 PM'},\n",
              "  'status': 'Open until 11:30 PM',\n",
              "  'timeframes': [{'days': 'Mon–Sun',\n",
              "    'includesToday': True,\n",
              "    'open': [{'renderedTime': 'Noon–11:30 PM'}],\n",
              "    'segments': []}]},\n",
              " 'dislike': False,\n",
              " 'hereNow': {'count': 0, 'groups': [], 'summary': 'Nobody here'},\n",
              " 'hierarchy': [{'canonicalUrl': 'https://foursquare.com/v/r%C3%A2%C5%A1-cultural-complex--%D9%85%D8%B1%DA%A9%D8%B2-%D9%81%D8%B1%D9%87%D9%86%DA%AF%DB%8C-%D8%B1%D8%A7%D8%B4/5c5046a1ff0306002c2dcf6d',\n",
              "   'id': '5c5046a1ff0306002c2dcf6d',\n",
              "   'lang': 'en',\n",
              "   'name': 'Râš Cultural Complex'}],\n",
              " 'hours': {'dayData': [],\n",
              "  'isLocalHoliday': False,\n",
              "  'isOpen': True,\n",
              "  'richStatus': {'entities': [], 'text': 'Open until 11:30 PM'},\n",
              "  'status': 'Open until 11:30 PM',\n",
              "  'timeframes': [{'days': 'Mon–Sun',\n",
              "    'includesToday': True,\n",
              "    'open': [{'renderedTime': 'Noon–11:30 PM'}],\n",
              "    'segments': []}]},\n",
              " 'id': '5c504285d03360002cc9dbd4',\n",
              " 'inbox': {'count': 0, 'items': []},\n",
              " 'likes': {'count': 111,\n",
              "  'groups': [{'count': 111, 'items': [], 'type': 'others'}],\n",
              "  'summary': '111 Likes'},\n",
              " 'listed': {'count': 76,\n",
              "  'groups': [{'count': 76,\n",
              "    'items': [{'canonicalUrl': 'https://foursquare.com/maryam5063/list/my-favorite-places-in-terhan-2',\n",
              "      'collaborative': False,\n",
              "      'createdAt': 1541447190,\n",
              "      'description': '',\n",
              "      'editable': False,\n",
              "      'followers': {'count': 2},\n",
              "      'id': '5be09e166336be002c4e2b1c',\n",
              "      'listItems': {'count': 46,\n",
              "       'items': [{'createdAt': 1552043543,\n",
              "         'id': 'v5c504285d03360002cc9dbd4'}]},\n",
              "      'name': 'My Favorite Places in Terhan 2',\n",
              "      'public': True,\n",
              "      'type': 'others',\n",
              "      'updatedAt': 1580149489,\n",
              "      'url': '/maryam5063/list/my-favorite-places-in-terhan-2',\n",
              "      'user': {'firstName': 'Maryam',\n",
              "       'id': '24965744',\n",
              "       'isSanctioned': False,\n",
              "       'lastName': 'A',\n",
              "       'photo': {'prefix': 'https://fastly.4sqi.net/img/user/',\n",
              "        'suffix': '/24965744-ORRZB201TTPJSL13.jpg'}}},\n",
              "     {'canonicalUrl': 'https://foursquare.com/user/103320259/list/zm',\n",
              "      'collaborative': True,\n",
              "      'createdAt': 1543177356,\n",
              "      'description': 'Tehran',\n",
              "      'editable': False,\n",
              "      'followers': {'count': 1},\n",
              "      'id': '5bfb048c82a7500039c259cb',\n",
              "      'listItems': {'count': 23,\n",
              "       'items': [{'createdAt': 1551388507,\n",
              "         'id': 'v5c504285d03360002cc9dbd4'}]},\n",
              "      'name': 'ZM',\n",
              "      'public': True,\n",
              "      'type': 'others',\n",
              "      'updatedAt': 1599405303,\n",
              "      'url': '/user/103320259/list/zm',\n",
              "      'user': {'firstName': 'Mohammadreza',\n",
              "       'id': '103320259',\n",
              "       'isSanctioned': False,\n",
              "       'lastName': 'V',\n",
              "       'photo': {'prefix': 'https://fastly.4sqi.net/img/user/',\n",
              "        'suffix': '/103320259-5WSHDJUKOVG4MFQ2.jpg'}}},\n",
              "     {'canonicalUrl': 'https://foursquare.com/user/65569200/list/%DA%A9%D8%A7%D9%81%D9%87%D9%87%D8%A7%DB%8C-%D8%AF%D9%88%D8%B3%D8%AF%D8%A7%D8%B4%D8%AA%D9%86%DB%8C',\n",
              "      'collaborative': False,\n",
              "      'createdAt': 1388052328,\n",
              "      'description': '',\n",
              "      'editable': False,\n",
              "      'followers': {'count': 2},\n",
              "      'id': '52bbff68498eac5966d1bf77',\n",
              "      'listItems': {'count': 130,\n",
              "       'items': [{'createdAt': 1559116183,\n",
              "         'id': 'v5c504285d03360002cc9dbd4'}]},\n",
              "      'name': 'کافه\\u200cهای دوس\\u200cداشتنی',\n",
              "      'photo': {'createdAt': 1490787509,\n",
              "       'height': 1440,\n",
              "       'id': '58db9cb5b3cdc839d4c5a9e0',\n",
              "       'prefix': 'https://fastly.4sqi.net/img/general/',\n",
              "       'suffix': '/87521771_XLxXfLYkiJHtfpNDNv_VZmSua9kCnpgkcucdva_9NxM.jpg',\n",
              "       'user': {'firstName': 'Kaveh',\n",
              "        'id': '87521771',\n",
              "        'isSanctioned': False,\n",
              "        'lastName': 'H',\n",
              "        'photo': {'prefix': 'https://fastly.4sqi.net/img/user/',\n",
              "         'suffix': '/87521771-R4TALV03COUYBM0G.jpg'}},\n",
              "       'visibility': 'public',\n",
              "       'width': 1920},\n",
              "      'public': True,\n",
              "      'type': 'others',\n",
              "      'updatedAt': 1574837852,\n",
              "      'url': '/user/65569200/list/%DA%A9%D8%A7%D9%81%D9%87%D9%87%D8%A7%DB%8C-%D8%AF%D9%88%D8%B3%D8%AF%D8%A7%D8%B4%D8%AA%D9%86%DB%8C',\n",
              "      'user': {'firstName': 'Vahid',\n",
              "       'id': '65569200',\n",
              "       'isSanctioned': False,\n",
              "       'lastName': 'M',\n",
              "       'photo': {'prefix': 'https://fastly.4sqi.net/img/user/',\n",
              "        'suffix': '/65569200_xE2Z09e3_T160YuRByCzMr0dZgNyKKZ3HNpgpnaWI6h9ReKCAWf7uHkfwdG1xzQh_oVzS6W02.jpg'}}},\n",
              "     {'canonicalUrl': 'https://foursquare.com/user/130952019/list/tehran1',\n",
              "      'collaborative': False,\n",
              "      'createdAt': 1502187334,\n",
              "      'description': '',\n",
              "      'editable': False,\n",
              "      'followers': {'count': 1},\n",
              "      'id': '59898f46f96b2c509b1bf28f',\n",
              "      'listItems': {'count': 196,\n",
              "       'items': [{'createdAt': 1553966596,\n",
              "         'id': 'v5c504285d03360002cc9dbd4'}]},\n",
              "      'name': 'Tehran1',\n",
              "      'public': True,\n",
              "      'type': 'others',\n",
              "      'updatedAt': 1598202234,\n",
              "      'url': '/user/130952019/list/tehran1',\n",
              "      'user': {'firstName': 'Rojin',\n",
              "       'id': '130952019',\n",
              "       'isSanctioned': False,\n",
              "       'photo': {'prefix': 'https://fastly.4sqi.net/img/user/',\n",
              "        'suffix': '/130952019_SEBHYeEv_KIpgj8A1I2-mjFlHtljnDYLK93b4-AEvDmorBEYhH_Tzc3G4Ll_pq8GBVHZiYjUT.jpg'}}}],\n",
              "    'name': 'Lists from other people',\n",
              "    'type': 'others'}]},\n",
              " 'location': {'address': 'No. 6, Arefnasab St.',\n",
              "  'cc': 'IR',\n",
              "  'city': 'تهران',\n",
              "  'country': 'ایران',\n",
              "  'formattedAddress': ['No. 6, Arefnasab St.', 'تهران, تهران', 'ایران'],\n",
              "  'labeledLatLngs': [{'label': 'display',\n",
              "    'lat': 35.800941317398326,\n",
              "    'lng': 51.42162008251391}],\n",
              "  'lat': 35.800941317398326,\n",
              "  'lng': 51.42162008251391,\n",
              "  'neighborhood': 'District 1',\n",
              "  'state': 'تهران'},\n",
              " 'name': 'Rāš Café & Restaurant |\\u200c کافه و رستوران راش (کافه و رستوران راش)',\n",
              " 'ok': False,\n",
              " 'pageUpdates': {'count': 0, 'items': []},\n",
              " 'parent': {'categories': [{'icon': {'prefix': 'https://ss3.4sqi.net/img/categories_v2/building/default_',\n",
              "     'suffix': '.png'},\n",
              "    'id': '52e81612bcbc57f1066b7a32',\n",
              "    'name': 'Cultural Center',\n",
              "    'pluralName': 'Cultural Centers',\n",
              "    'primary': True,\n",
              "    'shortName': 'Cultural Center'}],\n",
              "  'id': '5c5046a1ff0306002c2dcf6d',\n",
              "  'location': {'address': 'No. 6, Arefnasab St.',\n",
              "   'cc': 'IR',\n",
              "   'city': 'تهران',\n",
              "   'country': 'ایران',\n",
              "   'formattedAddress': ['No. 6, Arefnasab St.', 'تهران, تهران', 'ایران'],\n",
              "   'labeledLatLngs': [{'label': 'display',\n",
              "     'lat': 35.800839,\n",
              "     'lng': 51.421549}],\n",
              "   'lat': 35.800839,\n",
              "   'lng': 51.421549,\n",
              "   'state': 'تهران'},\n",
              "  'name': 'Râš Cultural Complex | مرکز فرهنگی راش (مرکز فرهنگی راش)'},\n",
              " 'photos': {'count': 130,\n",
              "  'groups': [{'count': 130,\n",
              "    'items': [{'createdAt': 1548765012,\n",
              "      'height': 1261,\n",
              "      'id': '5c5047549ef8ef002c74aa60',\n",
              "      'prefix': 'https://fastly.4sqi.net/img/general/',\n",
              "      'source': {'name': 'Swarm for iOS', 'url': 'https://www.swarmapp.com'},\n",
              "      'suffix': '/51485871_MWpg9Q55x_3fVr2c-zFEBOfUQx4BHuyrKCy3Si1fScw.jpg',\n",
              "      'user': {'firstName': 'Nima',\n",
              "       'id': '51485871',\n",
              "       'isSanctioned': False,\n",
              "       'lastName': 'A',\n",
              "       'photo': {'prefix': 'https://fastly.4sqi.net/img/user/',\n",
              "        'suffix': '/51485871-4PJH3UTCMKMNZOF1.jpg'}},\n",
              "      'visibility': 'public',\n",
              "      'width': 1920}],\n",
              "    'name': 'Venue photos',\n",
              "    'type': 'venue'}]},\n",
              " 'popular': {'isLocalHoliday': False,\n",
              "  'isOpen': False,\n",
              "  'timeframes': [{'days': 'Today',\n",
              "    'includesToday': True,\n",
              "    'open': [{'renderedTime': 'Noon–1:00 PM'},\n",
              "     {'renderedTime': '5:00 PM–11:00 PM'}],\n",
              "    'segments': []},\n",
              "   {'days': 'Sun',\n",
              "    'open': [{'renderedTime': '4:00 PM–11:00 PM'}],\n",
              "    'segments': []},\n",
              "   {'days': 'Mon',\n",
              "    'open': [{'renderedTime': '5:00 PM–Midnight'}],\n",
              "    'segments': []},\n",
              "   {'days': 'Tue',\n",
              "    'open': [{'renderedTime': '11:00 AM–Noon'},\n",
              "     {'renderedTime': '2:00 PM–11:00 PM'}],\n",
              "    'segments': []},\n",
              "   {'days': 'Wed',\n",
              "    'open': [{'renderedTime': '4:00 PM–10:00 PM'}],\n",
              "    'segments': []},\n",
              "   {'days': 'Thu',\n",
              "    'open': [{'renderedTime': 'Noon–2:00 PM'},\n",
              "     {'renderedTime': '5:00 PM–11:00 PM'}],\n",
              "    'segments': []},\n",
              "   {'days': 'Fri',\n",
              "    'open': [{'renderedTime': '9:00 AM–1:00 PM'},\n",
              "     {'renderedTime': '4:00 PM–Midnight'}],\n",
              "    'segments': []}]},\n",
              " 'price': {'currency': '$', 'message': 'Cheap', 'tier': 1},\n",
              " 'rating': 7.0,\n",
              " 'ratingColor': 'C5DE35',\n",
              " 'ratingSignals': 185,\n",
              " 'reasons': {'count': 1,\n",
              "  'items': [{'reasonName': 'rawLikesReason',\n",
              "    'summary': 'Lots of people like this place',\n",
              "    'type': 'general'}]},\n",
              " 'seasonalHours': [],\n",
              " 'shortUrl': 'https://4sq.com/2WpDbIp',\n",
              " 'specials': {'count': 0, 'items': []},\n",
              " 'stats': {'tipCount': 66},\n",
              " 'timeZone': 'Asia/Tehran',\n",
              " 'tips': {'count': 66,\n",
              "  'groups': [{'count': 66,\n",
              "    'items': [{'agreeCount': 7,\n",
              "      'authorInteractionType': 'meh',\n",
              "      'canonicalUrl': 'https://foursquare.com/item/5cf38b3c1c0b34002c11a0ac',\n",
              "      'createdAt': 1559464764,\n",
              "      'disagreeCount': 0,\n",
              "      'id': '5cf38b3c1c0b34002c11a0ac',\n",
              "      'lang': 'en',\n",
              "      'lastUpvoteTimestamp': 1599585539,\n",
              "      'lastVoteText': 'Upvoted Sep 8',\n",
              "      'likes': {'count': 1,\n",
              "       'groups': [{'count': 1,\n",
              "         'items': [{'firstName': 'Mazdak',\n",
              "           'id': '126906486',\n",
              "           'isSanctioned': False,\n",
              "           'lastName': 'Y',\n",
              "           'photo': {'prefix': 'https://fastly.4sqi.net/img/user/',\n",
              "            'suffix': '/126906486-3DNIB5GLFERWOW0C.jpg'}}],\n",
              "         'type': 'others'}],\n",
              "       'summary': '1 like'},\n",
              "      'logView': True,\n",
              "      'photo': {'createdAt': 1559464767,\n",
              "       'height': 1920,\n",
              "       'id': '5cf38b3f2a7ab6002cf4b02e',\n",
              "       'prefix': 'https://fastly.4sqi.net/img/general/',\n",
              "       'source': {'name': 'Foursquare for iOS',\n",
              "        'url': 'https://foursquare.com/download/#/iphone'},\n",
              "       'suffix': '/387864775_9PD7C6gHHzqD2AYSvNTOkT5fzwHPMZLisfGlawQfT8g.jpg',\n",
              "       'visibility': 'public',\n",
              "       'width': 1079},\n",
              "      'photourl': 'https://fastly.4sqi.net/img/general/original/387864775_9PD7C6gHHzqD2AYSvNTOkT5fzwHPMZLisfGlawQfT8g.jpg',\n",
              "      'text': 'The place looks really great, polite staff, bad management, not the best service, the “charcoal” tea was really great. Noisy kids playing all around can be disturbing. Worth the view.',\n",
              "      'todo': {'count': 0},\n",
              "      'type': 'user',\n",
              "      'user': {'firstName': 'Arta',\n",
              "       'id': '387864775',\n",
              "       'isSanctioned': False,\n",
              "       'lastName': 'P',\n",
              "       'photo': {'prefix': 'https://fastly.4sqi.net/img/user/',\n",
              "        'suffix': '/387864775_h1onNRB9_unY6LUyz5SZYs_JoPV-fL2SgaVkhg2gu2z7KOMKa0BoK5rZGjkF0nTwEI4Xlhwb9.jpg'}}}],\n",
              "    'name': 'All tips',\n",
              "    'type': 'others'}]},\n",
              " 'verified': False}"
            ]
          },
          "metadata": {
            "tags": []
          },
          "execution_count": 12
        }
      ]
    },
    {
      "cell_type": "markdown",
      "metadata": {
        "button": false,
        "new_sheet": false,
        "run_control": {
          "read_only": false
        },
        "id": "yOxLuSj9Fnlf"
      },
      "source": [
        "### B. Get the venue's overall rating\n"
      ]
    },
    {
      "cell_type": "code",
      "metadata": {
        "button": false,
        "jupyter": {
          "outputs_hidden": false
        },
        "new_sheet": false,
        "run_control": {
          "read_only": false
        },
        "id": "k9ggOa1iFnlg",
        "outputId": "b019add4-39a8-4b43-91fb-65613d361256",
        "colab": {
          "base_uri": "https://localhost:8080/"
        }
      },
      "source": [
        "try:\n",
        "    print(result['response']['venue']['rating'])\n",
        "except:\n",
        "    print('This venue has not been rated yet.')"
      ],
      "execution_count": 15,
      "outputs": [
        {
          "output_type": "stream",
          "text": [
            "4.7\n"
          ],
          "name": "stdout"
        }
      ]
    },
    {
      "cell_type": "markdown",
      "metadata": {
        "button": false,
        "new_sheet": false,
        "run_control": {
          "read_only": false
        },
        "id": "i6on8JHgFnlm"
      },
      "source": [
        "That is not a very good rating. Let's check the rating of the second closest Italian restaurant.\n"
      ]
    },
    {
      "cell_type": "markdown",
      "metadata": {
        "button": false,
        "new_sheet": false,
        "run_control": {
          "read_only": false
        },
        "id": "yEd01bJEFnls"
      },
      "source": [
        "Since this restaurant has no ratings, let's check the third restaurant.\n"
      ]
    },
    {
      "cell_type": "code",
      "metadata": {
        "button": false,
        "jupyter": {
          "outputs_hidden": false
        },
        "new_sheet": false,
        "run_control": {
          "read_only": false
        },
        "id": "2JPc8UtjFnls",
        "outputId": "7b4b34cb-43e0-4b18-b500-fe2d53df73a1"
      },
      "source": [
        "venue_id = '5f3eb088ee2b6c33aea2621d' # ID of Ecco\n",
        "url = 'https://api.foursquare.com/v2/venues/{}?client_id={}&client_secret={}&v={}'.format(venue_id, CLIENT_ID, CLIENT_SECRET, VERSION)\n",
        "\n",
        "result = requests.get(url).json()\n",
        "try:\n",
        "    print(result['response']['venue']['rating'])\n",
        "except:\n",
        "    print('This venue has not been rated yet.')"
      ],
      "execution_count": null,
      "outputs": [
        {
          "output_type": "stream",
          "text": [
            "This venue has not been rated yet.\n"
          ],
          "name": "stdout"
        }
      ]
    },
    {
      "cell_type": "markdown",
      "metadata": {
        "button": false,
        "new_sheet": false,
        "run_control": {
          "read_only": false
        },
        "id": "GFmZQirkFnlw"
      },
      "source": [
        "### C. Get the number of tips\n"
      ]
    },
    {
      "cell_type": "code",
      "metadata": {
        "button": false,
        "jupyter": {
          "outputs_hidden": false
        },
        "new_sheet": false,
        "run_control": {
          "read_only": false
        },
        "id": "ktF45XrwFnlx",
        "outputId": "27ae66f2-c03d-4f80-fca4-e81567649354",
        "colab": {
          "base_uri": "https://localhost:8080/"
        }
      },
      "source": [
        "result['response']['venue']['tips']['count']"
      ],
      "execution_count": 16,
      "outputs": [
        {
          "output_type": "execute_result",
          "data": {
            "text/plain": [
              "31"
            ]
          },
          "metadata": {
            "tags": []
          },
          "execution_count": 16
        }
      ]
    },
    {
      "cell_type": "markdown",
      "metadata": {
        "button": false,
        "new_sheet": false,
        "run_control": {
          "read_only": false
        },
        "id": "MbcXhdvaFnl2"
      },
      "source": [
        "### D. Get the venue's tips\n",
        "\n",
        "> `https://api.foursquare.com/v2/venues/`**VENUE_ID**`/tips?client_id=`**CLIENT_ID**`&client_secret=`**CLIENT_SECRET**`&v=`**VERSION**`&limit=`**LIMIT**\n"
      ]
    },
    {
      "cell_type": "markdown",
      "metadata": {
        "button": false,
        "new_sheet": false,
        "run_control": {
          "read_only": false
        },
        "id": "n7cI--wYFnl3"
      },
      "source": [
        "#### Create URL and send GET request. Make sure to set limit to get all tips\n"
      ]
    },
    {
      "cell_type": "code",
      "metadata": {
        "button": false,
        "jupyter": {
          "outputs_hidden": false
        },
        "new_sheet": false,
        "run_control": {
          "read_only": false
        },
        "id": "l-6Aait1Fnl5"
      },
      "source": [
        "## Ecco Tips\n",
        "limit = 15 # set limit to be greater than or equal to the total number of tips\n",
        "url = 'https://api.foursquare.com/v2/venues/{}/tips?client_id={}&client_secret={}&v={}&limit={}'.format(venue_id, CLIENT_ID, CLIENT_SECRET, VERSION, limit)\n",
        "\n",
        "results = requests.get(url).json()\n",
        "results"
      ],
      "execution_count": null,
      "outputs": []
    },
    {
      "cell_type": "markdown",
      "metadata": {
        "button": false,
        "new_sheet": false,
        "run_control": {
          "read_only": false
        },
        "id": "_JThrFvvFnl8"
      },
      "source": [
        "#### Get tips and list of associated features\n"
      ]
    },
    {
      "cell_type": "code",
      "metadata": {
        "button": false,
        "jupyter": {
          "outputs_hidden": false
        },
        "new_sheet": false,
        "run_control": {
          "read_only": false
        },
        "id": "katDyxyfFnl9",
        "outputId": "1f366330-34d3-4229-810b-577bf25b7744",
        "colab": {
          "base_uri": "https://localhost:8080/"
        }
      },
      "source": [
        "tips = results['response']['tips']['items']\n",
        "print(len(tips))\n",
        "tip = results['response']['tips']['items'][0]\n",
        "tip.keys()"
      ],
      "execution_count": 18,
      "outputs": [
        {
          "output_type": "stream",
          "text": [
            "1\n"
          ],
          "name": "stdout"
        },
        {
          "output_type": "execute_result",
          "data": {
            "text/plain": [
              "dict_keys(['id', 'createdAt', 'text', 'type', 'canonicalUrl', 'photo', 'photourl', 'lang', 'likes', 'logView', 'agreeCount', 'disagreeCount', 'todo', 'user'])"
            ]
          },
          "metadata": {
            "tags": []
          },
          "execution_count": 18
        }
      ]
    },
    {
      "cell_type": "markdown",
      "metadata": {
        "button": false,
        "new_sheet": false,
        "run_control": {
          "read_only": false
        },
        "id": "nUEJCktXFnmB"
      },
      "source": [
        "#### Format column width and display all tips\n"
      ]
    },
    {
      "cell_type": "code",
      "metadata": {
        "button": false,
        "jupyter": {
          "outputs_hidden": false
        },
        "new_sheet": false,
        "run_control": {
          "read_only": false
        },
        "id": "pZ4FX_AZFnmB",
        "outputId": "ddae82c0-98de-4f8e-bb53-89983641cc35",
        "colab": {
          "base_uri": "https://localhost:8080/",
          "height": 166
        }
      },
      "source": [
        "pd.set_option('display.max_colwidth', -1)\n",
        "\n",
        "tips_df = json_normalize(tips) # json normalize tips\n",
        "\n",
        "# columns to keep\n",
        "filtered_columns = ['text', 'agreeCount', 'disagreeCount', 'id', 'user.firstName', 'user.lastName', 'user.id']\n",
        "tips_filtered = tips_df.loc[:, filtered_columns]\n",
        "\n",
        "# display tips\n",
        "tips_filtered.reindex()"
      ],
      "execution_count": 19,
      "outputs": [
        {
          "output_type": "stream",
          "text": [
            "/usr/local/lib/python3.6/dist-packages/ipykernel_launcher.py:1: FutureWarning: Passing a negative integer is deprecated in version 1.0 and will not be supported in future version. Instead, use None to not limit the column width.\n",
            "  \"\"\"Entry point for launching an IPython kernel.\n"
          ],
          "name": "stderr"
        },
        {
          "output_type": "execute_result",
          "data": {
            "text/html": [
              "<div>\n",
              "<style scoped>\n",
              "    .dataframe tbody tr th:only-of-type {\n",
              "        vertical-align: middle;\n",
              "    }\n",
              "\n",
              "    .dataframe tbody tr th {\n",
              "        vertical-align: top;\n",
              "    }\n",
              "\n",
              "    .dataframe thead th {\n",
              "        text-align: right;\n",
              "    }\n",
              "</style>\n",
              "<table border=\"1\" class=\"dataframe\">\n",
              "  <thead>\n",
              "    <tr style=\"text-align: right;\">\n",
              "      <th></th>\n",
              "      <th>text</th>\n",
              "      <th>agreeCount</th>\n",
              "      <th>disagreeCount</th>\n",
              "      <th>id</th>\n",
              "      <th>user.firstName</th>\n",
              "      <th>user.lastName</th>\n",
              "      <th>user.id</th>\n",
              "    </tr>\n",
              "  </thead>\n",
              "  <tbody>\n",
              "    <tr>\n",
              "      <th>0</th>\n",
              "      <td>اول بگم لازانیاش رو اصلا امتحان هم نکنین، اکثر پیتزاهاش رو تست کردم و به نظرم پیتزا سوپریمش بهترین بوده، پنه های خوبی هم داره ... ولی آه و فغان از گارسن‌هاش و سرویس‌دهیشون</td>\n",
              "      <td>2</td>\n",
              "      <td>0</td>\n",
              "      <td>54d3f02c498ee55709133750</td>\n",
              "      <td>Armin</td>\n",
              "      <td>A</td>\n",
              "      <td>22938394</td>\n",
              "    </tr>\n",
              "  </tbody>\n",
              "</table>\n",
              "</div>"
            ],
            "text/plain": [
              "                                                                                                                                                                          text  ...   user.id\n",
              "0  اول بگم لازانیاش رو اصلا امتحان هم نکنین، اکثر پیتزاهاش رو تست کردم و به نظرم پیتزا سوپریمش بهترین بوده، پنه های خوبی هم داره ... ولی آه و فغان از گارسن‌هاش و سرویس‌دهیشون  ...  22938394\n",
              "\n",
              "[1 rows x 7 columns]"
            ]
          },
          "metadata": {
            "tags": []
          },
          "execution_count": 19
        }
      ]
    },
    {
      "cell_type": "markdown",
      "metadata": {
        "button": false,
        "new_sheet": false,
        "run_control": {
          "read_only": false
        },
        "id": "godkbYieFnmO"
      },
      "source": [
        "Now remember that because we are using a personal developer account, then we can access only 2 of the restaurant's tips, instead of all 15 tips.\n"
      ]
    },
    {
      "cell_type": "markdown",
      "metadata": {
        "button": false,
        "new_sheet": false,
        "run_control": {
          "read_only": false
        },
        "id": "oclP6iHYFnmP"
      },
      "source": [
        "\n"
      ]
    },
    {
      "cell_type": "markdown",
      "metadata": {
        "button": false,
        "new_sheet": false,
        "run_control": {
          "read_only": false
        },
        "id": "EaHkKHtcFnmP"
      },
      "source": [
        "<a id=\"item3\"></a>\n"
      ]
    },
    {
      "cell_type": "markdown",
      "metadata": {
        "button": false,
        "new_sheet": false,
        "run_control": {
          "read_only": false
        },
        "id": "Xc2h2sO9FnmQ"
      },
      "source": [
        "## 3. Search a Foursquare User\n",
        "\n",
        "> `https://api.foursquare.com/v2/users/`**USER_ID**`?client_id=`**CLIENT_ID**`&client_secret=`**CLIENT_SECRET**`&v=`**VERSION**\n"
      ]
    },
    {
      "cell_type": "markdown",
      "metadata": {
        "button": false,
        "new_sheet": false,
        "run_control": {
          "read_only": false
        },
        "id": "HEWNnscIFnmR"
      },
      "source": [
        "### Define URL, send GET request and display features associated with user\n"
      ]
    },
    {
      "cell_type": "code",
      "metadata": {
        "button": false,
        "jupyter": {
          "outputs_hidden": false
        },
        "new_sheet": false,
        "run_control": {
          "read_only": false
        },
        "id": "YdsO__pxFnmS",
        "outputId": "9eb757a5-6454-4ad4-f196-22e6c6aba215"
      },
      "source": [
        "idnumber = '487725521' # user ID with most agree counts and complete profile\n",
        "\n",
        "url = 'https://api.foursquare.com/v2/users/{}/tips?client_id={}&client_secret={}&v={}'.format(idnumber, CLIENT_ID, CLIENT_SECRET, VERSION) # define URL\n",
        "\n",
        "# send GET request\n",
        "results = requests.get(url).json()\n",
        "#user_data = results['response']['user']\n",
        "user_data=results['response']['tips']['items'][0]['venue']['photos']['groups'][0]['items']#['items']\n",
        "# display features associated with user\n",
        "#user_data.keys()\n",
        "#results\n",
        "pd.set_option('display.max_colwidth', -1)\n",
        "\n",
        "users_df = json_normalize(user_data)\n",
        "\n",
        "# filter columns\n",
        "filtered_columns = ['id','user.id','user.firstName','user.lastName']\n",
        "tips_filtered = users_df.loc[:, filtered_columns]\n",
        "\n",
        "# display user's tips\n",
        "df=tips_filtered\n",
        "df\n",
        "#url"
      ],
      "execution_count": null,
      "outputs": [
        {
          "output_type": "stream",
          "text": [
            "/home/jupyterlab/conda/envs/python/lib/python3.6/site-packages/ipykernel_launcher.py:12: FutureWarning: Passing a negative integer is deprecated in version 1.0 and will not be supported in future version. Instead, use None to not limit the column width.\n",
            "  if sys.path[0] == '':\n"
          ],
          "name": "stderr"
        },
        {
          "output_type": "execute_result",
          "data": {
            "text/html": [
              "<div>\n",
              "<style scoped>\n",
              "    .dataframe tbody tr th:only-of-type {\n",
              "        vertical-align: middle;\n",
              "    }\n",
              "\n",
              "    .dataframe tbody tr th {\n",
              "        vertical-align: top;\n",
              "    }\n",
              "\n",
              "    .dataframe thead th {\n",
              "        text-align: right;\n",
              "    }\n",
              "</style>\n",
              "<table border=\"1\" class=\"dataframe\">\n",
              "  <thead>\n",
              "    <tr style=\"text-align: right;\">\n",
              "      <th></th>\n",
              "      <th>id</th>\n",
              "      <th>user.id</th>\n",
              "      <th>user.firstName</th>\n",
              "      <th>user.lastName</th>\n",
              "    </tr>\n",
              "  </thead>\n",
              "  <tbody>\n",
              "    <tr>\n",
              "      <th>0</th>\n",
              "      <td>5f6ce2e2bc42a02d7627ee7d</td>\n",
              "      <td>429440257</td>\n",
              "      <td>Amir hesam</td>\n",
              "      <td>P</td>\n",
              "    </tr>\n",
              "    <tr>\n",
              "      <th>1</th>\n",
              "      <td>5dc31f22377a380008775602</td>\n",
              "      <td>487725521</td>\n",
              "      <td>behnam</td>\n",
              "      <td>P</td>\n",
              "    </tr>\n",
              "    <tr>\n",
              "      <th>2</th>\n",
              "      <td>5b9fe35e2f97ec002b5e6d61</td>\n",
              "      <td>67304626</td>\n",
              "      <td>Faranak</td>\n",
              "      <td>D</td>\n",
              "    </tr>\n",
              "  </tbody>\n",
              "</table>\n",
              "</div>"
            ],
            "text/plain": [
              "                         id    user.id user.firstName user.lastName\n",
              "0  5f6ce2e2bc42a02d7627ee7d  429440257  Amir hesam     P           \n",
              "1  5dc31f22377a380008775602  487725521  behnam         P           \n",
              "2  5b9fe35e2f97ec002b5e6d61  67304626   Faranak        D           "
            ]
          },
          "metadata": {
            "tags": []
          },
          "execution_count": 30
        }
      ]
    },
    {
      "cell_type": "code",
      "metadata": {
        "id": "OCWyMVK9FnmX",
        "outputId": "289f8304-37b8-454d-e69f-d5476403edeb"
      },
      "source": [
        "\n",
        "g=df.loc[df['user.id'] == '487725521']\n",
        "print('First Name: ' + g['user.firstName'])\n",
        "print('Last Name: ' + g['user.lastName'])\n"
      ],
      "execution_count": null,
      "outputs": [
        {
          "output_type": "stream",
          "text": [
            "1    First Name: behnam\n",
            "Name: user.firstName, dtype: object\n",
            "1    Last Name: P\n",
            "Name: user.lastName, dtype: object\n"
          ],
          "name": "stdout"
        }
      ]
    },
    {
      "cell_type": "markdown",
      "metadata": {
        "id": "_HJFwfqAFnmb"
      },
      "source": [
        "### Retrieve the User's Profile Image\n"
      ]
    },
    {
      "cell_type": "code",
      "metadata": {
        "id": "tKUAfYUoFnmc",
        "outputId": "4f019c6a-0ae6-469a-e98d-426ee84d7b93"
      },
      "source": [
        "# 1. grab prefix of photo\n",
        "# 2. grab suffix of photo\n",
        "# 3. concatenate them using the image size  \n",
        "Image(url='https://fastly.4sqi.net/img/general/540x920/133773133_ODR5Au05ENkSyu3xxfV3VOfCa0idDfm9Q4n8YbhZDRQ.jpg')"
      ],
      "execution_count": null,
      "outputs": [
        {
          "output_type": "execute_result",
          "data": {
            "text/html": [
              "<img src=\"https://fastly.4sqi.net/img/general/540x920/133773133_ODR5Au05ENkSyu3xxfV3VOfCa0idDfm9Q4n8YbhZDRQ.jpg\"/>"
            ],
            "text/plain": [
              "<IPython.core.display.Image object>"
            ]
          },
          "metadata": {
            "tags": []
          },
          "execution_count": 33
        }
      ]
    },
    {
      "cell_type": "markdown",
      "metadata": {
        "button": false,
        "new_sheet": false,
        "run_control": {
          "read_only": false
        },
        "id": "kM5JF0vWFnmf"
      },
      "source": [
        "Wow! So it turns out that Nick is a very active Foursquare user, with more than 250 tips.\n"
      ]
    },
    {
      "cell_type": "markdown",
      "metadata": {
        "button": false,
        "new_sheet": false,
        "run_control": {
          "read_only": false
        },
        "id": "X1wt8NT3Fnmg"
      },
      "source": [
        "### Get User's tips\n"
      ]
    },
    {
      "cell_type": "code",
      "metadata": {
        "button": false,
        "jupyter": {
          "outputs_hidden": false
        },
        "new_sheet": false,
        "run_control": {
          "read_only": false
        },
        "id": "J6dczIb1Fnmg",
        "outputId": "4b36eba9-b5c6-4a5f-ca3c-ac686365ca0c"
      },
      "source": [
        "# define tips URL\n",
        "user_id='487725521'\n",
        "url = 'https://api.foursquare.com/v2/users/{}/tips?client_id={}&client_secret={}&v={}&limit={}'.format(user_id, CLIENT_ID, CLIENT_SECRET, VERSION, limit)\n",
        "\n",
        "# send GET request and get user's tips\n",
        "results = requests.get(url).json()\n",
        "tips = results['response']['tips']['items']\n",
        "\n",
        "# format column width\n",
        "pd.set_option('display.max_colwidth', -1)\n",
        "\n",
        "tips_df = json_normalize(tips)\n",
        "\n",
        "# filter columns\n",
        "filtered_columns = ['text', 'agreeCount', 'disagreeCount', 'id']\n",
        "tips_filtered = tips_df.loc[:, filtered_columns]\n",
        "\n",
        "# display user's tips\n",
        "print(tips_filtered.shape)\n",
        "tips_filtered"
      ],
      "execution_count": null,
      "outputs": [
        {
          "output_type": "stream",
          "text": [
            "/home/jupyterlab/conda/envs/python/lib/python3.6/site-packages/ipykernel_launcher.py:10: FutureWarning: Passing a negative integer is deprecated in version 1.0 and will not be supported in future version. Instead, use None to not limit the column width.\n",
            "  # Remove the CWD from sys.path while we load stuff.\n"
          ],
          "name": "stderr"
        },
        {
          "output_type": "execute_result",
          "data": {
            "text/html": [
              "<div>\n",
              "<style scoped>\n",
              "    .dataframe tbody tr th:only-of-type {\n",
              "        vertical-align: middle;\n",
              "    }\n",
              "\n",
              "    .dataframe tbody tr th {\n",
              "        vertical-align: top;\n",
              "    }\n",
              "\n",
              "    .dataframe thead th {\n",
              "        text-align: right;\n",
              "    }\n",
              "</style>\n",
              "<table border=\"1\" class=\"dataframe\">\n",
              "  <thead>\n",
              "    <tr style=\"text-align: right;\">\n",
              "      <th></th>\n",
              "      <th>text</th>\n",
              "      <th>agreeCount</th>\n",
              "      <th>disagreeCount</th>\n",
              "      <th>id</th>\n",
              "    </tr>\n",
              "  </thead>\n",
              "  <tbody>\n",
              "    <tr>\n",
              "      <th>0</th>\n",
              "      <td>If you're looking for a cozy cafe in Ekbatan, you will love this place!</td>\n",
              "      <td>1</td>\n",
              "      <td>0</td>\n",
              "      <td>5dc31f2134083b00077575df</td>\n",
              "    </tr>\n",
              "    <tr>\n",
              "      <th>1</th>\n",
              "      <td>The pizza , the pasta , the Panini and the coffee are highly recommended. Beautiful indoor design and proper atmosphere for a casual day</td>\n",
              "      <td>1</td>\n",
              "      <td>0</td>\n",
              "      <td>5dc31da7dc48c60006c9fab2</td>\n",
              "    </tr>\n",
              "    <tr>\n",
              "      <th>2</th>\n",
              "      <td>Great choice for casual dates and grabbing a good cuo of coffee alongside with good music. The burgers used to be very good. Make sure you book in advance since the place is always packed.</td>\n",
              "      <td>2</td>\n",
              "      <td>0</td>\n",
              "      <td>5dc31d02d10623000892fe70</td>\n",
              "    </tr>\n",
              "    <tr>\n",
              "      <th>3</th>\n",
              "      <td>One of the prettiest blocks in phase 1</td>\n",
              "      <td>0</td>\n",
              "      <td>0</td>\n",
              "      <td>5dc31ac6dc48c60006c2cdda</td>\n",
              "    </tr>\n",
              "    <tr>\n",
              "      <th>4</th>\n",
              "      <td>Nice plants</td>\n",
              "      <td>0</td>\n",
              "      <td>0</td>\n",
              "      <td>5dc319e9d1062300088bb58c</td>\n",
              "    </tr>\n",
              "    <tr>\n",
              "      <th>5</th>\n",
              "      <td>If you're looking for Crossfit, TRX or body building classes , this is the right place. Good trainers and a modern gym. The buffet is a bit over priced though.</td>\n",
              "      <td>0</td>\n",
              "      <td>0</td>\n",
              "      <td>5dc318a134083b00076813b8</td>\n",
              "    </tr>\n",
              "    <tr>\n",
              "      <th>6</th>\n",
              "      <td>Senso offers the best Caesar salad that money can buy. The portion is huge, including enough chicken for two people. Make sure you book in advance to skip the queue.</td>\n",
              "      <td>0</td>\n",
              "      <td>0</td>\n",
              "      <td>5cdb15a24ac28a002c2cd654</td>\n",
              "    </tr>\n",
              "    <tr>\n",
              "      <th>7</th>\n",
              "      <td>One of the best burgers that money can buy! Lots of yummy fries on the side, juicy smoked burgers , fresh meat and a nice and modern interior with good vibes.</td>\n",
              "      <td>4</td>\n",
              "      <td>1</td>\n",
              "      <td>5c98bf051acf11002ce6ebaa</td>\n",
              "    </tr>\n",
              "    <tr>\n",
              "      <th>8</th>\n",
              "      <td>It's a nice outdoor place for casual dates or meetings. The latte was good. The bookstore above is pretty and the conemateque is small but has a decent schedule for classic movie lovers.</td>\n",
              "      <td>10</td>\n",
              "      <td>0</td>\n",
              "      <td>5c98b635c0af57002cf97e76</td>\n",
              "    </tr>\n",
              "    <tr>\n",
              "      <th>9</th>\n",
              "      <td>Cozy place in a quiet neighborhood. Great coffee. The freshly baked pastry and pies are totally recommended!</td>\n",
              "      <td>0</td>\n",
              "      <td>0</td>\n",
              "      <td>5c0fe90173fe250032bbab55</td>\n",
              "    </tr>\n",
              "    <tr>\n",
              "      <th>10</th>\n",
              "      <td>The yard looks great and the coffee tastes standard. But recently I tried the Breakfast and I was deeply disappointed: poor service, low quality overcooked sausages, tasteless pickles and olives.</td>\n",
              "      <td>1</td>\n",
              "      <td>0</td>\n",
              "      <td>5b8613a32b9844002c72bc3e</td>\n",
              "    </tr>\n",
              "    <tr>\n",
              "      <th>11</th>\n",
              "      <td>The Caesar salad in Senso is definitely recommend! It's enough for up to 2 people, containing a big amount of chicken. The place is ALWAYS packed, so make sure you book in advance.</td>\n",
              "      <td>0</td>\n",
              "      <td>0</td>\n",
              "      <td>5b7f951dcad1b6002c1198bc</td>\n",
              "    </tr>\n",
              "  </tbody>\n",
              "</table>\n",
              "</div>"
            ],
            "text/plain": [
              "                                                                                                                                                                                                   text  \\\n",
              "0   If you're looking for a cozy cafe in Ekbatan, you will love this place!                                                                                                                               \n",
              "1   The pizza , the pasta , the Panini and the coffee are highly recommended. Beautiful indoor design and proper atmosphere for a casual day                                                              \n",
              "2   Great choice for casual dates and grabbing a good cuo of coffee alongside with good music. The burgers used to be very good. Make sure you book in advance since the place is always packed.          \n",
              "3   One of the prettiest blocks in phase 1                                                                                                                                                                \n",
              "4   Nice plants                                                                                                                                                                                           \n",
              "5   If you're looking for Crossfit, TRX or body building classes , this is the right place. Good trainers and a modern gym. The buffet is a bit over priced though.                                       \n",
              "6   Senso offers the best Caesar salad that money can buy. The portion is huge, including enough chicken for two people. Make sure you book in advance to skip the queue.                                 \n",
              "7   One of the best burgers that money can buy! Lots of yummy fries on the side, juicy smoked burgers , fresh meat and a nice and modern interior with good vibes.                                        \n",
              "8   It's a nice outdoor place for casual dates or meetings. The latte was good. The bookstore above is pretty and the conemateque is small but has a decent schedule for classic movie lovers.            \n",
              "9   Cozy place in a quiet neighborhood. Great coffee. The freshly baked pastry and pies are totally recommended!                                                                                          \n",
              "10  The yard looks great and the coffee tastes standard. But recently I tried the Breakfast and I was deeply disappointed: poor service, low quality overcooked sausages, tasteless pickles and olives.   \n",
              "11  The Caesar salad in Senso is definitely recommend! It's enough for up to 2 people, containing a big amount of chicken. The place is ALWAYS packed, so make sure you book in advance.                  \n",
              "\n",
              "    agreeCount  disagreeCount                        id  \n",
              "0   1           0              5dc31f2134083b00077575df  \n",
              "1   1           0              5dc31da7dc48c60006c9fab2  \n",
              "2   2           0              5dc31d02d10623000892fe70  \n",
              "3   0           0              5dc31ac6dc48c60006c2cdda  \n",
              "4   0           0              5dc319e9d1062300088bb58c  \n",
              "5   0           0              5dc318a134083b00076813b8  \n",
              "6   0           0              5cdb15a24ac28a002c2cd654  \n",
              "7   4           1              5c98bf051acf11002ce6ebaa  \n",
              "8   10          0              5c98b635c0af57002cf97e76  \n",
              "9   0           0              5c0fe90173fe250032bbab55  \n",
              "10  1           0              5b8613a32b9844002c72bc3e  \n",
              "11  0           0              5b7f951dcad1b6002c1198bc  "
            ]
          },
          "metadata": {
            "tags": []
          },
          "execution_count": 34
        }
      ]
    },
    {
      "cell_type": "markdown",
      "metadata": {
        "button": false,
        "new_sheet": false,
        "run_control": {
          "read_only": false
        },
        "id": "auyvuHaJFnmk"
      },
      "source": [
        "#### Let's get the venue for the tip with the greatest number of agree counts\n"
      ]
    },
    {
      "cell_type": "code",
      "metadata": {
        "button": false,
        "jupyter": {
          "outputs_hidden": false
        },
        "new_sheet": false,
        "run_control": {
          "read_only": false
        },
        "id": "Mh2btiWLFnml",
        "outputId": "7ca796c0-7afa-4495-a27d-25f464e4b339"
      },
      "source": [
        "tip_id = '5c98b635c0af57002cf97e76' # tip id\n",
        "\n",
        "# define URL\n",
        "url = 'https://api.foursquare.com/v2/users/{}/tips?client_id={}&client_secret={}&v={}'.format(idnumber, CLIENT_ID, CLIENT_SECRET, VERSION) # define URL\n",
        "\n",
        "\n",
        "# send GET Request and examine results\n",
        "result = requests.get(url).json()\n",
        "print(result['response']['tips']['items'][0]['venue']['name'])\n",
        "print(result['response']['tips']['items'][0]['venue']['location'])"
      ],
      "execution_count": null,
      "outputs": [
        {
          "output_type": "stream",
          "text": [
            "Madaar Cafe\n",
            "{'lat': 35.701779, 'lng': 51.312964, 'labeledLatLngs': [{'label': 'display', 'lat': 35.701779, 'lng': 51.312964}], 'cc': 'IR', 'country': 'ایران', 'formattedAddress': ['ایران']}\n"
          ],
          "name": "stdout"
        }
      ]
    },
    {
      "cell_type": "markdown",
      "metadata": {
        "button": false,
        "new_sheet": false,
        "run_control": {
          "read_only": false
        },
        "id": "h-Vy7NVnFnmo"
      },
      "source": [
        "## 4. Explore a location\n",
        "\n",
        "> `https://api.foursquare.com/v2/venues/`**explore**`?client_id=`**CLIENT_ID**`&client_secret=`**CLIENT_SECRET**`&ll=`**LATITUDE**`,`**LONGITUDE**`&v=`**VERSION**`&limit=`**LIMIT**\n"
      ]
    },
    {
      "cell_type": "markdown",
      "metadata": {
        "button": false,
        "new_sheet": false,
        "run_control": {
          "read_only": false
        },
        "id": "Jj9AOGtYFnmp"
      },
      "source": [
        "#### So, you just finished your gourmet dish at Ecco, and are just curious about the popular spots around the restaurant. In order to explore the area, let's start by getting the latitude and longitude values of Ecco Restaurant.\n"
      ]
    },
    {
      "cell_type": "code",
      "metadata": {
        "button": false,
        "new_sheet": false,
        "run_control": {
          "read_only": false
        },
        "id": "SidxTz4QFnmq",
        "outputId": "c6cdd2c6-0eaf-4b9f-887e-52ba0bdabe4b"
      },
      "source": [
        "address = 'Tajrish square, Tehran, Iran'\n",
        "\n",
        "geolocator = Nominatim(user_agent=\"foursquare_agent\")\n",
        "location = geolocator.geocode(address)\n",
        "print(location.address)\n",
        "latitude = location.latitude\n",
        "longitude = location.longitude\n",
        "print(latitude, longitude)"
      ],
      "execution_count": null,
      "outputs": [
        {
          "output_type": "stream",
          "text": [
            "میدان تجریش, تجریش, منطقه ۱ شهر تهران, دهستان تجریش, شهرستان شمیرانات, استان تهران, ایران\n",
            "35.806994700000004 51.428815219116515\n"
          ],
          "name": "stdout"
        }
      ]
    },
    {
      "cell_type": "markdown",
      "metadata": {
        "button": false,
        "new_sheet": false,
        "run_control": {
          "read_only": false
        },
        "id": "GKyNasQyFnmt"
      },
      "source": [
        "#### Define URL\n"
      ]
    },
    {
      "cell_type": "code",
      "metadata": {
        "button": false,
        "jupyter": {
          "outputs_hidden": false
        },
        "new_sheet": false,
        "run_control": {
          "read_only": false
        },
        "id": "xAPS8FsyFnmu",
        "outputId": "a1d11620-9763-43b7-c109-bee7c22da122"
      },
      "source": [
        "LIMIT = 100\n",
        "url = 'https://api.foursquare.com/v2/venues/explore?client_id={}&client_secret={}&ll={},{}&v={}&radius={}&limit={}'.format(CLIENT_ID, CLIENT_SECRET, latitude, longitude, VERSION, radius, LIMIT)\n",
        "url"
      ],
      "execution_count": null,
      "outputs": [
        {
          "output_type": "execute_result",
          "data": {
            "text/plain": [
              "'https://api.foursquare.com/v2/venues/explore?client_id=RZ4H2M3IIHZWWXT0LEQQL44UT5DQITVYQY3GLIWFWIDV3NDR&client_secret=KNGLLHDYW5HPZ5VR4BMFUIW1S1OUDRUX3C13533QP2IKGWN3&ll=35.806994700000004,51.428815219116515&v=20201106&radius=1500&limit=100'"
            ]
          },
          "metadata": {
            "tags": []
          },
          "execution_count": 40
        }
      ]
    },
    {
      "cell_type": "markdown",
      "metadata": {
        "button": false,
        "new_sheet": false,
        "run_control": {
          "read_only": false
        },
        "id": "fNAVsGx-Fnmy"
      },
      "source": [
        "#### Send GET request and examine results\n"
      ]
    },
    {
      "cell_type": "code",
      "metadata": {
        "button": false,
        "new_sheet": false,
        "run_control": {
          "read_only": false
        },
        "id": "s0VemZQ8Fnmz"
      },
      "source": [
        "import requests"
      ],
      "execution_count": null,
      "outputs": []
    },
    {
      "cell_type": "code",
      "metadata": {
        "button": false,
        "jupyter": {
          "outputs_hidden": false
        },
        "new_sheet": false,
        "run_control": {
          "read_only": false
        },
        "id": "eg4FyOBpFnm4",
        "outputId": "8d6c61fa-cf41-4971-d295-3f4702599ca8"
      },
      "source": [
        "results = requests.get(url).json()\n",
        "'There are {} around Tajrish.'.format(len(results['response']['groups'][0]['items']))"
      ],
      "execution_count": null,
      "outputs": [
        {
          "output_type": "execute_result",
          "data": {
            "text/plain": [
              "'There are 100 around Tajrish.'"
            ]
          },
          "metadata": {
            "tags": []
          },
          "execution_count": 41
        }
      ]
    },
    {
      "cell_type": "markdown",
      "metadata": {
        "button": false,
        "new_sheet": false,
        "run_control": {
          "read_only": false
        },
        "id": "hBz3mCK3FnnA"
      },
      "source": [
        "#### Get relevant part of JSON\n"
      ]
    },
    {
      "cell_type": "code",
      "metadata": {
        "button": false,
        "jupyter": {
          "outputs_hidden": false
        },
        "new_sheet": false,
        "run_control": {
          "read_only": false
        },
        "id": "nWb7M92mFnnB",
        "outputId": "1b7abbeb-87aa-463f-c7e3-8cf505febd63"
      },
      "source": [
        "items = results['response']['groups'][0]['items']\n",
        "items[0]"
      ],
      "execution_count": null,
      "outputs": [
        {
          "output_type": "execute_result",
          "data": {
            "text/plain": [
              "{'reasons': {'count': 0,\n",
              "  'items': [{'summary': 'This spot is popular',\n",
              "    'type': 'general',\n",
              "    'reasonName': 'globalInteractionReason'}]},\n",
              " 'venue': {'id': '50336c50e4b002cea0e87182',\n",
              "  'name': 'Tajrish Bazaar | بازار تجریش (بازار تجریش)',\n",
              "  'location': {'address': 'Tajrish Sq.',\n",
              "   'lat': 35.80586762169362,\n",
              "   'lng': 51.42995589642485,\n",
              "   'labeledLatLngs': [{'label': 'display',\n",
              "     'lat': 35.80586762169362,\n",
              "     'lng': 51.42995589642485}],\n",
              "   'distance': 162,\n",
              "   'cc': 'IR',\n",
              "   'city': 'تهران',\n",
              "   'state': 'تهران',\n",
              "   'country': 'ایران',\n",
              "   'formattedAddress': ['Tajrish Sq.', 'تهران, تهران', 'ایران']},\n",
              "  'categories': [{'id': '50be8ee891d4fa8dcc7199a7',\n",
              "    'name': 'Market',\n",
              "    'pluralName': 'Markets',\n",
              "    'shortName': 'Market',\n",
              "    'icon': {'prefix': 'https://ss3.4sqi.net/img/categories_v2/shops/market_',\n",
              "     'suffix': '.png'},\n",
              "    'primary': True}],\n",
              "  'photos': {'count': 0, 'groups': []}},\n",
              " 'referralId': 'e-0-50336c50e4b002cea0e87182-0'}"
            ]
          },
          "metadata": {
            "tags": []
          },
          "execution_count": 42
        }
      ]
    },
    {
      "cell_type": "markdown",
      "metadata": {
        "button": false,
        "new_sheet": false,
        "run_control": {
          "read_only": false
        },
        "id": "lBm2kzzUFnnE"
      },
      "source": [
        "#### Process JSON and convert it to a clean dataframe\n"
      ]
    },
    {
      "cell_type": "code",
      "metadata": {
        "button": false,
        "jupyter": {
          "outputs_hidden": false
        },
        "new_sheet": false,
        "run_control": {
          "read_only": false
        },
        "id": "M8Rk775EFnnE",
        "outputId": "a4016005-b6b9-4117-e8a5-d242b16f80a1"
      },
      "source": [
        "dataframe = json_normalize(items) # flatten JSON\n",
        "\n",
        "# filter columns\n",
        "filtered_columns = ['venue.name', 'venue.categories'] + [col for col in dataframe.columns if col.startswith('venue.location.')] + ['venue.id']\n",
        "dataframe_filtered = dataframe.loc[:, filtered_columns]\n",
        "\n",
        "# filter the category for each row\n",
        "dataframe_filtered['venue.categories'] = dataframe_filtered.apply(get_category_type, axis=1)\n",
        "\n",
        "# clean columns\n",
        "dataframe_filtered.columns = [col.split('.')[-1] for col in dataframe_filtered.columns]\n",
        "\n",
        "dataframe_filtered.head(10)"
      ],
      "execution_count": null,
      "outputs": [
        {
          "output_type": "execute_result",
          "data": {
            "text/html": [
              "<div>\n",
              "<style scoped>\n",
              "    .dataframe tbody tr th:only-of-type {\n",
              "        vertical-align: middle;\n",
              "    }\n",
              "\n",
              "    .dataframe tbody tr th {\n",
              "        vertical-align: top;\n",
              "    }\n",
              "\n",
              "    .dataframe thead th {\n",
              "        text-align: right;\n",
              "    }\n",
              "</style>\n",
              "<table border=\"1\" class=\"dataframe\">\n",
              "  <thead>\n",
              "    <tr style=\"text-align: right;\">\n",
              "      <th></th>\n",
              "      <th>name</th>\n",
              "      <th>categories</th>\n",
              "      <th>address</th>\n",
              "      <th>lat</th>\n",
              "      <th>lng</th>\n",
              "      <th>labeledLatLngs</th>\n",
              "      <th>distance</th>\n",
              "      <th>cc</th>\n",
              "      <th>city</th>\n",
              "      <th>state</th>\n",
              "      <th>country</th>\n",
              "      <th>formattedAddress</th>\n",
              "      <th>crossStreet</th>\n",
              "      <th>neighborhood</th>\n",
              "      <th>postalCode</th>\n",
              "      <th>id</th>\n",
              "    </tr>\n",
              "  </thead>\n",
              "  <tbody>\n",
              "    <tr>\n",
              "      <th>0</th>\n",
              "      <td>Tajrish Bazaar | بازار تجریش (بازار تجریش)</td>\n",
              "      <td>Market</td>\n",
              "      <td>Tajrish Sq.</td>\n",
              "      <td>35.805868</td>\n",
              "      <td>51.429956</td>\n",
              "      <td>[{'label': 'display', 'lat': 35.80586762169362, 'lng': 51.42995589642485}]</td>\n",
              "      <td>162</td>\n",
              "      <td>IR</td>\n",
              "      <td>تهران</td>\n",
              "      <td>تهران</td>\n",
              "      <td>ایران</td>\n",
              "      <td>[Tajrish Sq., تهران, تهران, ایران]</td>\n",
              "      <td>NaN</td>\n",
              "      <td>NaN</td>\n",
              "      <td>NaN</td>\n",
              "      <td>50336c50e4b002cea0e87182</td>\n",
              "    </tr>\n",
              "    <tr>\n",
              "      <th>1</th>\n",
              "      <td>Astara Movie Theater | سینما آستارا (سینما آستارا)</td>\n",
              "      <td>Multiplex</td>\n",
              "      <td>Tajrish</td>\n",
              "      <td>35.806421</td>\n",
              "      <td>51.431039</td>\n",
              "      <td>[{'label': 'display', 'lat': 35.80642050992581, 'lng': 51.43103868717868}]</td>\n",
              "      <td>210</td>\n",
              "      <td>IR</td>\n",
              "      <td>تهران</td>\n",
              "      <td>تهران</td>\n",
              "      <td>ایران</td>\n",
              "      <td>[Tajrish, تهران, تهران, ایران]</td>\n",
              "      <td>NaN</td>\n",
              "      <td>NaN</td>\n",
              "      <td>NaN</td>\n",
              "      <td>597306a046e1b64b6b5fd229</td>\n",
              "    </tr>\n",
              "    <tr>\n",
              "      <th>2</th>\n",
              "      <td>Tajrish Square | میدان تجریش (میدان تجریش)</td>\n",
              "      <td>Plaza</td>\n",
              "      <td>NaN</td>\n",
              "      <td>35.806680</td>\n",
              "      <td>51.429233</td>\n",
              "      <td>[{'label': 'display', 'lat': 35.80667999426187, 'lng': 51.429233045949005}]</td>\n",
              "      <td>51</td>\n",
              "      <td>IR</td>\n",
              "      <td>تهران</td>\n",
              "      <td>تهران</td>\n",
              "      <td>ایران</td>\n",
              "      <td>[Valiasr Ave., تهران, تهران, ایران]</td>\n",
              "      <td>NaN</td>\n",
              "      <td>NaN</td>\n",
              "      <td>NaN</td>\n",
              "      <td>4f1aaf99e4b0f67a95e996dc</td>\n",
              "    </tr>\n",
              "    <tr>\n",
              "      <th>3</th>\n",
              "      <td>Shemroon Kabab House | کبابسرای شمرون (کبابسرای شمرون)</td>\n",
              "      <td>Persian Restaurant</td>\n",
              "      <td>Tajrish Sq.</td>\n",
              "      <td>35.806959</td>\n",
              "      <td>51.429765</td>\n",
              "      <td>[{'label': 'display', 'lat': 35.80695939250296, 'lng': 51.42976462841034}]</td>\n",
              "      <td>85</td>\n",
              "      <td>IR</td>\n",
              "      <td>تهران</td>\n",
              "      <td>تهران</td>\n",
              "      <td>ایران</td>\n",
              "      <td>[Tajrish Sq. (North East of Tajrish Sq.), تهران, تهران, ایران]</td>\n",
              "      <td>North East of Tajrish Sq.</td>\n",
              "      <td>NaN</td>\n",
              "      <td>NaN</td>\n",
              "      <td>50939f15e4b0b6c7168dfde1</td>\n",
              "    </tr>\n",
              "    <tr>\n",
              "      <th>4</th>\n",
              "      <td>Sahar Bakery | نان سحر (نان سحر)</td>\n",
              "      <td>Bakery</td>\n",
              "      <td>Tajrish St.</td>\n",
              "      <td>35.805743</td>\n",
              "      <td>51.431786</td>\n",
              "      <td>[{'label': 'display', 'lat': 35.80574346826889, 'lng': 51.43178564920349}]</td>\n",
              "      <td>302</td>\n",
              "      <td>IR</td>\n",
              "      <td>تهران</td>\n",
              "      <td>تهران</td>\n",
              "      <td>ایران</td>\n",
              "      <td>[Tajrish St. (Qods Sq.), تهران, تهران, ایران]</td>\n",
              "      <td>Qods Sq.</td>\n",
              "      <td>NaN</td>\n",
              "      <td>NaN</td>\n",
              "      <td>554c8736498e0d932267ca0c</td>\n",
              "    </tr>\n",
              "    <tr>\n",
              "      <th>5</th>\n",
              "      <td>Lamiz Coffee | لمیز کافی (لمیز کافی)</td>\n",
              "      <td>Coffee Shop</td>\n",
              "      <td>Bagh Ferdows</td>\n",
              "      <td>35.806948</td>\n",
              "      <td>51.425511</td>\n",
              "      <td>[{'label': 'display', 'lat': 35.806948, 'lng': 51.425511}]</td>\n",
              "      <td>298</td>\n",
              "      <td>IR</td>\n",
              "      <td>تهران</td>\n",
              "      <td>تهران</td>\n",
              "      <td>ایران</td>\n",
              "      <td>[Bagh Ferdows (Vali-e Asr Street), تهران, تهران, ایران]</td>\n",
              "      <td>Vali-e Asr Street</td>\n",
              "      <td>NaN</td>\n",
              "      <td>NaN</td>\n",
              "      <td>5ddbb5b6c243930008e98810</td>\n",
              "    </tr>\n",
              "    <tr>\n",
              "      <th>6</th>\n",
              "      <td>GEOX | ج اوکس (ج اوکس)</td>\n",
              "      <td>Shoe Store</td>\n",
              "      <td>-1st Fl., Arg Center</td>\n",
              "      <td>35.808035</td>\n",
              "      <td>51.426988</td>\n",
              "      <td>[{'label': 'display', 'lat': 35.80803494163345, 'lng': 51.426987646228255}]</td>\n",
              "      <td>201</td>\n",
              "      <td>IR</td>\n",
              "      <td>تهران</td>\n",
              "      <td>تهران</td>\n",
              "      <td>ایران</td>\n",
              "      <td>[-1st Fl., Arg Center, تهران, تهران, ایران]</td>\n",
              "      <td>NaN</td>\n",
              "      <td>NaN</td>\n",
              "      <td>NaN</td>\n",
              "      <td>55ddb870498ed8c46980894e</td>\n",
              "    </tr>\n",
              "    <tr>\n",
              "      <th>7</th>\n",
              "      <td>Lamiz Coffee | لمیز کافی (لمیز کافی)</td>\n",
              "      <td>Coffee Shop</td>\n",
              "      <td>Tajrish Sq.</td>\n",
              "      <td>35.807081</td>\n",
              "      <td>51.428087</td>\n",
              "      <td>[{'label': 'display', 'lat': 35.807081, 'lng': 51.428087}]</td>\n",
              "      <td>66</td>\n",
              "      <td>IR</td>\n",
              "      <td>تهران</td>\n",
              "      <td>تهران</td>\n",
              "      <td>ایران</td>\n",
              "      <td>[Tajrish Sq. (Sadabad St.), تهران, تهران, ایران]</td>\n",
              "      <td>Sadabad St.</td>\n",
              "      <td>NaN</td>\n",
              "      <td>NaN</td>\n",
              "      <td>4e07737562e100e5816fec67</td>\n",
              "    </tr>\n",
              "    <tr>\n",
              "      <th>8</th>\n",
              "      <td>Tajrish Arg Center | ارگ تجاری تجریش (ارگ تجاری تجریش)</td>\n",
              "      <td>Shopping Mall</td>\n",
              "      <td>Sa'd Abad St., Tajrish Sq.</td>\n",
              "      <td>35.808056</td>\n",
              "      <td>51.426921</td>\n",
              "      <td>[{'label': 'display', 'lat': 35.80805552061461, 'lng': 51.42692092610364}]</td>\n",
              "      <td>207</td>\n",
              "      <td>IR</td>\n",
              "      <td>تهران</td>\n",
              "      <td>تهران</td>\n",
              "      <td>ایران</td>\n",
              "      <td>[Sa'd Abad St., Tajrish Sq., تهران, تهران, ایران]</td>\n",
              "      <td>NaN</td>\n",
              "      <td>NaN</td>\n",
              "      <td>NaN</td>\n",
              "      <td>52f8853411d2e3f5f4bb0b04</td>\n",
              "    </tr>\n",
              "    <tr>\n",
              "      <th>9</th>\n",
              "      <td>AyareShemroon | عیار شمرون (کافه کباب هیوا)</td>\n",
              "      <td>Persian Restaurant</td>\n",
              "      <td>No. 79, Maghsoud Beyk St., Tajrish Sq.</td>\n",
              "      <td>35.804967</td>\n",
              "      <td>51.427694</td>\n",
              "      <td>[{'label': 'display', 'lat': 35.80496683658912, 'lng': 51.42769396305084}]</td>\n",
              "      <td>247</td>\n",
              "      <td>IR</td>\n",
              "      <td>تهران</td>\n",
              "      <td>تهران</td>\n",
              "      <td>ایران</td>\n",
              "      <td>[No. 79, Maghsoud Beyk St., Tajrish Sq., تهران, تهران, ایران]</td>\n",
              "      <td>NaN</td>\n",
              "      <td>District 1</td>\n",
              "      <td>NaN</td>\n",
              "      <td>570fe1a0498ea5f5098f150f</td>\n",
              "    </tr>\n",
              "  </tbody>\n",
              "</table>\n",
              "</div>"
            ],
            "text/plain": [
              "                                                     name          categories  \\\n",
              "0  Tajrish Bazaar | بازار تجریش (بازار تجریش)              Market               \n",
              "1  Astara Movie Theater | سینما آستارا (سینما آستارا)      Multiplex            \n",
              "2  Tajrish Square | میدان تجریش (میدان تجریش)              Plaza                \n",
              "3  Shemroon Kabab House | کبابسرای شمرون (کبابسرای شمرون)  Persian Restaurant   \n",
              "4  Sahar Bakery | نان سحر (نان سحر)                        Bakery               \n",
              "5  Lamiz Coffee | لمیز کافی (لمیز کافی)                    Coffee Shop          \n",
              "6  GEOX | ج اوکس (ج اوکس)                                  Shoe Store           \n",
              "7  Lamiz Coffee | لمیز کافی (لمیز کافی)                    Coffee Shop          \n",
              "8  Tajrish Arg Center | ارگ تجاری تجریش (ارگ تجاری تجریش)  Shopping Mall        \n",
              "9  AyareShemroon | عیار شمرون (کافه کباب هیوا)             Persian Restaurant   \n",
              "\n",
              "                                  address        lat        lng  \\\n",
              "0  Tajrish Sq.                             35.805868  51.429956   \n",
              "1  Tajrish                                 35.806421  51.431039   \n",
              "2  NaN                                     35.806680  51.429233   \n",
              "3  Tajrish Sq.                             35.806959  51.429765   \n",
              "4  Tajrish St.                             35.805743  51.431786   \n",
              "5  Bagh Ferdows                            35.806948  51.425511   \n",
              "6  -1st Fl., Arg Center                    35.808035  51.426988   \n",
              "7  Tajrish Sq.                             35.807081  51.428087   \n",
              "8  Sa'd Abad St., Tajrish Sq.              35.808056  51.426921   \n",
              "9  No. 79, Maghsoud Beyk St., Tajrish Sq.  35.804967  51.427694   \n",
              "\n",
              "                                                                labeledLatLngs  \\\n",
              "0  [{'label': 'display', 'lat': 35.80586762169362, 'lng': 51.42995589642485}]    \n",
              "1  [{'label': 'display', 'lat': 35.80642050992581, 'lng': 51.43103868717868}]    \n",
              "2  [{'label': 'display', 'lat': 35.80667999426187, 'lng': 51.429233045949005}]   \n",
              "3  [{'label': 'display', 'lat': 35.80695939250296, 'lng': 51.42976462841034}]    \n",
              "4  [{'label': 'display', 'lat': 35.80574346826889, 'lng': 51.43178564920349}]    \n",
              "5  [{'label': 'display', 'lat': 35.806948, 'lng': 51.425511}]                    \n",
              "6  [{'label': 'display', 'lat': 35.80803494163345, 'lng': 51.426987646228255}]   \n",
              "7  [{'label': 'display', 'lat': 35.807081, 'lng': 51.428087}]                    \n",
              "8  [{'label': 'display', 'lat': 35.80805552061461, 'lng': 51.42692092610364}]    \n",
              "9  [{'label': 'display', 'lat': 35.80496683658912, 'lng': 51.42769396305084}]    \n",
              "\n",
              "   distance  cc   city  state country  \\\n",
              "0  162       IR  تهران  تهران  ایران    \n",
              "1  210       IR  تهران  تهران  ایران    \n",
              "2  51        IR  تهران  تهران  ایران    \n",
              "3  85        IR  تهران  تهران  ایران    \n",
              "4  302       IR  تهران  تهران  ایران    \n",
              "5  298       IR  تهران  تهران  ایران    \n",
              "6  201       IR  تهران  تهران  ایران    \n",
              "7  66        IR  تهران  تهران  ایران    \n",
              "8  207       IR  تهران  تهران  ایران    \n",
              "9  247       IR  تهران  تهران  ایران    \n",
              "\n",
              "                                                 formattedAddress  \\\n",
              "0  [Tajrish Sq., تهران, تهران, ایران]                               \n",
              "1  [Tajrish, تهران, تهران, ایران]                                   \n",
              "2  [Valiasr Ave., تهران, تهران, ایران]                              \n",
              "3  [Tajrish Sq. (North East of Tajrish Sq.), تهران, تهران, ایران]   \n",
              "4  [Tajrish St. (Qods Sq.), تهران, تهران, ایران]                    \n",
              "5  [Bagh Ferdows (Vali-e Asr Street), تهران, تهران, ایران]          \n",
              "6  [-1st Fl., Arg Center, تهران, تهران, ایران]                      \n",
              "7  [Tajrish Sq. (Sadabad St.), تهران, تهران, ایران]                 \n",
              "8  [Sa'd Abad St., Tajrish Sq., تهران, تهران, ایران]                \n",
              "9  [No. 79, Maghsoud Beyk St., Tajrish Sq., تهران, تهران, ایران]    \n",
              "\n",
              "                 crossStreet neighborhood postalCode                        id  \n",
              "0  NaN                        NaN          NaN        50336c50e4b002cea0e87182  \n",
              "1  NaN                        NaN          NaN        597306a046e1b64b6b5fd229  \n",
              "2  NaN                        NaN          NaN        4f1aaf99e4b0f67a95e996dc  \n",
              "3  North East of Tajrish Sq.  NaN          NaN        50939f15e4b0b6c7168dfde1  \n",
              "4  Qods Sq.                   NaN          NaN        554c8736498e0d932267ca0c  \n",
              "5  Vali-e Asr Street          NaN          NaN        5ddbb5b6c243930008e98810  \n",
              "6  NaN                        NaN          NaN        55ddb870498ed8c46980894e  \n",
              "7  Sadabad St.                NaN          NaN        4e07737562e100e5816fec67  \n",
              "8  NaN                        NaN          NaN        52f8853411d2e3f5f4bb0b04  \n",
              "9  NaN                        District 1   NaN        570fe1a0498ea5f5098f150f  "
            ]
          },
          "metadata": {
            "tags": []
          },
          "execution_count": 43
        }
      ]
    },
    {
      "cell_type": "markdown",
      "metadata": {
        "button": false,
        "new_sheet": false,
        "run_control": {
          "read_only": false
        },
        "id": "Q8OfjeqlFnnI"
      },
      "source": [
        "#### Let's visualize these items on the map around our location\n"
      ]
    },
    {
      "cell_type": "code",
      "metadata": {
        "button": false,
        "jupyter": {
          "outputs_hidden": false
        },
        "new_sheet": false,
        "run_control": {
          "read_only": false
        },
        "scrolled": true,
        "id": "joy4s0ieFnnJ",
        "outputId": "37c8414c-c267-410d-9120-51bfeb766833"
      },
      "source": [
        "venues_map = folium.Map(location=[latitude, longitude], zoom_start=15) # generate map centred around Ecco\n",
        "\n",
        "\n",
        "# add Ecco as a red circle mark\n",
        "folium.CircleMarker(\n",
        "    [latitude, longitude],\n",
        "    radius=10,\n",
        "    popup='Ecco',\n",
        "    fill=True,\n",
        "    color='red',\n",
        "    fill_color='red',\n",
        "    fill_opacity=0.6\n",
        "    ).add_to(venues_map)\n",
        "\n",
        "\n",
        "# add popular spots to the map as blue circle markers\n",
        "for lat, lng, label in zip(dataframe_filtered.lat, dataframe_filtered.lng, dataframe_filtered.categories):\n",
        "    folium.CircleMarker(\n",
        "        [lat, lng],\n",
        "        radius=5,\n",
        "        popup=label,\n",
        "        fill=True,\n",
        "        color='blue',\n",
        "        fill_color='blue',\n",
        "        fill_opacity=0.6\n",
        "        ).add_to(venues_map)\n",
        "\n",
        "# display map\n",
        "venues_map"
      ],
      "execution_count": null,
      "outputs": [
        {
          "output_type": "execute_result",
          "data": {
            "text/html": [
              "<div style=\"width:100%;\"><div style=\"position:relative;width:100%;height:0;padding-bottom:60%;\"><span style=\"color:#565656\">Make this Notebook Trusted to load map: File -> Trust Notebook</span><iframe src=\"about:blank\" style=\"position:absolute;width:100%;height:100%;left:0;top:0;border:none !important;\" data-html=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 onload=\"this.contentDocument.open();this.contentDocument.write(atob(this.getAttribute('data-html')));this.contentDocument.close();\" allowfullscreen webkitallowfullscreen mozallowfullscreen></iframe></div></div>"
            ],
            "text/plain": [
              "<folium.folium.Map at 0x7fd344b4fc88>"
            ]
          },
          "metadata": {
            "tags": []
          },
          "execution_count": 44
        }
      ]
    },
    {
      "cell_type": "markdown",
      "metadata": {
        "button": false,
        "new_sheet": false,
        "run_control": {
          "read_only": false
        },
        "id": "wvNmsUMGFnnO"
      },
      "source": [
        "\n"
      ]
    },
    {
      "cell_type": "markdown",
      "metadata": {
        "button": false,
        "new_sheet": false,
        "run_control": {
          "read_only": false
        },
        "id": "_SHTLp3eFnnP"
      },
      "source": [
        "<a id=\"item5\"></a>\n"
      ]
    },
    {
      "cell_type": "markdown",
      "metadata": {
        "button": false,
        "new_sheet": false,
        "run_control": {
          "read_only": false
        },
        "id": "_mI5Dp-7FnnQ"
      },
      "source": [
        "## 5. Explore Trending Venues\n",
        "\n",
        "> `https://api.foursquare.com/v2/venues/`**trending**`?client_id=`**CLIENT_ID**`&client_secret=`**CLIENT_SECRET**`&ll=`**LATITUDE**`,`**LONGITUDE**`&v=`**VERSION**\n"
      ]
    },
    {
      "cell_type": "markdown",
      "metadata": {
        "button": false,
        "new_sheet": false,
        "run_control": {
          "read_only": false
        },
        "id": "KAmjRttcFnnR"
      },
      "source": [
        "#### Now, instead of simply exploring the area around Ecco, you are interested in knowing the venues that are trending at the time you are done with your lunch, meaning the places with the highest foot traffic. So let's do that and get the trending venues around Ecco.\n"
      ]
    },
    {
      "cell_type": "code",
      "metadata": {
        "button": false,
        "jupyter": {
          "outputs_hidden": false
        },
        "new_sheet": false,
        "run_control": {
          "read_only": false
        },
        "id": "85_ieiK7FnnT",
        "outputId": "81767813-96e6-4308-b5d1-5d687c85b088"
      },
      "source": [
        "# define URL\n",
        "url = 'https://api.foursquare.com/v2/venues/trending?client_id={}&client_secret={}&ll={},{}&v={}'.format(CLIENT_ID, CLIENT_SECRET, latitude, longitude, VERSION)\n",
        "\n",
        "# send GET request and get trending venues\n",
        "results = requests.get(url).json()\n",
        "results"
      ],
      "execution_count": null,
      "outputs": [
        {
          "output_type": "execute_result",
          "data": {
            "text/plain": [
              "{'meta': {'code': 200, 'requestId': '5fa66a88d16d0709a7acc0df'},\n",
              " 'response': {'venues': []}}"
            ]
          },
          "metadata": {
            "tags": []
          },
          "execution_count": 45
        }
      ]
    },
    {
      "cell_type": "markdown",
      "metadata": {
        "button": false,
        "new_sheet": false,
        "run_control": {
          "read_only": false
        },
        "id": "HI5IWQWNFnnY"
      },
      "source": [
        "### Check if any venues are trending at this time\n"
      ]
    },
    {
      "cell_type": "code",
      "metadata": {
        "button": false,
        "new_sheet": false,
        "run_control": {
          "read_only": false
        },
        "id": "kFxKe9TpFnnY"
      },
      "source": [
        "if len(results['response']['venues']) == 0:\n",
        "    trending_venues_df = 'No trending venues are available at the moment!'\n",
        "    \n",
        "else:\n",
        "    trending_venues = results['response']['venues']\n",
        "    trending_venues_df = json_normalize(trending_venues)\n",
        "\n",
        "    # filter columns\n",
        "    columns_filtered = ['name', 'categories'] + ['location.distance', 'location.city', 'location.postalCode', 'location.state', 'location.country', 'location.lat', 'location.lng']\n",
        "    trending_venues_df = trending_venues_df.loc[:, columns_filtered]\n",
        "\n",
        "    # filter the category for each row\n",
        "    trending_venues_df['categories'] = trending_venues_df.apply(get_category_type, axis=1)"
      ],
      "execution_count": null,
      "outputs": []
    },
    {
      "cell_type": "code",
      "metadata": {
        "button": false,
        "jupyter": {
          "outputs_hidden": false
        },
        "new_sheet": false,
        "run_control": {
          "read_only": false
        },
        "id": "wWIESF2fFnnf",
        "outputId": "3db6e492-3ccb-4cd2-ded4-720c156bb3bd"
      },
      "source": [
        "# display trending venues\n",
        "trending_venues_df"
      ],
      "execution_count": null,
      "outputs": [
        {
          "output_type": "execute_result",
          "data": {
            "text/plain": [
              "'No trending venues are available at the moment!'"
            ]
          },
          "metadata": {
            "tags": []
          },
          "execution_count": 47
        }
      ]
    },
    {
      "cell_type": "markdown",
      "metadata": {
        "button": false,
        "new_sheet": false,
        "run_control": {
          "read_only": false
        },
        "id": "Nojs5uJgFnnj"
      },
      "source": [
        "Now, depending on when you run the above code, you might get different venues since the venues with the highest foot traffic are fetched live. \n"
      ]
    },
    {
      "cell_type": "markdown",
      "metadata": {
        "button": false,
        "new_sheet": false,
        "run_control": {
          "read_only": false
        },
        "id": "hb17HN5aFnnk"
      },
      "source": [
        "### Visualize trending venues\n"
      ]
    },
    {
      "cell_type": "code",
      "metadata": {
        "button": false,
        "jupyter": {
          "outputs_hidden": false
        },
        "new_sheet": false,
        "run_control": {
          "read_only": false
        },
        "id": "npDLq38lFnnk"
      },
      "source": [
        "if len(results['response']['venues']) == 0:\n",
        "    venues_map = 'Cannot generate visual as no trending venues are available at the moment!'\n",
        "\n",
        "else:\n",
        "    venues_map = folium.Map(location=[latitude, longitude], zoom_start=15) # generate map centred around Ecco\n",
        "\n",
        "\n",
        "    # add Ecco as a red circle mark\n",
        "    folium.CircleMarker(\n",
        "        [latitude, longitude],\n",
        "        radius=10,\n",
        "        popup='Ecco',\n",
        "        fill=True,\n",
        "        color='red',\n",
        "        fill_color='red',\n",
        "        fill_opacity=0.6\n",
        "    ).add_to(venues_map)\n",
        "\n",
        "\n",
        "    # add the trending venues as blue circle markers\n",
        "    for lat, lng, label in zip(trending_venues_df['location.lat'], trending_venues_df['location.lng'], trending_venues_df['name']):\n",
        "        folium.CircleMarker(\n",
        "            [lat, lng],\n",
        "            radius=5,\n",
        "            poup=label,\n",
        "            fill=True,\n",
        "            color='blue',\n",
        "            fill_color='blue',\n",
        "            fill_opacity=0.6\n",
        "        ).add_to(venues_map)"
      ],
      "execution_count": null,
      "outputs": []
    },
    {
      "cell_type": "code",
      "metadata": {
        "button": false,
        "jupyter": {
          "outputs_hidden": false
        },
        "new_sheet": false,
        "run_control": {
          "read_only": false
        },
        "scrolled": true,
        "id": "ldv77uQDFnno",
        "outputId": "737c1e17-a450-4ed6-842f-4f699a5da3e6"
      },
      "source": [
        "# display map\n",
        "venues_map"
      ],
      "execution_count": null,
      "outputs": [
        {
          "output_type": "execute_result",
          "data": {
            "text/plain": [
              "'Cannot generate visual as no trending venues are available at the moment!'"
            ]
          },
          "metadata": {
            "tags": []
          },
          "execution_count": 49
        }
      ]
    },
    {
      "cell_type": "markdown",
      "metadata": {
        "button": false,
        "new_sheet": false,
        "run_control": {
          "read_only": false
        },
        "id": "qbPT7URCFnnq"
      },
      "source": [
        "<a id=\"item6\"></a>\n"
      ]
    },
    {
      "cell_type": "markdown",
      "metadata": {
        "button": false,
        "new_sheet": false,
        "run_control": {
          "read_only": false
        },
        "id": "NCdEjLszFnnr"
      },
      "source": [
        "\n"
      ]
    },
    {
      "cell_type": "markdown",
      "metadata": {
        "button": false,
        "new_sheet": false,
        "run_control": {
          "read_only": false
        },
        "id": "5kV-Y4hfFnnr"
      },
      "source": [
        "### Thank you for completing this lab!\n",
        "\n",
        "This notebook was created by [Alex Aklson](https://www.linkedin.com/in/aklson?cm_mmc=Email_Newsletter-_-Developer_Ed%2BTech-_-WW_WW-_-SkillsNetwork-Courses-IBMDeveloperSkillsNetwork-DS0701EN-SkillsNetwork-21253531&cm_mmca1=000026UJ&cm_mmca2=10006555&cm_mmca3=M12345678&cvosrc=email.Newsletter.M12345678&cvo_campaign=000026UJ&cm_mmc=Email_Newsletter-_-Developer_Ed%2BTech-_-WW_WW-_-SkillsNetwork-Courses-IBMDeveloperSkillsNetwork-DS0701EN-SkillsNetwork-21253531&cm_mmca1=000026UJ&cm_mmca2=10006555&cm_mmca3=M12345678&cvosrc=email.Newsletter.M12345678&cvo_campaign=000026UJ). I hope you found this lab interesting and educational. Feel free to contact me if you have any questions!\n",
        "\n",
        "This notebook modified by Nayef Abou Tayoun ([https://www.linkedin.com/in/nayefaboutayoun/](https://www.linkedin.com/in/nayefaboutayoun?cm_mmc=Email_Newsletter-_-Developer_Ed%2BTech-_-WW_WW-_-SkillsNetwork-Courses-IBMDeveloperSkillsNetwork-DS0701EN-SkillsNetwork-21253531&cm_mmca1=000026UJ&cm_mmca2=10006555&cm_mmca3=M12345678&cvosrc=email.Newsletter.M12345678&cvo_campaign=000026UJ))\n"
      ]
    },
    {
      "cell_type": "markdown",
      "metadata": {
        "button": false,
        "new_sheet": false,
        "run_control": {
          "read_only": false
        },
        "id": "G5-OjZgjFnns"
      },
      "source": [
        "This notebook is part of a course on **Coursera** called _Applied Data Science Capstone_. If you accessed this notebook outside the course, you can take this course online by clicking [here](http://cocl.us/DP0701EN_Coursera_Week2_LAB1).\n"
      ]
    },
    {
      "cell_type": "markdown",
      "metadata": {
        "button": false,
        "new_sheet": false,
        "run_control": {
          "read_only": false
        },
        "id": "ERytc6dUFnns"
      },
      "source": [
        "<hr>\n",
        "Copyright &copy; 2018 [Cognitive Class](https://cognitiveclass.ai/?utm_source=bducopyrightlink&utm_medium=dswb&utm_campaign=bdu). This notebook and its source code are released under the terms of the [MIT License](https://bigdatauniversity.com/mit-license/).\n"
      ]
    },
    {
      "cell_type": "code",
      "metadata": {
        "id": "kOj47-leFnnt"
      },
      "source": [
        ""
      ],
      "execution_count": null,
      "outputs": []
    }
  ]
}