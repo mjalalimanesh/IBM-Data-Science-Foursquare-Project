{
  "nbformat": 4,
  "nbformat_minor": 0,
  "metadata": {
    "kernelspec": {
      "display_name": "Python",
      "language": "python",
      "name": "conda-env-python-py"
    },
    "language_info": {
      "codemirror_mode": {
        "name": "ipython",
        "version": 3
      },
      "file_extension": ".py",
      "mimetype": "text/x-python",
      "name": "python",
      "nbconvert_exporter": "python",
      "pygments_lexer": "ipython3",
      "version": "3.6.11"
    },
    "colab": {
      "name": "Tehran-Neighborhoods-Venue-Segmentation.ipynb",
      "provenance": [],
      "include_colab_link": true
    }
  },
  "cells": [
    {
      "cell_type": "markdown",
      "metadata": {
        "id": "view-in-github",
        "colab_type": "text"
      },
      "source": [
        "<a href=\"https://colab.research.google.com/github/mjalalimanesh/tehran-venue-segmentation-foursquare/blob/main/Tehran_Neighborhoods_Venue_Segmentation.ipynb\" target=\"_parent\"><img src=\"https://colab.research.google.com/assets/colab-badge.svg\" alt=\"Open In Colab\"/></a>"
      ]
    },
    {
      "cell_type": "markdown",
      "metadata": {
        "id": "A5hZHYvIaOJx"
      },
      "source": [
        "delete"
      ]
    },
    {
      "cell_type": "markdown",
      "metadata": {
        "id": "utlaiRYrME_H"
      },
      "source": [
        "\n",
        "<h1 align=center><font size = 5>Segmenting and Clustering Neighborhoods in Tehran</font></h1>\n",
        "\n",
        "Notebook for IBM Cognitive Class Data Science Capstone Course"
      ]
    },
    {
      "cell_type": "markdown",
      "metadata": {
        "id": "cht1JRY8ME_O"
      },
      "source": [
        "## Introduction\n",
        "\n",
        "you will use the Foursquare API to explore neighborhoods in Tehran. You will use the **explore** function to get the most common venue categories in each neighborhood, and then use this feature to group the neighborhoods into clusters. You will use the DBSCAN clustering algorithm to complete this task. Finally, you will use the Folium library to visualize the neighborhoods in TEHRAN and their emerging clusters.\n"
      ]
    },
    {
      "cell_type": "markdown",
      "metadata": {
        "id": "Ok3tQ738ME_P"
      },
      "source": [
        "## Table of Contents\n",
        "\n",
        "<div class=\"alert alert-block alert-info\" style=\"margin-top: 20px\">\n",
        "\n",
        "<font size = 3>\n",
        "\n",
        "1.  <a href=\"#item1\">Download and Explore Dataset</a>\n",
        "\n",
        "2.  <a href=\"#item2\">Explore Neighborhoods in Tehran</a>\n",
        "\n",
        "3.  <a href=\"#item3\">Analyze Each Neighborhood</a>\n",
        "\n",
        "4.  <a href=\"#item4\">Cluster Neighborhoods</a>\n",
        "\n",
        "5.  <a href=\"#item5\">Examine Clusters</a>  \n",
        "    </font>\n",
        "    </div>\n"
      ]
    },
    {
      "cell_type": "markdown",
      "metadata": {
        "id": "eu-ZG64hME_Q"
      },
      "source": [
        "Before we get the data and start exploring it, let's download all the dependencies that we will need.\n"
      ]
    },
    {
      "cell_type": "code",
      "metadata": {
        "id": "nW0qsyx0ME_R",
        "colab": {
          "base_uri": "https://localhost:8080/"
        },
        "outputId": "816278ec-a894-48a4-b0ac-69a3e8be8fdd"
      },
      "source": [
        "import numpy as np # library to handle data in a vectorized manner\n",
        "\n",
        "import pandas as pd # library for data analsysis\n",
        "pd.set_option('display.max_columns', None)\n",
        "pd.set_option('display.max_rows', None)\n",
        "\n",
        "import json # library to handle JSON files\n",
        "\n",
        "from geopy.geocoders import Nominatim # convert an address into latitude and longitude values\n",
        "\n",
        "import requests # library to handle requests\n",
        "from pandas import json_normalize # tranform JSON file into a pandas dataframe\n",
        "\n",
        "# Matplotlib and associated plotting modules\n",
        "import matplotlib.cm as cm\n",
        "import matplotlib.colors as colors\n",
        "\n",
        "# import k-means from clustering stage\n",
        "from sklearn.cluster import KMeans\n",
        "\n",
        "import folium # map rendering library\n",
        "\n",
        "print('Libraries imported.')"
      ],
      "execution_count": 1,
      "outputs": [
        {
          "output_type": "stream",
          "text": [
            "Libraries imported.\n"
          ],
          "name": "stdout"
        }
      ]
    },
    {
      "cell_type": "markdown",
      "metadata": {
        "id": "O-mnHunGME_f"
      },
      "source": [
        "<a id='item1'></a>\n"
      ]
    },
    {
      "cell_type": "markdown",
      "metadata": {
        "id": "yZ0X5abvME_i"
      },
      "source": [
        "## 1. Download and Explore Dataset\n"
      ]
    },
    {
      "cell_type": "markdown",
      "metadata": {
        "id": "2S27b--lME_k"
      },
      "source": [
        "Tehran has 22 districts and around 376 neighborhoods. In order to segement the neighborhoods and explore them, we will essentially need a dataset that contains the 22 districts and the neighborhoods that exist in each district as well as the the latitude and logitude coordinates of each neighborhood. \n",
        "\n",
        "I tried to gather a dataset for this task: (https://github.com/mjalalimanesh/IBM-Data-Science-Foursquare-Project/blob/main/tehran_neighborhoods.csv)\n"
      ]
    },
    {
      "cell_type": "markdown",
      "metadata": {
        "id": "wda_fkwAME_s"
      },
      "source": [
        "#### Load and explore the data\n"
      ]
    },
    {
      "cell_type": "markdown",
      "metadata": {
        "id": "aJVOlw2kME_t"
      },
      "source": [
        "Next, let's load the data.\n"
      ]
    },
    {
      "cell_type": "code",
      "metadata": {
        "id": "DsLICWOMMFAQ"
      },
      "source": [
        "neighborhoods = pd.read_csv('https://raw.githubusercontent.com/mjalalimanesh/IBM-Data-Science-Foursquare-Project/main/tehran_neighborhoods.csv')"
      ],
      "execution_count": 2,
      "outputs": []
    },
    {
      "cell_type": "markdown",
      "metadata": {
        "id": "Pqdjpnn_MFAi"
      },
      "source": [
        "Quickly examine the resulting dataframe.\n"
      ]
    },
    {
      "cell_type": "code",
      "metadata": {
        "scrolled": true,
        "id": "dQLzN3AMMFAj",
        "colab": {
          "base_uri": "https://localhost:8080/",
          "height": 197
        },
        "outputId": "c8ec576a-a7ec-4609-b251-46561ff3301e"
      },
      "source": [
        "neighborhoods.head()"
      ],
      "execution_count": 3,
      "outputs": [
        {
          "output_type": "execute_result",
          "data": {
            "text/html": [
              "<div>\n",
              "<style scoped>\n",
              "    .dataframe tbody tr th:only-of-type {\n",
              "        vertical-align: middle;\n",
              "    }\n",
              "\n",
              "    .dataframe tbody tr th {\n",
              "        vertical-align: top;\n",
              "    }\n",
              "\n",
              "    .dataframe thead th {\n",
              "        text-align: right;\n",
              "    }\n",
              "</style>\n",
              "<table border=\"1\" class=\"dataframe\">\n",
              "  <thead>\n",
              "    <tr style=\"text-align: right;\">\n",
              "      <th></th>\n",
              "      <th>Unnamed: 0</th>\n",
              "      <th>name</th>\n",
              "      <th>district</th>\n",
              "      <th>lat</th>\n",
              "      <th>lng</th>\n",
              "    </tr>\n",
              "  </thead>\n",
              "  <tbody>\n",
              "    <tr>\n",
              "      <th>0</th>\n",
              "      <td>0</td>\n",
              "      <td>اراج</td>\n",
              "      <td>1</td>\n",
              "      <td>35.794309</td>\n",
              "      <td>51.487576</td>\n",
              "    </tr>\n",
              "    <tr>\n",
              "      <th>1</th>\n",
              "      <td>1</td>\n",
              "      <td>ازگل</td>\n",
              "      <td>1</td>\n",
              "      <td>35.788786</td>\n",
              "      <td>51.515819</td>\n",
              "    </tr>\n",
              "    <tr>\n",
              "      <th>2</th>\n",
              "      <td>2</td>\n",
              "      <td>امام زاده قاسم</td>\n",
              "      <td>1</td>\n",
              "      <td>35.812907</td>\n",
              "      <td>51.439470</td>\n",
              "    </tr>\n",
              "    <tr>\n",
              "      <th>3</th>\n",
              "      <td>3</td>\n",
              "      <td>اوین</td>\n",
              "      <td>1</td>\n",
              "      <td>35.799515</td>\n",
              "      <td>51.393836</td>\n",
              "    </tr>\n",
              "    <tr>\n",
              "      <th>4</th>\n",
              "      <td>4</td>\n",
              "      <td>باغ فردوس</td>\n",
              "      <td>1</td>\n",
              "      <td>35.794955</td>\n",
              "      <td>51.423576</td>\n",
              "    </tr>\n",
              "  </tbody>\n",
              "</table>\n",
              "</div>"
            ],
            "text/plain": [
              "   Unnamed: 0            name  district        lat        lng\n",
              "0           0            اراج         1  35.794309  51.487576\n",
              "1           1            ازگل         1  35.788786  51.515819\n",
              "2           2  امام زاده قاسم         1  35.812907  51.439470\n",
              "3           3            اوین         1  35.799515  51.393836\n",
              "4           4       باغ فردوس         1  35.794955  51.423576"
            ]
          },
          "metadata": {
            "tags": []
          },
          "execution_count": 3
        }
      ]
    },
    {
      "cell_type": "code",
      "metadata": {
        "id": "wJmS1gYIMFAn",
        "colab": {
          "base_uri": "https://localhost:8080/"
        },
        "outputId": "c4449c29-4adf-4de6-a844-aaa8ffe33d49"
      },
      "source": [
        "neighborhoods.dtypes"
      ],
      "execution_count": 4,
      "outputs": [
        {
          "output_type": "execute_result",
          "data": {
            "text/plain": [
              "Unnamed: 0      int64\n",
              "name           object\n",
              "district        int64\n",
              "lat           float64\n",
              "lng           float64\n",
              "dtype: object"
            ]
          },
          "metadata": {
            "tags": []
          },
          "execution_count": 4
        }
      ]
    },
    {
      "cell_type": "code",
      "metadata": {
        "id": "bsMn8KJCSlX6",
        "colab": {
          "base_uri": "https://localhost:8080/"
        },
        "outputId": "b5077d57-6b8e-4ff0-a419-fcb0fd583e17"
      },
      "source": [
        "neighborhoods.drop('Unnamed: 0', axis=1, inplace=True)\n",
        "neighborhoods.columns = ['Neighborhood', 'District', 'Latitude', 'Longitude']\n",
        "neighborhoods.info()"
      ],
      "execution_count": 5,
      "outputs": [
        {
          "output_type": "stream",
          "text": [
            "<class 'pandas.core.frame.DataFrame'>\n",
            "RangeIndex: 377 entries, 0 to 376\n",
            "Data columns (total 4 columns):\n",
            " #   Column        Non-Null Count  Dtype  \n",
            "---  ------        --------------  -----  \n",
            " 0   Neighborhood  377 non-null    object \n",
            " 1   District      377 non-null    int64  \n",
            " 2   Latitude      377 non-null    float64\n",
            " 3   Longitude     377 non-null    float64\n",
            "dtypes: float64(2), int64(1), object(1)\n",
            "memory usage: 11.9+ KB\n"
          ],
          "name": "stdout"
        }
      ]
    },
    {
      "cell_type": "markdown",
      "metadata": {
        "id": "O9xzSPqzTqak"
      },
      "source": [
        "Check to see if there is any duplicate rows"
      ]
    },
    {
      "cell_type": "code",
      "metadata": {
        "id": "0UYzBNZBThrY",
        "colab": {
          "base_uri": "https://localhost:8080/",
          "height": 47
        },
        "outputId": "eec39b0a-fead-412f-f5bf-c1e8d685eb4c"
      },
      "source": [
        "neighborhoods[neighborhoods.duplicated(subset=['Neighborhood', 'District'],keep=False)]"
      ],
      "execution_count": 7,
      "outputs": [
        {
          "output_type": "execute_result",
          "data": {
            "text/html": [
              "<div>\n",
              "<style scoped>\n",
              "    .dataframe tbody tr th:only-of-type {\n",
              "        vertical-align: middle;\n",
              "    }\n",
              "\n",
              "    .dataframe tbody tr th {\n",
              "        vertical-align: top;\n",
              "    }\n",
              "\n",
              "    .dataframe thead th {\n",
              "        text-align: right;\n",
              "    }\n",
              "</style>\n",
              "<table border=\"1\" class=\"dataframe\">\n",
              "  <thead>\n",
              "    <tr style=\"text-align: right;\">\n",
              "      <th></th>\n",
              "      <th>Neighborhood</th>\n",
              "      <th>District</th>\n",
              "      <th>Latitude</th>\n",
              "      <th>Longitude</th>\n",
              "    </tr>\n",
              "  </thead>\n",
              "  <tbody>\n",
              "  </tbody>\n",
              "</table>\n",
              "</div>"
            ],
            "text/plain": [
              "Empty DataFrame\n",
              "Columns: [Neighborhood, District, Latitude, Longitude]\n",
              "Index: []"
            ]
          },
          "metadata": {
            "tags": []
          },
          "execution_count": 7
        }
      ]
    },
    {
      "cell_type": "markdown",
      "metadata": {
        "id": "6kDNghX_MFAs"
      },
      "source": [
        "And make sure that the dataset has all 22 districts and around 376 neighborhoods.\n"
      ]
    },
    {
      "cell_type": "code",
      "metadata": {
        "id": "Cd2uxXUmMFAt",
        "colab": {
          "base_uri": "https://localhost:8080/"
        },
        "outputId": "ed26eb1e-7cf3-422d-f125-6328c3d535f0"
      },
      "source": [
        "print('The dataframe has {} districts and {} neighborhoods.'.format(\n",
        "        len(neighborhoods['District'].unique()),\n",
        "        neighborhoods.shape[0]\n",
        "    )\n",
        ")"
      ],
      "execution_count": 8,
      "outputs": [
        {
          "output_type": "stream",
          "text": [
            "The dataframe has 22 districts and 377 neighborhoods.\n"
          ],
          "name": "stdout"
        }
      ]
    },
    {
      "cell_type": "markdown",
      "metadata": {
        "id": "Z-xm97mUMFAy"
      },
      "source": [
        "#### Use geopy library to get the latitude and longitude values of Tehran.\n"
      ]
    },
    {
      "cell_type": "markdown",
      "metadata": {
        "id": "6Jv9qhndMFAy"
      },
      "source": [
        "In order to define an instance of the geocoder, we need to define a user_agent. We will name our agent <em>ny_explorer</em>, as shown below.\n"
      ]
    },
    {
      "cell_type": "code",
      "metadata": {
        "scrolled": true,
        "id": "1RVsp6_IMFAz",
        "colab": {
          "base_uri": "https://localhost:8080/"
        },
        "outputId": "08c24ca1-6d08-4bf0-9f22-20ee0b898f0a"
      },
      "source": [
        "address = 'Tehran, Iran'\n",
        "\n",
        "geolocator = Nominatim(user_agent=\"tehran_explorer\")\n",
        "location = geolocator.geocode(address)\n",
        "latitude = location.latitude\n",
        "longitude = location.longitude\n",
        "print('The geograpical coordinate of Tehran are {}, {}.'.format(latitude, longitude))"
      ],
      "execution_count": 6,
      "outputs": [
        {
          "output_type": "stream",
          "text": [
            "The geograpical coordinate of Tehran are 35.6892523, 51.3896004.\n"
          ],
          "name": "stdout"
        }
      ]
    },
    {
      "cell_type": "markdown",
      "metadata": {
        "id": "v_44-wMLMFA3"
      },
      "source": [
        "#### Create a map of Tehran with neighborhoods superimposed on top.\n"
      ]
    },
    {
      "cell_type": "code",
      "metadata": {
        "id": "hBAGCmyLiGdb"
      },
      "source": [
        "# to solve folium not showing farsi characters properly\n",
        "!pip install git+https://github.com/python-visualization/branca.git"
      ],
      "execution_count": null,
      "outputs": []
    },
    {
      "cell_type": "code",
      "metadata": {
        "id": "GCUzgE8YMFA5"
      },
      "source": [
        "#!/usr/bin/env python\n",
        " \n",
        "# -*- coding: utf-8 -*-\n",
        "# create map of New York using latitude and longitude values\n",
        "map_newyork = folium.Map(location=[latitude, longitude], zoom_start=11)\n",
        "\n",
        "# add markers to map\n",
        "for lat, lng, district, neighborhood in zip(neighborhoods['Latitude'], neighborhoods['Longitude'], neighborhoods['District'], neighborhoods['Neighborhood']):\n",
        "  \n",
        "    label = 'منطقه {}, {}'.format(district, neighborhood)\n",
        "    label = folium.Popup(label, parse_html=True)\n",
        "    folium.CircleMarker(\n",
        "        [lat, lng],\n",
        "        radius=5,\n",
        "        popup=label,\n",
        "        color='blue',\n",
        "        fill=True,\n",
        "        fill_color='#3186cc',\n",
        "        fill_opacity=0.7,\n",
        "        parse_html=False).add_to(map_newyork)  \n",
        "    \n",
        "map_newyork"
      ],
      "execution_count": null,
      "outputs": []
    },
    {
      "cell_type": "markdown",
      "metadata": {
        "id": "qGGuiqDXMFA9"
      },
      "source": [
        "**Folium** is a great visualization library. Feel free to zoom into the above map, and click on each circle mark to reveal the name of the neighborhood and its respective district.\n"
      ]
    },
    {
      "cell_type": "markdown",
      "metadata": {
        "id": "x6i6ZpVtMFA-"
      },
      "source": [
        "However, for illustration purposes, let's simplify the above map and segment and cluster only the neighborhoods in district 6. So let's slice the original dataframe and create a new dataframe of the district data.\n"
      ]
    },
    {
      "cell_type": "code",
      "metadata": {
        "id": "qSulyXVJMFA_",
        "colab": {
          "base_uri": "https://localhost:8080/",
          "height": 587
        },
        "outputId": "7c660515-6d55-4ca6-a4dd-044784ca3fbb"
      },
      "source": [
        "district6 = neighborhoods[neighborhoods['District'] == 6].reset_index(drop=True)\n",
        "district6"
      ],
      "execution_count": 8,
      "outputs": [
        {
          "output_type": "execute_result",
          "data": {
            "text/html": [
              "<div>\n",
              "<style scoped>\n",
              "    .dataframe tbody tr th:only-of-type {\n",
              "        vertical-align: middle;\n",
              "    }\n",
              "\n",
              "    .dataframe tbody tr th {\n",
              "        vertical-align: top;\n",
              "    }\n",
              "\n",
              "    .dataframe thead th {\n",
              "        text-align: right;\n",
              "    }\n",
              "</style>\n",
              "<table border=\"1\" class=\"dataframe\">\n",
              "  <thead>\n",
              "    <tr style=\"text-align: right;\">\n",
              "      <th></th>\n",
              "      <th>Neighborhood</th>\n",
              "      <th>District</th>\n",
              "      <th>Latitude</th>\n",
              "      <th>Longitude</th>\n",
              "    </tr>\n",
              "  </thead>\n",
              "  <tbody>\n",
              "    <tr>\n",
              "      <th>0</th>\n",
              "      <td>ایرانشهر</td>\n",
              "      <td>6</td>\n",
              "      <td>35.708586</td>\n",
              "      <td>51.421945</td>\n",
              "    </tr>\n",
              "    <tr>\n",
              "      <th>1</th>\n",
              "      <td>آرزانتین-ساعی</td>\n",
              "      <td>6</td>\n",
              "      <td>35.734849</td>\n",
              "      <td>51.415833</td>\n",
              "    </tr>\n",
              "    <tr>\n",
              "      <th>2</th>\n",
              "      <td>بهجت آباد</td>\n",
              "      <td>6</td>\n",
              "      <td>35.719040</td>\n",
              "      <td>51.412128</td>\n",
              "    </tr>\n",
              "    <tr>\n",
              "      <th>3</th>\n",
              "      <td>پارک لاله</td>\n",
              "      <td>6</td>\n",
              "      <td>35.713637</td>\n",
              "      <td>51.399122</td>\n",
              "    </tr>\n",
              "    <tr>\n",
              "      <th>4</th>\n",
              "      <td>دانشگاه تهران</td>\n",
              "      <td>6</td>\n",
              "      <td>35.705399</td>\n",
              "      <td>51.399013</td>\n",
              "    </tr>\n",
              "    <tr>\n",
              "      <th>5</th>\n",
              "      <td>شریعتی</td>\n",
              "      <td>6</td>\n",
              "      <td>35.717660</td>\n",
              "      <td>51.383313</td>\n",
              "    </tr>\n",
              "    <tr>\n",
              "      <th>6</th>\n",
              "      <td>سنایی</td>\n",
              "      <td>6</td>\n",
              "      <td>35.721523</td>\n",
              "      <td>51.420858</td>\n",
              "    </tr>\n",
              "    <tr>\n",
              "      <th>7</th>\n",
              "      <td>شیراز</td>\n",
              "      <td>6</td>\n",
              "      <td>35.747199</td>\n",
              "      <td>51.403301</td>\n",
              "    </tr>\n",
              "    <tr>\n",
              "      <th>8</th>\n",
              "      <td>فاطمی</td>\n",
              "      <td>6</td>\n",
              "      <td>35.719942</td>\n",
              "      <td>51.394577</td>\n",
              "    </tr>\n",
              "    <tr>\n",
              "      <th>9</th>\n",
              "      <td>قزل قلعه</td>\n",
              "      <td>6</td>\n",
              "      <td>35.728669</td>\n",
              "      <td>51.394446</td>\n",
              "    </tr>\n",
              "    <tr>\n",
              "      <th>10</th>\n",
              "      <td>کشاورز غربی</td>\n",
              "      <td>6</td>\n",
              "      <td>35.709397</td>\n",
              "      <td>51.384264</td>\n",
              "    </tr>\n",
              "    <tr>\n",
              "      <th>11</th>\n",
              "      <td>گاندی</td>\n",
              "      <td>6</td>\n",
              "      <td>35.745901</td>\n",
              "      <td>51.416128</td>\n",
              "    </tr>\n",
              "    <tr>\n",
              "      <th>12</th>\n",
              "      <td>میدان جهاد</td>\n",
              "      <td>6</td>\n",
              "      <td>35.723750</td>\n",
              "      <td>51.405737</td>\n",
              "    </tr>\n",
              "    <tr>\n",
              "      <th>13</th>\n",
              "      <td>میدان ولیعصر</td>\n",
              "      <td>6</td>\n",
              "      <td>35.707320</td>\n",
              "      <td>51.412496</td>\n",
              "    </tr>\n",
              "    <tr>\n",
              "      <th>14</th>\n",
              "      <td>نصرت</td>\n",
              "      <td>6</td>\n",
              "      <td>35.703559</td>\n",
              "      <td>51.384732</td>\n",
              "    </tr>\n",
              "    <tr>\n",
              "      <th>15</th>\n",
              "      <td>یوسف آباد</td>\n",
              "      <td>6</td>\n",
              "      <td>35.734881</td>\n",
              "      <td>51.405727</td>\n",
              "    </tr>\n",
              "    <tr>\n",
              "      <th>16</th>\n",
              "      <td>والفجر</td>\n",
              "      <td>6</td>\n",
              "      <td>35.746390</td>\n",
              "      <td>51.391600</td>\n",
              "    </tr>\n",
              "    <tr>\n",
              "      <th>17</th>\n",
              "      <td>امیرآباد</td>\n",
              "      <td>6</td>\n",
              "      <td>35.735621</td>\n",
              "      <td>51.390096</td>\n",
              "    </tr>\n",
              "  </tbody>\n",
              "</table>\n",
              "</div>"
            ],
            "text/plain": [
              "     Neighborhood  District   Latitude  Longitude\n",
              "0        ایرانشهر         6  35.708586  51.421945\n",
              "1   آرزانتین-ساعی         6  35.734849  51.415833\n",
              "2       بهجت آباد         6  35.719040  51.412128\n",
              "3       پارک لاله         6  35.713637  51.399122\n",
              "4   دانشگاه تهران         6  35.705399  51.399013\n",
              "5          شریعتی         6  35.717660  51.383313\n",
              "6           سنایی         6  35.721523  51.420858\n",
              "7           شیراز         6  35.747199  51.403301\n",
              "8           فاطمی         6  35.719942  51.394577\n",
              "9        قزل قلعه         6  35.728669  51.394446\n",
              "10    کشاورز غربی         6  35.709397  51.384264\n",
              "11          گاندی         6  35.745901  51.416128\n",
              "12     میدان جهاد         6  35.723750  51.405737\n",
              "13   میدان ولیعصر         6  35.707320  51.412496\n",
              "14           نصرت         6  35.703559  51.384732\n",
              "15      یوسف آباد         6  35.734881  51.405727\n",
              "16         والفجر         6  35.746390  51.391600\n",
              "17       امیرآباد         6  35.735621  51.390096"
            ]
          },
          "metadata": {
            "tags": []
          },
          "execution_count": 8
        }
      ]
    },
    {
      "cell_type": "markdown",
      "metadata": {
        "id": "EPlU2YfPMFBD"
      },
      "source": [
        "Let's get the geographical coordinates of Manhattan.\n"
      ]
    },
    {
      "cell_type": "code",
      "metadata": {
        "id": "y_hAhi4rMFBE",
        "colab": {
          "base_uri": "https://localhost:8080/"
        },
        "outputId": "b3bcc3ad-e066-4b5d-bc81-967c8f9cbb5f"
      },
      "source": [
        "address = 'District 6, Tehran, Iran'\n",
        "\n",
        "geolocator = Nominatim(user_agent=\"tehran_explorer\")\n",
        "location = geolocator.geocode(address)\n",
        "latitude = location.latitude\n",
        "longitude = location.longitude\n",
        "print('The geograpical coordinate of District 6 are {}, {}.'.format(latitude, longitude))"
      ],
      "execution_count": 9,
      "outputs": [
        {
          "output_type": "stream",
          "text": [
            "The geograpical coordinate of District 6 are 35.7257318, 51.4011221.\n"
          ],
          "name": "stdout"
        }
      ]
    },
    {
      "cell_type": "markdown",
      "metadata": {
        "id": "zwM-oHwkMFBK"
      },
      "source": [
        "As we did with all of Tehran, let's visualizat District 6 and the neighborhoods in it.\n"
      ]
    },
    {
      "cell_type": "code",
      "metadata": {
        "id": "l_WwjcCmMFBL"
      },
      "source": [
        "# create map of Manhattan using latitude and longitude values\n",
        "map_district6 = folium.Map(location=[latitude, longitude], zoom_start=13)\n",
        "\n",
        "# add markers to map\n",
        "for lat, lng, label in zip(district6['Latitude'], district6['Longitude'], district6['Neighborhood']):\n",
        "    label = folium.Popup(label, parse_html=True)\n",
        "    folium.CircleMarker(\n",
        "        [lat, lng],\n",
        "        radius=7,\n",
        "        popup=label,\n",
        "        color='blue',\n",
        "        fill=True,\n",
        "        fill_color='#3186cc',\n",
        "        fill_opacity=0.7,\n",
        "        parse_html=False).add_to(map_district6)  \n",
        "    \n",
        "map_district6"
      ],
      "execution_count": null,
      "outputs": []
    },
    {
      "cell_type": "markdown",
      "metadata": {
        "id": "Fjfd1wOKMFBP"
      },
      "source": [
        "Next, we are going to start utilizing the Foursquare API to explore the neighborhoods and segment them.\n"
      ]
    },
    {
      "cell_type": "markdown",
      "metadata": {
        "id": "w1ymeSDFMFBQ"
      },
      "source": [
        "#### Define Foursquare Credentials and Version\n"
      ]
    },
    {
      "cell_type": "code",
      "metadata": {
        "id": "iziP_LQpMFBR",
        "colab": {
          "base_uri": "https://localhost:8080/"
        },
        "outputId": "9afe11be-c87a-4bc6-8919-4980cd498616"
      },
      "source": [
        "CLIENT_ID = 'RZ4H2M3IIHZWWXT0LEQQL44UT5DQITVYQY3GLIWFWIDV3NDR' # your Foursquare ID\n",
        "CLIENT_SECRET = 'KNGLLHDYW5HPZ5VR4BMFUIW1S1OUDRUX3C13533QP2IKGWN3' # your Foursquare Secret\n",
        "VERSION = '20201106'\n",
        "LIMIT = 100\n",
        "print('Your credentails:')\n",
        "print('CLIENT_ID: ' + CLIENT_ID)\n",
        "print('CLIENT_SECRET:' + CLIENT_SECRET)"
      ],
      "execution_count": 11,
      "outputs": [
        {
          "output_type": "stream",
          "text": [
            "Your credentails:\n",
            "CLIENT_ID: RZ4H2M3IIHZWWXT0LEQQL44UT5DQITVYQY3GLIWFWIDV3NDR\n",
            "CLIENT_SECRET:KNGLLHDYW5HPZ5VR4BMFUIW1S1OUDRUX3C13533QP2IKGWN3\n"
          ],
          "name": "stdout"
        }
      ]
    },
    {
      "cell_type": "markdown",
      "metadata": {
        "id": "UEqYwruFMFBV"
      },
      "source": [
        "#### Let's explore the first neighborhood in our dataframe.\n"
      ]
    },
    {
      "cell_type": "markdown",
      "metadata": {
        "id": "iuxeHtAAMFBV"
      },
      "source": [
        "Get the neighborhood's name.\n"
      ]
    },
    {
      "cell_type": "code",
      "metadata": {
        "id": "orsVfHQPMFBW",
        "colab": {
          "base_uri": "https://localhost:8080/",
          "height": 35
        },
        "outputId": "bf30b403-c0d2-43ea-f82a-6546de15685a"
      },
      "source": [
        "district6.loc[0, 'Neighborhood']"
      ],
      "execution_count": 12,
      "outputs": [
        {
          "output_type": "execute_result",
          "data": {
            "application/vnd.google.colaboratory.intrinsic+json": {
              "type": "string"
            },
            "text/plain": [
              "'ایرانشهر'"
            ]
          },
          "metadata": {
            "tags": []
          },
          "execution_count": 12
        }
      ]
    },
    {
      "cell_type": "markdown",
      "metadata": {
        "id": "Z_t2-pJqMFBc"
      },
      "source": [
        "Get the neighborhood's latitude and longitude values.\n"
      ]
    },
    {
      "cell_type": "code",
      "metadata": {
        "id": "q7qLOX_YMFBd",
        "colab": {
          "base_uri": "https://localhost:8080/"
        },
        "outputId": "efe0ce05-4c13-4916-9ee7-b2b8a5eb6f46"
      },
      "source": [
        "neighborhood_latitude = district6.loc[0, 'Latitude'] # neighborhood latitude value\n",
        "neighborhood_longitude = district6.loc[0, 'Longitude'] # neighborhood longitude value\n",
        "\n",
        "neighborhood_name = district6.loc[0, 'Neighborhood'] # neighborhood name\n",
        "\n",
        "print('Latitude and longitude values of {} are {}, {}.'.format(neighborhood_name, \n",
        "                                                               neighborhood_latitude, \n",
        "                                                               neighborhood_longitude))"
      ],
      "execution_count": 13,
      "outputs": [
        {
          "output_type": "stream",
          "text": [
            "Latitude and longitude values of ایرانشهر are 35.708585671793884, 51.4219454656182.\n"
          ],
          "name": "stdout"
        }
      ]
    },
    {
      "cell_type": "markdown",
      "metadata": {
        "id": "8pp4i5YIMFBi"
      },
      "source": [
        "#### Now, let's get the top 100 venues that are in Iranshahr within a radius of 500 meters.\n"
      ]
    },
    {
      "cell_type": "markdown",
      "metadata": {
        "id": "SwH-PrKLMFBj"
      },
      "source": [
        "First, let's create the GET request URL. Name your URL **url**.\n"
      ]
    },
    {
      "cell_type": "code",
      "metadata": {
        "scrolled": true,
        "id": "nTMv_bLyMFBk",
        "colab": {
          "base_uri": "https://localhost:8080/",
          "height": 53
        },
        "outputId": "2d4e6853-cb1d-4d47-d7c1-fa39c280a7f1"
      },
      "source": [
        "# type your answer here\n",
        "LIMIT = 100 # limit of number of venues returned by Foursquare API\n",
        "\n",
        "radius = 500 # define radius\n",
        "\n",
        "url = 'https://api.foursquare.com/v2/venues/explore?&client_id={}&client_secret={}&v={}&ll={},{}&radius={}&limit={}'.format(\n",
        "    CLIENT_ID, \n",
        "    CLIENT_SECRET, \n",
        "    VERSION, \n",
        "    neighborhood_latitude, \n",
        "    neighborhood_longitude, \n",
        "    radius, \n",
        "    LIMIT)\n",
        "url "
      ],
      "execution_count": 14,
      "outputs": [
        {
          "output_type": "execute_result",
          "data": {
            "application/vnd.google.colaboratory.intrinsic+json": {
              "type": "string"
            },
            "text/plain": [
              "'https://api.foursquare.com/v2/venues/explore?&client_id=RZ4H2M3IIHZWWXT0LEQQL44UT5DQITVYQY3GLIWFWIDV3NDR&client_secret=KNGLLHDYW5HPZ5VR4BMFUIW1S1OUDRUX3C13533QP2IKGWN3&v=20201106&ll=35.708585671793884,51.4219454656182&radius=500&limit=100'"
            ]
          },
          "metadata": {
            "tags": []
          },
          "execution_count": 14
        }
      ]
    },
    {
      "cell_type": "markdown",
      "metadata": {
        "id": "JabbahttMFBo"
      },
      "source": [
        "Send the GET request and examine the resutls\n"
      ]
    },
    {
      "cell_type": "code",
      "metadata": {
        "id": "hRiDfhdcMFBp",
        "colab": {
          "base_uri": "https://localhost:8080/"
        },
        "outputId": "b6cfec04-f8bd-4cdb-90d9-58a8d137efcb"
      },
      "source": [
        "results = requests.get(url).json()\n",
        "results.keys()"
      ],
      "execution_count": 15,
      "outputs": [
        {
          "output_type": "execute_result",
          "data": {
            "text/plain": [
              "dict_keys(['meta', 'response'])"
            ]
          },
          "metadata": {
            "tags": []
          },
          "execution_count": 15
        }
      ]
    },
    {
      "cell_type": "markdown",
      "metadata": {
        "id": "X1tLaHfiMFBs"
      },
      "source": [
        "From the Foursquare lab in the previous module, we know that all the information is in the _items_ key. Before we proceed, let's borrow the **get_category_type** function from the Foursquare lab.\n"
      ]
    },
    {
      "cell_type": "code",
      "metadata": {
        "id": "z78n5ob0MFBt"
      },
      "source": [
        "# function that extracts the category of the venue\n",
        "def get_category_type(row):\n",
        "    try:\n",
        "        categories_list = row['categories']\n",
        "    except:\n",
        "        categories_list = row['venue.categories']\n",
        "        \n",
        "    if len(categories_list) == 0:\n",
        "        return None\n",
        "    else:\n",
        "        return categories_list[0]['name']"
      ],
      "execution_count": 16,
      "outputs": []
    },
    {
      "cell_type": "markdown",
      "metadata": {
        "id": "veHXihtdMFBx"
      },
      "source": [
        "Now we are ready to clean the json and structure it into a _pandas_ dataframe.\n"
      ]
    },
    {
      "cell_type": "code",
      "metadata": {
        "id": "vJjLLvcRMFBx",
        "colab": {
          "base_uri": "https://localhost:8080/",
          "height": 197
        },
        "outputId": "bf458f42-3fc1-4af4-ba10-6fb3305ebce4"
      },
      "source": [
        "venues = results['response']['groups'][0]['items']\n",
        "    \n",
        "nearby_venues = json_normalize(venues) # flatten JSON\n",
        "\n",
        "# filter columns\n",
        "filtered_columns = ['venue.name', 'venue.categories', 'venue.location.lat', 'venue.location.lng']\n",
        "nearby_venues =nearby_venues.loc[:, filtered_columns]\n",
        "\n",
        "# filter the category for each row\n",
        "nearby_venues['venue.categories'] = nearby_venues.apply(get_category_type, axis=1)\n",
        "\n",
        "# clean columns\n",
        "nearby_venues.columns = [col.split(\".\")[-1] for col in nearby_venues.columns]\n",
        "\n",
        "nearby_venues.head()"
      ],
      "execution_count": 17,
      "outputs": [
        {
          "output_type": "execute_result",
          "data": {
            "text/html": [
              "<div>\n",
              "<style scoped>\n",
              "    .dataframe tbody tr th:only-of-type {\n",
              "        vertical-align: middle;\n",
              "    }\n",
              "\n",
              "    .dataframe tbody tr th {\n",
              "        vertical-align: top;\n",
              "    }\n",
              "\n",
              "    .dataframe thead th {\n",
              "        text-align: right;\n",
              "    }\n",
              "</style>\n",
              "<table border=\"1\" class=\"dataframe\">\n",
              "  <thead>\n",
              "    <tr style=\"text-align: right;\">\n",
              "      <th></th>\n",
              "      <th>name</th>\n",
              "      <th>categories</th>\n",
              "      <th>lat</th>\n",
              "      <th>lng</th>\n",
              "    </tr>\n",
              "  </thead>\n",
              "  <tbody>\n",
              "    <tr>\n",
              "      <th>0</th>\n",
              "      <td>Iranshahr Theater | تماشاخانه ایرانشهر (تماشاخ...</td>\n",
              "      <td>Theater</td>\n",
              "      <td>35.709504</td>\n",
              "      <td>51.421901</td>\n",
              "    </tr>\n",
              "    <tr>\n",
              "      <th>1</th>\n",
              "      <td>Iranian Artists Forum | خانه هنرمندان (خانه هن...</td>\n",
              "      <td>Art Gallery</td>\n",
              "      <td>35.709095</td>\n",
              "      <td>51.420798</td>\n",
              "    </tr>\n",
              "    <tr>\n",
              "      <th>2</th>\n",
              "      <td>Honarmandan Park | پارک هنرمندان (پارک هنرمندان)</td>\n",
              "      <td>Park</td>\n",
              "      <td>35.709573</td>\n",
              "      <td>51.420872</td>\n",
              "    </tr>\n",
              "    <tr>\n",
              "      <th>3</th>\n",
              "      <td>Samandarian Hall | سالن استاد سمندریان (سالن ا...</td>\n",
              "      <td>Theater</td>\n",
              "      <td>35.709543</td>\n",
              "      <td>51.421907</td>\n",
              "    </tr>\n",
              "    <tr>\n",
              "      <th>4</th>\n",
              "      <td>Assar Art Gallery | گالری اثر</td>\n",
              "      <td>Art Gallery</td>\n",
              "      <td>35.708736</td>\n",
              "      <td>51.420466</td>\n",
              "    </tr>\n",
              "  </tbody>\n",
              "</table>\n",
              "</div>"
            ],
            "text/plain": [
              "                                                name   categories        lat  \\\n",
              "0  Iranshahr Theater | تماشاخانه ایرانشهر (تماشاخ...      Theater  35.709504   \n",
              "1  Iranian Artists Forum | خانه هنرمندان (خانه هن...  Art Gallery  35.709095   \n",
              "2   Honarmandan Park | پارک هنرمندان (پارک هنرمندان)         Park  35.709573   \n",
              "3  Samandarian Hall | سالن استاد سمندریان (سالن ا...      Theater  35.709543   \n",
              "4                      Assar Art Gallery | گالری اثر  Art Gallery  35.708736   \n",
              "\n",
              "         lng  \n",
              "0  51.421901  \n",
              "1  51.420798  \n",
              "2  51.420872  \n",
              "3  51.421907  \n",
              "4  51.420466  "
            ]
          },
          "metadata": {
            "tags": []
          },
          "execution_count": 17
        }
      ]
    },
    {
      "cell_type": "markdown",
      "metadata": {
        "id": "bIE-UXdAMFB1"
      },
      "source": [
        "And how many venues were returned by Foursquare?\n"
      ]
    },
    {
      "cell_type": "code",
      "metadata": {
        "id": "hEZVs8h_MFB2",
        "colab": {
          "base_uri": "https://localhost:8080/"
        },
        "outputId": "4869403d-2ded-4962-c56c-8337e9a72597"
      },
      "source": [
        "print('{} venues were returned by Foursquare.'.format(nearby_venues.shape[0]))"
      ],
      "execution_count": 18,
      "outputs": [
        {
          "output_type": "stream",
          "text": [
            "51 venues were returned by Foursquare.\n"
          ],
          "name": "stdout"
        }
      ]
    },
    {
      "cell_type": "markdown",
      "metadata": {
        "id": "GIhCQlzCMFB8"
      },
      "source": [
        "<a id='item2'></a>\n"
      ]
    },
    {
      "cell_type": "markdown",
      "metadata": {
        "id": "rgFzm7vuMFB9"
      },
      "source": [
        "## 2. Explore Neighborhoods in District 6\n"
      ]
    },
    {
      "cell_type": "markdown",
      "metadata": {
        "id": "fvSAGJWAMFB9"
      },
      "source": [
        "#### Let's create a function to repeat the same process to all the neighborhoods in District 6\n"
      ]
    },
    {
      "cell_type": "code",
      "metadata": {
        "id": "A0BhY102MFB-"
      },
      "source": [
        "def getNearbyVenues(names, latitudes, longitudes, radius=500):\n",
        "    \n",
        "    venues_list=[]\n",
        "    for name, lat, lng in zip(names, latitudes, longitudes):\n",
        "        print(name)\n",
        "            \n",
        "        # create the API request URL\n",
        "        url = 'https://api.foursquare.com/v2/venues/explore?&client_id={}&client_secret={}&v={}&ll={},{}&radius={}&limit={}'.format(\n",
        "            CLIENT_ID, \n",
        "            CLIENT_SECRET, \n",
        "            VERSION, \n",
        "            lat, \n",
        "            lng, \n",
        "            radius, \n",
        "            LIMIT)\n",
        "            \n",
        "        # make the GET request\n",
        "        results = requests.get(url).json()[\"response\"]['groups'][0]['items']\n",
        "        \n",
        "        # return only relevant information for each nearby venue\n",
        "        venues_list.append([(\n",
        "            name, \n",
        "            lat, \n",
        "            lng, \n",
        "            v['venue']['name'], \n",
        "            v['venue']['location']['lat'], \n",
        "            v['venue']['location']['lng'],  \n",
        "            v['venue']['categories'][0]['name']) for v in results])\n",
        "\n",
        "    nearby_venues = pd.DataFrame([item for venue_list in venues_list for item in venue_list])\n",
        "    nearby_venues.columns = ['Neighborhood', \n",
        "                  'Neighborhood Latitude', \n",
        "                  'Neighborhood Longitude', \n",
        "                  'Venue', \n",
        "                  'Venue Latitude', \n",
        "                  'Venue Longitude', \n",
        "                  'Venue Category']\n",
        "    \n",
        "    return(nearby_venues)"
      ],
      "execution_count": 19,
      "outputs": []
    },
    {
      "cell_type": "markdown",
      "metadata": {
        "id": "T6HdFXXuMFCC"
      },
      "source": [
        "#### Now write the code to run the above function on each neighborhood and create a new dataframe called _district6_venues_.\n"
      ]
    },
    {
      "cell_type": "code",
      "metadata": {
        "scrolled": true,
        "id": "tAKin_rDMFCD",
        "colab": {
          "base_uri": "https://localhost:8080/"
        },
        "outputId": "b227bd56-8396-417c-9d37-119b6c8930a8"
      },
      "source": [
        "# type your answer here\n",
        "district6_venues = getNearbyVenues(names=district6['Neighborhood'],\n",
        "                                   latitudes=district6['Latitude'],\n",
        "                                   longitudes=district6['Longitude']\n",
        "                                  )"
      ],
      "execution_count": 20,
      "outputs": [
        {
          "output_type": "stream",
          "text": [
            "ایرانشهر\n",
            "آرزانتین-ساعی\n",
            "بهجت آباد\n",
            "پارک لاله\n",
            "دانشگاه تهران\n",
            "شریعتی\n",
            "سنایی\n",
            "شیراز\n",
            "فاطمی\n",
            "قزل قلعه\n",
            "کشاورز غربی\n",
            "گاندی\n",
            "میدان جهاد\n",
            "میدان ولیعصر\n",
            "نصرت\n",
            "یوسف آباد\n",
            "والفجر\n",
            "امیرآباد\n"
          ],
          "name": "stdout"
        }
      ]
    },
    {
      "cell_type": "markdown",
      "metadata": {
        "id": "Lc_AZ_f6MFCH"
      },
      "source": [
        "#### Let's check the size of the resulting dataframe\n"
      ]
    },
    {
      "cell_type": "code",
      "metadata": {
        "id": "BCVTkLa_MFCI",
        "colab": {
          "base_uri": "https://localhost:8080/",
          "height": 215
        },
        "outputId": "d30c63f4-b928-4296-dec1-704b8e987b70"
      },
      "source": [
        "print(district6_venues.shape)\n",
        "district6_venues.head()"
      ],
      "execution_count": 21,
      "outputs": [
        {
          "output_type": "stream",
          "text": [
            "(554, 7)\n"
          ],
          "name": "stdout"
        },
        {
          "output_type": "execute_result",
          "data": {
            "text/html": [
              "<div>\n",
              "<style scoped>\n",
              "    .dataframe tbody tr th:only-of-type {\n",
              "        vertical-align: middle;\n",
              "    }\n",
              "\n",
              "    .dataframe tbody tr th {\n",
              "        vertical-align: top;\n",
              "    }\n",
              "\n",
              "    .dataframe thead th {\n",
              "        text-align: right;\n",
              "    }\n",
              "</style>\n",
              "<table border=\"1\" class=\"dataframe\">\n",
              "  <thead>\n",
              "    <tr style=\"text-align: right;\">\n",
              "      <th></th>\n",
              "      <th>Neighborhood</th>\n",
              "      <th>Neighborhood Latitude</th>\n",
              "      <th>Neighborhood Longitude</th>\n",
              "      <th>Venue</th>\n",
              "      <th>Venue Latitude</th>\n",
              "      <th>Venue Longitude</th>\n",
              "      <th>Venue Category</th>\n",
              "    </tr>\n",
              "  </thead>\n",
              "  <tbody>\n",
              "    <tr>\n",
              "      <th>0</th>\n",
              "      <td>ایرانشهر</td>\n",
              "      <td>35.708586</td>\n",
              "      <td>51.421945</td>\n",
              "      <td>Iranshahr Theater | تماشاخانه ایرانشهر (تماشاخ...</td>\n",
              "      <td>35.709504</td>\n",
              "      <td>51.421901</td>\n",
              "      <td>Theater</td>\n",
              "    </tr>\n",
              "    <tr>\n",
              "      <th>1</th>\n",
              "      <td>ایرانشهر</td>\n",
              "      <td>35.708586</td>\n",
              "      <td>51.421945</td>\n",
              "      <td>Iranian Artists Forum | خانه هنرمندان (خانه هن...</td>\n",
              "      <td>35.709095</td>\n",
              "      <td>51.420798</td>\n",
              "      <td>Art Gallery</td>\n",
              "    </tr>\n",
              "    <tr>\n",
              "      <th>2</th>\n",
              "      <td>ایرانشهر</td>\n",
              "      <td>35.708586</td>\n",
              "      <td>51.421945</td>\n",
              "      <td>Honarmandan Park | پارک هنرمندان (پارک هنرمندان)</td>\n",
              "      <td>35.709573</td>\n",
              "      <td>51.420872</td>\n",
              "      <td>Park</td>\n",
              "    </tr>\n",
              "    <tr>\n",
              "      <th>3</th>\n",
              "      <td>ایرانشهر</td>\n",
              "      <td>35.708586</td>\n",
              "      <td>51.421945</td>\n",
              "      <td>Samandarian Hall | سالن استاد سمندریان (سالن ا...</td>\n",
              "      <td>35.709543</td>\n",
              "      <td>51.421907</td>\n",
              "      <td>Theater</td>\n",
              "    </tr>\n",
              "    <tr>\n",
              "      <th>4</th>\n",
              "      <td>ایرانشهر</td>\n",
              "      <td>35.708586</td>\n",
              "      <td>51.421945</td>\n",
              "      <td>Assar Art Gallery | گالری اثر</td>\n",
              "      <td>35.708736</td>\n",
              "      <td>51.420466</td>\n",
              "      <td>Art Gallery</td>\n",
              "    </tr>\n",
              "  </tbody>\n",
              "</table>\n",
              "</div>"
            ],
            "text/plain": [
              "  Neighborhood  Neighborhood Latitude  Neighborhood Longitude  \\\n",
              "0     ایرانشهر              35.708586               51.421945   \n",
              "1     ایرانشهر              35.708586               51.421945   \n",
              "2     ایرانشهر              35.708586               51.421945   \n",
              "3     ایرانشهر              35.708586               51.421945   \n",
              "4     ایرانشهر              35.708586               51.421945   \n",
              "\n",
              "                                               Venue  Venue Latitude  \\\n",
              "0  Iranshahr Theater | تماشاخانه ایرانشهر (تماشاخ...       35.709504   \n",
              "1  Iranian Artists Forum | خانه هنرمندان (خانه هن...       35.709095   \n",
              "2   Honarmandan Park | پارک هنرمندان (پارک هنرمندان)       35.709573   \n",
              "3  Samandarian Hall | سالن استاد سمندریان (سالن ا...       35.709543   \n",
              "4                      Assar Art Gallery | گالری اثر       35.708736   \n",
              "\n",
              "   Venue Longitude Venue Category  \n",
              "0        51.421901        Theater  \n",
              "1        51.420798    Art Gallery  \n",
              "2        51.420872           Park  \n",
              "3        51.421907        Theater  \n",
              "4        51.420466    Art Gallery  "
            ]
          },
          "metadata": {
            "tags": []
          },
          "execution_count": 21
        }
      ]
    },
    {
      "cell_type": "markdown",
      "metadata": {
        "id": "YkXTqdzOMFCN"
      },
      "source": [
        "Let's check how many venues were returned for each neighborhood\n"
      ]
    },
    {
      "cell_type": "code",
      "metadata": {
        "id": "kz-DiUucMFCO",
        "colab": {
          "base_uri": "https://localhost:8080/"
        },
        "outputId": "b38c3d19-d0f6-4e57-a0a7-4c9fcadf4e6a"
      },
      "source": [
        "district6_venues.groupby('Neighborhood').count()['Venue']"
      ],
      "execution_count": 22,
      "outputs": [
        {
          "output_type": "execute_result",
          "data": {
            "text/plain": [
              "Neighborhood\n",
              "آرزانتین-ساعی    33\n",
              "امیرآباد          4\n",
              "ایرانشهر         51\n",
              "بهجت آباد        52\n",
              "دانشگاه تهران    44\n",
              "سنایی            62\n",
              "شریعتی            3\n",
              "شیراز            50\n",
              "فاطمی            14\n",
              "قزل قلعه         11\n",
              "میدان جهاد       60\n",
              "میدان ولیعصر     43\n",
              "نصرت             14\n",
              "والفجر           15\n",
              "پارک لاله        23\n",
              "کشاورز غربی       6\n",
              "گاندی            27\n",
              "یوسف آباد        42\n",
              "Name: Venue, dtype: int64"
            ]
          },
          "metadata": {
            "tags": []
          },
          "execution_count": 22
        }
      ]
    },
    {
      "cell_type": "markdown",
      "metadata": {
        "id": "NQi6gfWMMFCT"
      },
      "source": [
        "#### Let's find out how many unique categories can be curated from all the returned venues\n"
      ]
    },
    {
      "cell_type": "code",
      "metadata": {
        "id": "sXPovKokMFCU",
        "colab": {
          "base_uri": "https://localhost:8080/"
        },
        "outputId": "e7eece18-fb65-400e-f40f-916192723e4f"
      },
      "source": [
        "print('There are {} uniques categories.'.format(len(district6_venues['Venue Category'].unique())))"
      ],
      "execution_count": 23,
      "outputs": [
        {
          "output_type": "stream",
          "text": [
            "There are 116 uniques categories.\n"
          ],
          "name": "stdout"
        }
      ]
    },
    {
      "cell_type": "markdown",
      "metadata": {
        "id": "NhadJt83MFCZ"
      },
      "source": [
        "<a id='item3'></a>\n"
      ]
    },
    {
      "cell_type": "markdown",
      "metadata": {
        "id": "WftMw960MFCa"
      },
      "source": [
        "## 3. Analyze Each Neighborhood\n"
      ]
    },
    {
      "cell_type": "code",
      "metadata": {
        "id": "5RL3SBlaMFCb",
        "colab": {
          "base_uri": "https://localhost:8080/",
          "height": 267
        },
        "outputId": "c51411f3-6bc1-4109-a1af-5e3072e83a55"
      },
      "source": [
        "# one hot encoding\n",
        "district6_onehot = pd.get_dummies(district6_venues[['Venue Category']], prefix=\"\", prefix_sep=\"\")\n",
        "\n",
        "# add neighborhood column back to dataframe\n",
        "district6_onehot['Neighborhood'] = district6_venues['Neighborhood'] \n",
        "\n",
        "# move neighborhood column to the first column\n",
        "fixed_columns = [district6_onehot.columns[-1]] + list(district6_onehot.columns[:-1])\n",
        "district6_onehot = district6_onehot[fixed_columns]\n",
        "\n",
        "district6_onehot.head()"
      ],
      "execution_count": 24,
      "outputs": [
        {
          "output_type": "execute_result",
          "data": {
            "text/html": [
              "<div>\n",
              "<style scoped>\n",
              "    .dataframe tbody tr th:only-of-type {\n",
              "        vertical-align: middle;\n",
              "    }\n",
              "\n",
              "    .dataframe tbody tr th {\n",
              "        vertical-align: top;\n",
              "    }\n",
              "\n",
              "    .dataframe thead th {\n",
              "        text-align: right;\n",
              "    }\n",
              "</style>\n",
              "<table border=\"1\" class=\"dataframe\">\n",
              "  <thead>\n",
              "    <tr style=\"text-align: right;\">\n",
              "      <th></th>\n",
              "      <th>Neighborhood</th>\n",
              "      <th>Accessories Store</th>\n",
              "      <th>Amphitheater</th>\n",
              "      <th>Art Gallery</th>\n",
              "      <th>Art Museum</th>\n",
              "      <th>Arts &amp; Crafts Store</th>\n",
              "      <th>Ash and Haleem Place</th>\n",
              "      <th>Asian Restaurant</th>\n",
              "      <th>Athletics &amp; Sports</th>\n",
              "      <th>Auto Garage</th>\n",
              "      <th>BBQ Joint</th>\n",
              "      <th>Bagel Shop</th>\n",
              "      <th>Bakery</th>\n",
              "      <th>Bed &amp; Breakfast</th>\n",
              "      <th>Bookstore</th>\n",
              "      <th>Breakfast Spot</th>\n",
              "      <th>Buffet</th>\n",
              "      <th>Burger Joint</th>\n",
              "      <th>Bus Line</th>\n",
              "      <th>Bus Station</th>\n",
              "      <th>Butcher</th>\n",
              "      <th>Café</th>\n",
              "      <th>Candy Store</th>\n",
              "      <th>Chinese Restaurant</th>\n",
              "      <th>Chocolate Shop</th>\n",
              "      <th>Climbing Gym</th>\n",
              "      <th>Coffee Shop</th>\n",
              "      <th>College Cafeteria</th>\n",
              "      <th>College Gym</th>\n",
              "      <th>Comfort Food Restaurant</th>\n",
              "      <th>Concert Hall</th>\n",
              "      <th>Cosmetics Shop</th>\n",
              "      <th>Cultural Center</th>\n",
              "      <th>Department Store</th>\n",
              "      <th>Dizi Place</th>\n",
              "      <th>Donut Shop</th>\n",
              "      <th>Drugstore</th>\n",
              "      <th>Dry Cleaner</th>\n",
              "      <th>Electronics Store</th>\n",
              "      <th>Fast Food Restaurant</th>\n",
              "      <th>Flower Shop</th>\n",
              "      <th>Food &amp; Drink Shop</th>\n",
              "      <th>Food Court</th>\n",
              "      <th>French Restaurant</th>\n",
              "      <th>Fried Chicken Joint</th>\n",
              "      <th>Fruit &amp; Vegetable Store</th>\n",
              "      <th>Furniture / Home Store</th>\n",
              "      <th>General Entertainment</th>\n",
              "      <th>Gift Shop</th>\n",
              "      <th>Gilaki Restaurant</th>\n",
              "      <th>Gym</th>\n",
              "      <th>Gym / Fitness Center</th>\n",
              "      <th>Gym Pool</th>\n",
              "      <th>Halal Restaurant</th>\n",
              "      <th>Historic Site</th>\n",
              "      <th>Hookah Bar</th>\n",
              "      <th>Hostel</th>\n",
              "      <th>Hot Dog Joint</th>\n",
              "      <th>Hotel</th>\n",
              "      <th>IT Services</th>\n",
              "      <th>Ice Cream Shop</th>\n",
              "      <th>Indian Restaurant</th>\n",
              "      <th>Indie Movie Theater</th>\n",
              "      <th>Intersection</th>\n",
              "      <th>Italian Restaurant</th>\n",
              "      <th>Jegaraki</th>\n",
              "      <th>Jewelry Store</th>\n",
              "      <th>Juice Bar</th>\n",
              "      <th>Kebab Restaurant</th>\n",
              "      <th>Korean Restaurant</th>\n",
              "      <th>Lawyer</th>\n",
              "      <th>Leather Goods Store</th>\n",
              "      <th>Lounge</th>\n",
              "      <th>Market</th>\n",
              "      <th>Mattress Store</th>\n",
              "      <th>Mediterranean Restaurant</th>\n",
              "      <th>Men's Store</th>\n",
              "      <th>Movie Theater</th>\n",
              "      <th>Music Store</th>\n",
              "      <th>Music Venue</th>\n",
              "      <th>Office</th>\n",
              "      <th>Optical Shop</th>\n",
              "      <th>Palace</th>\n",
              "      <th>Park</th>\n",
              "      <th>Pastry Shop</th>\n",
              "      <th>Performing Arts Venue</th>\n",
              "      <th>Perfume Shop</th>\n",
              "      <th>Persian Restaurant</th>\n",
              "      <th>Pet Store</th>\n",
              "      <th>Pharmacy</th>\n",
              "      <th>Pizza Place</th>\n",
              "      <th>Plaza</th>\n",
              "      <th>Pool</th>\n",
              "      <th>Restaurant</th>\n",
              "      <th>Russian Restaurant</th>\n",
              "      <th>Salon / Barbershop</th>\n",
              "      <th>Sandwich Place</th>\n",
              "      <th>Shopping Mall</th>\n",
              "      <th>Shopping Plaza</th>\n",
              "      <th>Snack Place</th>\n",
              "      <th>Soccer Field</th>\n",
              "      <th>Soup Place</th>\n",
              "      <th>Sporting Goods Shop</th>\n",
              "      <th>Sports Club</th>\n",
              "      <th>Stationery Store</th>\n",
              "      <th>Steakhouse</th>\n",
              "      <th>Supermarket</th>\n",
              "      <th>Tabbakhi</th>\n",
              "      <th>Taxi Stand</th>\n",
              "      <th>Tea Room</th>\n",
              "      <th>Tennis Stadium</th>\n",
              "      <th>Theater</th>\n",
              "      <th>Vegetarian / Vegan Restaurant</th>\n",
              "      <th>Video Store</th>\n",
              "      <th>Volleyball Court</th>\n",
              "      <th>Women's Store</th>\n",
              "      <th>Yoga Studio</th>\n",
              "    </tr>\n",
              "  </thead>\n",
              "  <tbody>\n",
              "    <tr>\n",
              "      <th>0</th>\n",
              "      <td>ایرانشهر</td>\n",
              "      <td>0</td>\n",
              "      <td>0</td>\n",
              "      <td>0</td>\n",
              "      <td>0</td>\n",
              "      <td>0</td>\n",
              "      <td>0</td>\n",
              "      <td>0</td>\n",
              "      <td>0</td>\n",
              "      <td>0</td>\n",
              "      <td>0</td>\n",
              "      <td>0</td>\n",
              "      <td>0</td>\n",
              "      <td>0</td>\n",
              "      <td>0</td>\n",
              "      <td>0</td>\n",
              "      <td>0</td>\n",
              "      <td>0</td>\n",
              "      <td>0</td>\n",
              "      <td>0</td>\n",
              "      <td>0</td>\n",
              "      <td>0</td>\n",
              "      <td>0</td>\n",
              "      <td>0</td>\n",
              "      <td>0</td>\n",
              "      <td>0</td>\n",
              "      <td>0</td>\n",
              "      <td>0</td>\n",
              "      <td>0</td>\n",
              "      <td>0</td>\n",
              "      <td>0</td>\n",
              "      <td>0</td>\n",
              "      <td>0</td>\n",
              "      <td>0</td>\n",
              "      <td>0</td>\n",
              "      <td>0</td>\n",
              "      <td>0</td>\n",
              "      <td>0</td>\n",
              "      <td>0</td>\n",
              "      <td>0</td>\n",
              "      <td>0</td>\n",
              "      <td>0</td>\n",
              "      <td>0</td>\n",
              "      <td>0</td>\n",
              "      <td>0</td>\n",
              "      <td>0</td>\n",
              "      <td>0</td>\n",
              "      <td>0</td>\n",
              "      <td>0</td>\n",
              "      <td>0</td>\n",
              "      <td>0</td>\n",
              "      <td>0</td>\n",
              "      <td>0</td>\n",
              "      <td>0</td>\n",
              "      <td>0</td>\n",
              "      <td>0</td>\n",
              "      <td>0</td>\n",
              "      <td>0</td>\n",
              "      <td>0</td>\n",
              "      <td>0</td>\n",
              "      <td>0</td>\n",
              "      <td>0</td>\n",
              "      <td>0</td>\n",
              "      <td>0</td>\n",
              "      <td>0</td>\n",
              "      <td>0</td>\n",
              "      <td>0</td>\n",
              "      <td>0</td>\n",
              "      <td>0</td>\n",
              "      <td>0</td>\n",
              "      <td>0</td>\n",
              "      <td>0</td>\n",
              "      <td>0</td>\n",
              "      <td>0</td>\n",
              "      <td>0</td>\n",
              "      <td>0</td>\n",
              "      <td>0</td>\n",
              "      <td>0</td>\n",
              "      <td>0</td>\n",
              "      <td>0</td>\n",
              "      <td>0</td>\n",
              "      <td>0</td>\n",
              "      <td>0</td>\n",
              "      <td>0</td>\n",
              "      <td>0</td>\n",
              "      <td>0</td>\n",
              "      <td>0</td>\n",
              "      <td>0</td>\n",
              "      <td>0</td>\n",
              "      <td>0</td>\n",
              "      <td>0</td>\n",
              "      <td>0</td>\n",
              "      <td>0</td>\n",
              "      <td>0</td>\n",
              "      <td>0</td>\n",
              "      <td>0</td>\n",
              "      <td>0</td>\n",
              "      <td>0</td>\n",
              "      <td>0</td>\n",
              "      <td>0</td>\n",
              "      <td>0</td>\n",
              "      <td>0</td>\n",
              "      <td>0</td>\n",
              "      <td>0</td>\n",
              "      <td>0</td>\n",
              "      <td>0</td>\n",
              "      <td>0</td>\n",
              "      <td>0</td>\n",
              "      <td>0</td>\n",
              "      <td>0</td>\n",
              "      <td>0</td>\n",
              "      <td>1</td>\n",
              "      <td>0</td>\n",
              "      <td>0</td>\n",
              "      <td>0</td>\n",
              "      <td>0</td>\n",
              "      <td>0</td>\n",
              "    </tr>\n",
              "    <tr>\n",
              "      <th>1</th>\n",
              "      <td>ایرانشهر</td>\n",
              "      <td>0</td>\n",
              "      <td>0</td>\n",
              "      <td>1</td>\n",
              "      <td>0</td>\n",
              "      <td>0</td>\n",
              "      <td>0</td>\n",
              "      <td>0</td>\n",
              "      <td>0</td>\n",
              "      <td>0</td>\n",
              "      <td>0</td>\n",
              "      <td>0</td>\n",
              "      <td>0</td>\n",
              "      <td>0</td>\n",
              "      <td>0</td>\n",
              "      <td>0</td>\n",
              "      <td>0</td>\n",
              "      <td>0</td>\n",
              "      <td>0</td>\n",
              "      <td>0</td>\n",
              "      <td>0</td>\n",
              "      <td>0</td>\n",
              "      <td>0</td>\n",
              "      <td>0</td>\n",
              "      <td>0</td>\n",
              "      <td>0</td>\n",
              "      <td>0</td>\n",
              "      <td>0</td>\n",
              "      <td>0</td>\n",
              "      <td>0</td>\n",
              "      <td>0</td>\n",
              "      <td>0</td>\n",
              "      <td>0</td>\n",
              "      <td>0</td>\n",
              "      <td>0</td>\n",
              "      <td>0</td>\n",
              "      <td>0</td>\n",
              "      <td>0</td>\n",
              "      <td>0</td>\n",
              "      <td>0</td>\n",
              "      <td>0</td>\n",
              "      <td>0</td>\n",
              "      <td>0</td>\n",
              "      <td>0</td>\n",
              "      <td>0</td>\n",
              "      <td>0</td>\n",
              "      <td>0</td>\n",
              "      <td>0</td>\n",
              "      <td>0</td>\n",
              "      <td>0</td>\n",
              "      <td>0</td>\n",
              "      <td>0</td>\n",
              "      <td>0</td>\n",
              "      <td>0</td>\n",
              "      <td>0</td>\n",
              "      <td>0</td>\n",
              "      <td>0</td>\n",
              "      <td>0</td>\n",
              "      <td>0</td>\n",
              "      <td>0</td>\n",
              "      <td>0</td>\n",
              "      <td>0</td>\n",
              "      <td>0</td>\n",
              "      <td>0</td>\n",
              "      <td>0</td>\n",
              "      <td>0</td>\n",
              "      <td>0</td>\n",
              "      <td>0</td>\n",
              "      <td>0</td>\n",
              "      <td>0</td>\n",
              "      <td>0</td>\n",
              "      <td>0</td>\n",
              "      <td>0</td>\n",
              "      <td>0</td>\n",
              "      <td>0</td>\n",
              "      <td>0</td>\n",
              "      <td>0</td>\n",
              "      <td>0</td>\n",
              "      <td>0</td>\n",
              "      <td>0</td>\n",
              "      <td>0</td>\n",
              "      <td>0</td>\n",
              "      <td>0</td>\n",
              "      <td>0</td>\n",
              "      <td>0</td>\n",
              "      <td>0</td>\n",
              "      <td>0</td>\n",
              "      <td>0</td>\n",
              "      <td>0</td>\n",
              "      <td>0</td>\n",
              "      <td>0</td>\n",
              "      <td>0</td>\n",
              "      <td>0</td>\n",
              "      <td>0</td>\n",
              "      <td>0</td>\n",
              "      <td>0</td>\n",
              "      <td>0</td>\n",
              "      <td>0</td>\n",
              "      <td>0</td>\n",
              "      <td>0</td>\n",
              "      <td>0</td>\n",
              "      <td>0</td>\n",
              "      <td>0</td>\n",
              "      <td>0</td>\n",
              "      <td>0</td>\n",
              "      <td>0</td>\n",
              "      <td>0</td>\n",
              "      <td>0</td>\n",
              "      <td>0</td>\n",
              "      <td>0</td>\n",
              "      <td>0</td>\n",
              "      <td>0</td>\n",
              "      <td>0</td>\n",
              "      <td>0</td>\n",
              "      <td>0</td>\n",
              "      <td>0</td>\n",
              "      <td>0</td>\n",
              "    </tr>\n",
              "    <tr>\n",
              "      <th>2</th>\n",
              "      <td>ایرانشهر</td>\n",
              "      <td>0</td>\n",
              "      <td>0</td>\n",
              "      <td>0</td>\n",
              "      <td>0</td>\n",
              "      <td>0</td>\n",
              "      <td>0</td>\n",
              "      <td>0</td>\n",
              "      <td>0</td>\n",
              "      <td>0</td>\n",
              "      <td>0</td>\n",
              "      <td>0</td>\n",
              "      <td>0</td>\n",
              "      <td>0</td>\n",
              "      <td>0</td>\n",
              "      <td>0</td>\n",
              "      <td>0</td>\n",
              "      <td>0</td>\n",
              "      <td>0</td>\n",
              "      <td>0</td>\n",
              "      <td>0</td>\n",
              "      <td>0</td>\n",
              "      <td>0</td>\n",
              "      <td>0</td>\n",
              "      <td>0</td>\n",
              "      <td>0</td>\n",
              "      <td>0</td>\n",
              "      <td>0</td>\n",
              "      <td>0</td>\n",
              "      <td>0</td>\n",
              "      <td>0</td>\n",
              "      <td>0</td>\n",
              "      <td>0</td>\n",
              "      <td>0</td>\n",
              "      <td>0</td>\n",
              "      <td>0</td>\n",
              "      <td>0</td>\n",
              "      <td>0</td>\n",
              "      <td>0</td>\n",
              "      <td>0</td>\n",
              "      <td>0</td>\n",
              "      <td>0</td>\n",
              "      <td>0</td>\n",
              "      <td>0</td>\n",
              "      <td>0</td>\n",
              "      <td>0</td>\n",
              "      <td>0</td>\n",
              "      <td>0</td>\n",
              "      <td>0</td>\n",
              "      <td>0</td>\n",
              "      <td>0</td>\n",
              "      <td>0</td>\n",
              "      <td>0</td>\n",
              "      <td>0</td>\n",
              "      <td>0</td>\n",
              "      <td>0</td>\n",
              "      <td>0</td>\n",
              "      <td>0</td>\n",
              "      <td>0</td>\n",
              "      <td>0</td>\n",
              "      <td>0</td>\n",
              "      <td>0</td>\n",
              "      <td>0</td>\n",
              "      <td>0</td>\n",
              "      <td>0</td>\n",
              "      <td>0</td>\n",
              "      <td>0</td>\n",
              "      <td>0</td>\n",
              "      <td>0</td>\n",
              "      <td>0</td>\n",
              "      <td>0</td>\n",
              "      <td>0</td>\n",
              "      <td>0</td>\n",
              "      <td>0</td>\n",
              "      <td>0</td>\n",
              "      <td>0</td>\n",
              "      <td>0</td>\n",
              "      <td>0</td>\n",
              "      <td>0</td>\n",
              "      <td>0</td>\n",
              "      <td>0</td>\n",
              "      <td>0</td>\n",
              "      <td>0</td>\n",
              "      <td>1</td>\n",
              "      <td>0</td>\n",
              "      <td>0</td>\n",
              "      <td>0</td>\n",
              "      <td>0</td>\n",
              "      <td>0</td>\n",
              "      <td>0</td>\n",
              "      <td>0</td>\n",
              "      <td>0</td>\n",
              "      <td>0</td>\n",
              "      <td>0</td>\n",
              "      <td>0</td>\n",
              "      <td>0</td>\n",
              "      <td>0</td>\n",
              "      <td>0</td>\n",
              "      <td>0</td>\n",
              "      <td>0</td>\n",
              "      <td>0</td>\n",
              "      <td>0</td>\n",
              "      <td>0</td>\n",
              "      <td>0</td>\n",
              "      <td>0</td>\n",
              "      <td>0</td>\n",
              "      <td>0</td>\n",
              "      <td>0</td>\n",
              "      <td>0</td>\n",
              "      <td>0</td>\n",
              "      <td>0</td>\n",
              "      <td>0</td>\n",
              "      <td>0</td>\n",
              "      <td>0</td>\n",
              "      <td>0</td>\n",
              "      <td>0</td>\n",
              "      <td>0</td>\n",
              "    </tr>\n",
              "    <tr>\n",
              "      <th>3</th>\n",
              "      <td>ایرانشهر</td>\n",
              "      <td>0</td>\n",
              "      <td>0</td>\n",
              "      <td>0</td>\n",
              "      <td>0</td>\n",
              "      <td>0</td>\n",
              "      <td>0</td>\n",
              "      <td>0</td>\n",
              "      <td>0</td>\n",
              "      <td>0</td>\n",
              "      <td>0</td>\n",
              "      <td>0</td>\n",
              "      <td>0</td>\n",
              "      <td>0</td>\n",
              "      <td>0</td>\n",
              "      <td>0</td>\n",
              "      <td>0</td>\n",
              "      <td>0</td>\n",
              "      <td>0</td>\n",
              "      <td>0</td>\n",
              "      <td>0</td>\n",
              "      <td>0</td>\n",
              "      <td>0</td>\n",
              "      <td>0</td>\n",
              "      <td>0</td>\n",
              "      <td>0</td>\n",
              "      <td>0</td>\n",
              "      <td>0</td>\n",
              "      <td>0</td>\n",
              "      <td>0</td>\n",
              "      <td>0</td>\n",
              "      <td>0</td>\n",
              "      <td>0</td>\n",
              "      <td>0</td>\n",
              "      <td>0</td>\n",
              "      <td>0</td>\n",
              "      <td>0</td>\n",
              "      <td>0</td>\n",
              "      <td>0</td>\n",
              "      <td>0</td>\n",
              "      <td>0</td>\n",
              "      <td>0</td>\n",
              "      <td>0</td>\n",
              "      <td>0</td>\n",
              "      <td>0</td>\n",
              "      <td>0</td>\n",
              "      <td>0</td>\n",
              "      <td>0</td>\n",
              "      <td>0</td>\n",
              "      <td>0</td>\n",
              "      <td>0</td>\n",
              "      <td>0</td>\n",
              "      <td>0</td>\n",
              "      <td>0</td>\n",
              "      <td>0</td>\n",
              "      <td>0</td>\n",
              "      <td>0</td>\n",
              "      <td>0</td>\n",
              "      <td>0</td>\n",
              "      <td>0</td>\n",
              "      <td>0</td>\n",
              "      <td>0</td>\n",
              "      <td>0</td>\n",
              "      <td>0</td>\n",
              "      <td>0</td>\n",
              "      <td>0</td>\n",
              "      <td>0</td>\n",
              "      <td>0</td>\n",
              "      <td>0</td>\n",
              "      <td>0</td>\n",
              "      <td>0</td>\n",
              "      <td>0</td>\n",
              "      <td>0</td>\n",
              "      <td>0</td>\n",
              "      <td>0</td>\n",
              "      <td>0</td>\n",
              "      <td>0</td>\n",
              "      <td>0</td>\n",
              "      <td>0</td>\n",
              "      <td>0</td>\n",
              "      <td>0</td>\n",
              "      <td>0</td>\n",
              "      <td>0</td>\n",
              "      <td>0</td>\n",
              "      <td>0</td>\n",
              "      <td>0</td>\n",
              "      <td>0</td>\n",
              "      <td>0</td>\n",
              "      <td>0</td>\n",
              "      <td>0</td>\n",
              "      <td>0</td>\n",
              "      <td>0</td>\n",
              "      <td>0</td>\n",
              "      <td>0</td>\n",
              "      <td>0</td>\n",
              "      <td>0</td>\n",
              "      <td>0</td>\n",
              "      <td>0</td>\n",
              "      <td>0</td>\n",
              "      <td>0</td>\n",
              "      <td>0</td>\n",
              "      <td>0</td>\n",
              "      <td>0</td>\n",
              "      <td>0</td>\n",
              "      <td>0</td>\n",
              "      <td>0</td>\n",
              "      <td>0</td>\n",
              "      <td>0</td>\n",
              "      <td>0</td>\n",
              "      <td>0</td>\n",
              "      <td>0</td>\n",
              "      <td>1</td>\n",
              "      <td>0</td>\n",
              "      <td>0</td>\n",
              "      <td>0</td>\n",
              "      <td>0</td>\n",
              "      <td>0</td>\n",
              "    </tr>\n",
              "    <tr>\n",
              "      <th>4</th>\n",
              "      <td>ایرانشهر</td>\n",
              "      <td>0</td>\n",
              "      <td>0</td>\n",
              "      <td>1</td>\n",
              "      <td>0</td>\n",
              "      <td>0</td>\n",
              "      <td>0</td>\n",
              "      <td>0</td>\n",
              "      <td>0</td>\n",
              "      <td>0</td>\n",
              "      <td>0</td>\n",
              "      <td>0</td>\n",
              "      <td>0</td>\n",
              "      <td>0</td>\n",
              "      <td>0</td>\n",
              "      <td>0</td>\n",
              "      <td>0</td>\n",
              "      <td>0</td>\n",
              "      <td>0</td>\n",
              "      <td>0</td>\n",
              "      <td>0</td>\n",
              "      <td>0</td>\n",
              "      <td>0</td>\n",
              "      <td>0</td>\n",
              "      <td>0</td>\n",
              "      <td>0</td>\n",
              "      <td>0</td>\n",
              "      <td>0</td>\n",
              "      <td>0</td>\n",
              "      <td>0</td>\n",
              "      <td>0</td>\n",
              "      <td>0</td>\n",
              "      <td>0</td>\n",
              "      <td>0</td>\n",
              "      <td>0</td>\n",
              "      <td>0</td>\n",
              "      <td>0</td>\n",
              "      <td>0</td>\n",
              "      <td>0</td>\n",
              "      <td>0</td>\n",
              "      <td>0</td>\n",
              "      <td>0</td>\n",
              "      <td>0</td>\n",
              "      <td>0</td>\n",
              "      <td>0</td>\n",
              "      <td>0</td>\n",
              "      <td>0</td>\n",
              "      <td>0</td>\n",
              "      <td>0</td>\n",
              "      <td>0</td>\n",
              "      <td>0</td>\n",
              "      <td>0</td>\n",
              "      <td>0</td>\n",
              "      <td>0</td>\n",
              "      <td>0</td>\n",
              "      <td>0</td>\n",
              "      <td>0</td>\n",
              "      <td>0</td>\n",
              "      <td>0</td>\n",
              "      <td>0</td>\n",
              "      <td>0</td>\n",
              "      <td>0</td>\n",
              "      <td>0</td>\n",
              "      <td>0</td>\n",
              "      <td>0</td>\n",
              "      <td>0</td>\n",
              "      <td>0</td>\n",
              "      <td>0</td>\n",
              "      <td>0</td>\n",
              "      <td>0</td>\n",
              "      <td>0</td>\n",
              "      <td>0</td>\n",
              "      <td>0</td>\n",
              "      <td>0</td>\n",
              "      <td>0</td>\n",
              "      <td>0</td>\n",
              "      <td>0</td>\n",
              "      <td>0</td>\n",
              "      <td>0</td>\n",
              "      <td>0</td>\n",
              "      <td>0</td>\n",
              "      <td>0</td>\n",
              "      <td>0</td>\n",
              "      <td>0</td>\n",
              "      <td>0</td>\n",
              "      <td>0</td>\n",
              "      <td>0</td>\n",
              "      <td>0</td>\n",
              "      <td>0</td>\n",
              "      <td>0</td>\n",
              "      <td>0</td>\n",
              "      <td>0</td>\n",
              "      <td>0</td>\n",
              "      <td>0</td>\n",
              "      <td>0</td>\n",
              "      <td>0</td>\n",
              "      <td>0</td>\n",
              "      <td>0</td>\n",
              "      <td>0</td>\n",
              "      <td>0</td>\n",
              "      <td>0</td>\n",
              "      <td>0</td>\n",
              "      <td>0</td>\n",
              "      <td>0</td>\n",
              "      <td>0</td>\n",
              "      <td>0</td>\n",
              "      <td>0</td>\n",
              "      <td>0</td>\n",
              "      <td>0</td>\n",
              "      <td>0</td>\n",
              "      <td>0</td>\n",
              "      <td>0</td>\n",
              "      <td>0</td>\n",
              "      <td>0</td>\n",
              "      <td>0</td>\n",
              "      <td>0</td>\n",
              "      <td>0</td>\n",
              "    </tr>\n",
              "  </tbody>\n",
              "</table>\n",
              "</div>"
            ],
            "text/plain": [
              "  Neighborhood  Accessories Store  Amphitheater  Art Gallery  Art Museum  \\\n",
              "0     ایرانشهر                  0             0            0           0   \n",
              "1     ایرانشهر                  0             0            1           0   \n",
              "2     ایرانشهر                  0             0            0           0   \n",
              "3     ایرانشهر                  0             0            0           0   \n",
              "4     ایرانشهر                  0             0            1           0   \n",
              "\n",
              "   Arts & Crafts Store  Ash and Haleem Place  Asian Restaurant  \\\n",
              "0                    0                     0                 0   \n",
              "1                    0                     0                 0   \n",
              "2                    0                     0                 0   \n",
              "3                    0                     0                 0   \n",
              "4                    0                     0                 0   \n",
              "\n",
              "   Athletics & Sports  Auto Garage  BBQ Joint  Bagel Shop  Bakery  \\\n",
              "0                   0            0          0           0       0   \n",
              "1                   0            0          0           0       0   \n",
              "2                   0            0          0           0       0   \n",
              "3                   0            0          0           0       0   \n",
              "4                   0            0          0           0       0   \n",
              "\n",
              "   Bed & Breakfast  Bookstore  Breakfast Spot  Buffet  Burger Joint  Bus Line  \\\n",
              "0                0          0               0       0             0         0   \n",
              "1                0          0               0       0             0         0   \n",
              "2                0          0               0       0             0         0   \n",
              "3                0          0               0       0             0         0   \n",
              "4                0          0               0       0             0         0   \n",
              "\n",
              "   Bus Station  Butcher  Café  Candy Store  Chinese Restaurant  \\\n",
              "0            0        0     0            0                   0   \n",
              "1            0        0     0            0                   0   \n",
              "2            0        0     0            0                   0   \n",
              "3            0        0     0            0                   0   \n",
              "4            0        0     0            0                   0   \n",
              "\n",
              "   Chocolate Shop  Climbing Gym  Coffee Shop  College Cafeteria  College Gym  \\\n",
              "0               0             0            0                  0            0   \n",
              "1               0             0            0                  0            0   \n",
              "2               0             0            0                  0            0   \n",
              "3               0             0            0                  0            0   \n",
              "4               0             0            0                  0            0   \n",
              "\n",
              "   Comfort Food Restaurant  Concert Hall  Cosmetics Shop  Cultural Center  \\\n",
              "0                        0             0               0                0   \n",
              "1                        0             0               0                0   \n",
              "2                        0             0               0                0   \n",
              "3                        0             0               0                0   \n",
              "4                        0             0               0                0   \n",
              "\n",
              "   Department Store  Dizi Place  Donut Shop  Drugstore  Dry Cleaner  \\\n",
              "0                 0           0           0          0            0   \n",
              "1                 0           0           0          0            0   \n",
              "2                 0           0           0          0            0   \n",
              "3                 0           0           0          0            0   \n",
              "4                 0           0           0          0            0   \n",
              "\n",
              "   Electronics Store  Fast Food Restaurant  Flower Shop  Food & Drink Shop  \\\n",
              "0                  0                     0            0                  0   \n",
              "1                  0                     0            0                  0   \n",
              "2                  0                     0            0                  0   \n",
              "3                  0                     0            0                  0   \n",
              "4                  0                     0            0                  0   \n",
              "\n",
              "   Food Court  French Restaurant  Fried Chicken Joint  \\\n",
              "0           0                  0                    0   \n",
              "1           0                  0                    0   \n",
              "2           0                  0                    0   \n",
              "3           0                  0                    0   \n",
              "4           0                  0                    0   \n",
              "\n",
              "   Fruit & Vegetable Store  Furniture / Home Store  General Entertainment  \\\n",
              "0                        0                       0                      0   \n",
              "1                        0                       0                      0   \n",
              "2                        0                       0                      0   \n",
              "3                        0                       0                      0   \n",
              "4                        0                       0                      0   \n",
              "\n",
              "   Gift Shop  Gilaki Restaurant  Gym  Gym / Fitness Center  Gym Pool  \\\n",
              "0          0                  0    0                     0         0   \n",
              "1          0                  0    0                     0         0   \n",
              "2          0                  0    0                     0         0   \n",
              "3          0                  0    0                     0         0   \n",
              "4          0                  0    0                     0         0   \n",
              "\n",
              "   Halal Restaurant  Historic Site  Hookah Bar  Hostel  Hot Dog Joint  Hotel  \\\n",
              "0                 0              0           0       0              0      0   \n",
              "1                 0              0           0       0              0      0   \n",
              "2                 0              0           0       0              0      0   \n",
              "3                 0              0           0       0              0      0   \n",
              "4                 0              0           0       0              0      0   \n",
              "\n",
              "   IT Services  Ice Cream Shop  Indian Restaurant  Indie Movie Theater  \\\n",
              "0            0               0                  0                    0   \n",
              "1            0               0                  0                    0   \n",
              "2            0               0                  0                    0   \n",
              "3            0               0                  0                    0   \n",
              "4            0               0                  0                    0   \n",
              "\n",
              "   Intersection  Italian Restaurant  Jegaraki  Jewelry Store  Juice Bar  \\\n",
              "0             0                   0         0              0          0   \n",
              "1             0                   0         0              0          0   \n",
              "2             0                   0         0              0          0   \n",
              "3             0                   0         0              0          0   \n",
              "4             0                   0         0              0          0   \n",
              "\n",
              "   Kebab Restaurant  Korean Restaurant  Lawyer  Leather Goods Store  Lounge  \\\n",
              "0                 0                  0       0                    0       0   \n",
              "1                 0                  0       0                    0       0   \n",
              "2                 0                  0       0                    0       0   \n",
              "3                 0                  0       0                    0       0   \n",
              "4                 0                  0       0                    0       0   \n",
              "\n",
              "   Market  Mattress Store  Mediterranean Restaurant  Men's Store  \\\n",
              "0       0               0                         0            0   \n",
              "1       0               0                         0            0   \n",
              "2       0               0                         0            0   \n",
              "3       0               0                         0            0   \n",
              "4       0               0                         0            0   \n",
              "\n",
              "   Movie Theater  Music Store  Music Venue  Office  Optical Shop  Palace  \\\n",
              "0              0            0            0       0             0       0   \n",
              "1              0            0            0       0             0       0   \n",
              "2              0            0            0       0             0       0   \n",
              "3              0            0            0       0             0       0   \n",
              "4              0            0            0       0             0       0   \n",
              "\n",
              "   Park  Pastry Shop  Performing Arts Venue  Perfume Shop  Persian Restaurant  \\\n",
              "0     0            0                      0             0                   0   \n",
              "1     0            0                      0             0                   0   \n",
              "2     1            0                      0             0                   0   \n",
              "3     0            0                      0             0                   0   \n",
              "4     0            0                      0             0                   0   \n",
              "\n",
              "   Pet Store  Pharmacy  Pizza Place  Plaza  Pool  Restaurant  \\\n",
              "0          0         0            0      0     0           0   \n",
              "1          0         0            0      0     0           0   \n",
              "2          0         0            0      0     0           0   \n",
              "3          0         0            0      0     0           0   \n",
              "4          0         0            0      0     0           0   \n",
              "\n",
              "   Russian Restaurant  Salon / Barbershop  Sandwich Place  Shopping Mall  \\\n",
              "0                   0                   0               0              0   \n",
              "1                   0                   0               0              0   \n",
              "2                   0                   0               0              0   \n",
              "3                   0                   0               0              0   \n",
              "4                   0                   0               0              0   \n",
              "\n",
              "   Shopping Plaza  Snack Place  Soccer Field  Soup Place  Sporting Goods Shop  \\\n",
              "0               0            0             0           0                    0   \n",
              "1               0            0             0           0                    0   \n",
              "2               0            0             0           0                    0   \n",
              "3               0            0             0           0                    0   \n",
              "4               0            0             0           0                    0   \n",
              "\n",
              "   Sports Club  Stationery Store  Steakhouse  Supermarket  Tabbakhi  \\\n",
              "0            0                 0           0            0         0   \n",
              "1            0                 0           0            0         0   \n",
              "2            0                 0           0            0         0   \n",
              "3            0                 0           0            0         0   \n",
              "4            0                 0           0            0         0   \n",
              "\n",
              "   Taxi Stand  Tea Room  Tennis Stadium  Theater  \\\n",
              "0           0         0               0        1   \n",
              "1           0         0               0        0   \n",
              "2           0         0               0        0   \n",
              "3           0         0               0        1   \n",
              "4           0         0               0        0   \n",
              "\n",
              "   Vegetarian / Vegan Restaurant  Video Store  Volleyball Court  \\\n",
              "0                              0            0                 0   \n",
              "1                              0            0                 0   \n",
              "2                              0            0                 0   \n",
              "3                              0            0                 0   \n",
              "4                              0            0                 0   \n",
              "\n",
              "   Women's Store  Yoga Studio  \n",
              "0              0            0  \n",
              "1              0            0  \n",
              "2              0            0  \n",
              "3              0            0  \n",
              "4              0            0  "
            ]
          },
          "metadata": {
            "tags": []
          },
          "execution_count": 24
        }
      ]
    },
    {
      "cell_type": "markdown",
      "metadata": {
        "id": "gTkzrzbcMFCf"
      },
      "source": [
        "And let's examine the new dataframe size.\n"
      ]
    },
    {
      "cell_type": "code",
      "metadata": {
        "id": "rwNFV4WaMFCg",
        "colab": {
          "base_uri": "https://localhost:8080/"
        },
        "outputId": "122c9daa-fc48-46ab-ded4-859eed307315"
      },
      "source": [
        "district6_onehot.shape"
      ],
      "execution_count": 25,
      "outputs": [
        {
          "output_type": "execute_result",
          "data": {
            "text/plain": [
              "(554, 117)"
            ]
          },
          "metadata": {
            "tags": []
          },
          "execution_count": 25
        }
      ]
    },
    {
      "cell_type": "markdown",
      "metadata": {
        "id": "LnRdWgnhMFCl"
      },
      "source": [
        "#### Next, let's group rows by neighborhood and by taking the mean of the frequency of occurrence of each category\n"
      ]
    },
    {
      "cell_type": "code",
      "metadata": {
        "id": "HuZN8yaoMFCm"
      },
      "source": [
        "district6_grouped = district6_onehot.groupby('Neighborhood').mean().reset_index()\n",
        "district6_grouped"
      ],
      "execution_count": null,
      "outputs": []
    },
    {
      "cell_type": "markdown",
      "metadata": {
        "id": "MN0Xen0-MFCr"
      },
      "source": [
        "#### Let's confirm the new size\n"
      ]
    },
    {
      "cell_type": "code",
      "metadata": {
        "id": "uBd4LJTcMFCr",
        "colab": {
          "base_uri": "https://localhost:8080/"
        },
        "outputId": "1e3ed6bd-9b11-4faf-d9b3-4d339ca5028b"
      },
      "source": [
        "district6_grouped.shape"
      ],
      "execution_count": 27,
      "outputs": [
        {
          "output_type": "execute_result",
          "data": {
            "text/plain": [
              "(18, 117)"
            ]
          },
          "metadata": {
            "tags": []
          },
          "execution_count": 27
        }
      ]
    },
    {
      "cell_type": "markdown",
      "metadata": {
        "id": "sSO-1DqGMFCv"
      },
      "source": [
        "#### Let's print each neighborhood along with the top 5 most common venues\n"
      ]
    },
    {
      "cell_type": "code",
      "metadata": {
        "id": "Z1e224j2MFCy"
      },
      "source": [
        "num_top_venues = 5\n",
        "\n",
        "for hood in district6_grouped['Neighborhood']:\n",
        "    print(\"----\"+hood+\"----\")\n",
        "    temp = district6_grouped[district6_grouped['Neighborhood'] == hood].T.reset_index()\n",
        "    temp.columns = ['venue','freq']\n",
        "    temp = temp.iloc[1:]\n",
        "    temp['freq'] = temp['freq'].astype(float)\n",
        "    temp = temp.round({'freq': 2})\n",
        "    print(temp.sort_values('freq', ascending=False).reset_index(drop=True).head(num_top_venues))\n",
        "    print('\\n')"
      ],
      "execution_count": null,
      "outputs": []
    },
    {
      "cell_type": "markdown",
      "metadata": {
        "id": "Gdqbv6z7MFC1"
      },
      "source": [
        "#### Let's put that into a _pandas_ dataframe\n"
      ]
    },
    {
      "cell_type": "markdown",
      "metadata": {
        "id": "8C3OvFn5MFC2"
      },
      "source": [
        "First, let's write a function to sort the venues in descending order.\n"
      ]
    },
    {
      "cell_type": "code",
      "metadata": {
        "id": "fqlwqm3dMFC3"
      },
      "source": [
        "def return_most_common_venues(row, num_top_venues):\n",
        "    row_categories = row.iloc[1:]\n",
        "    row_categories_sorted = row_categories.sort_values(ascending=False)\n",
        "    \n",
        "    return row_categories_sorted.index.values[0:num_top_venues]"
      ],
      "execution_count": 29,
      "outputs": []
    },
    {
      "cell_type": "markdown",
      "metadata": {
        "id": "n0ziN-_BMFC7"
      },
      "source": [
        "Now let's create the new dataframe and display the top 10 venues for each neighborhood.\n"
      ]
    },
    {
      "cell_type": "code",
      "metadata": {
        "id": "kupiogMSMFC8"
      },
      "source": [
        "num_top_venues = 10\n",
        "\n",
        "indicators = ['st', 'nd', 'rd']\n",
        "\n",
        "# create columns according to number of top venues\n",
        "columns = ['Neighborhood']\n",
        "for ind in np.arange(num_top_venues):\n",
        "    try:\n",
        "        columns.append('{}{} Most Common Venue'.format(ind+1, indicators[ind]))\n",
        "    except:\n",
        "        columns.append('{}th Most Common Venue'.format(ind+1))\n",
        "\n",
        "# create a new dataframe\n",
        "neighborhoods_venues_sorted = pd.DataFrame(columns=columns)\n",
        "neighborhoods_venues_sorted['Neighborhood'] = district6_grouped['Neighborhood']\n",
        "\n",
        "for ind in np.arange(district6_grouped.shape[0]):\n",
        "    neighborhoods_venues_sorted.iloc[ind, 1:] = return_most_common_venues(district6_grouped.iloc[ind, :], num_top_venues)\n",
        "\n",
        "neighborhoods_venues_sorted"
      ],
      "execution_count": null,
      "outputs": []
    },
    {
      "cell_type": "markdown",
      "metadata": {
        "id": "q07FPBAmMFDB"
      },
      "source": [
        "<a id='item4'></a>\n"
      ]
    },
    {
      "cell_type": "markdown",
      "metadata": {
        "id": "LloaWugbMFDC"
      },
      "source": [
        "## 4. Cluster Neighborhoods\n"
      ]
    },
    {
      "cell_type": "markdown",
      "metadata": {
        "id": "pY7JmQCyMFDD"
      },
      "source": [
        "Run _k_-means to cluster the neighborhood into 5 clusters.\n"
      ]
    },
    {
      "cell_type": "code",
      "metadata": {
        "id": "nQPBkaPgMFDD",
        "colab": {
          "base_uri": "https://localhost:8080/"
        },
        "outputId": "44d1d8f3-5593-4179-a76a-52dc8650b65c"
      },
      "source": [
        "# set number of clusters\n",
        "kclusters = 5\n",
        "\n",
        "district6_grouped_clustering = district6_grouped.drop('Neighborhood', 1)\n",
        "\n",
        "# run k-means clustering\n",
        "kmeans = KMeans(n_clusters=kclusters, random_state=0).fit(district6_grouped_clustering)\n",
        "\n",
        "# check cluster labels generated for each row in the dataframe\n",
        "kmeans.labels_[0:10] "
      ],
      "execution_count": 31,
      "outputs": [
        {
          "output_type": "execute_result",
          "data": {
            "text/plain": [
              "array([2, 1, 0, 0, 0, 0, 3, 2, 0, 2], dtype=int32)"
            ]
          },
          "metadata": {
            "tags": []
          },
          "execution_count": 31
        }
      ]
    },
    {
      "cell_type": "markdown",
      "metadata": {
        "id": "UI9Lo8xYMFDH"
      },
      "source": [
        "Let's create a new dataframe that includes the cluster as well as the top 10 venues for each neighborhood.\n"
      ]
    },
    {
      "cell_type": "code",
      "metadata": {
        "id": "gc3aMrgIMFDI",
        "colab": {
          "base_uri": "https://localhost:8080/",
          "height": 331
        },
        "outputId": "e857f4f0-8fea-40fb-c23c-8d5ebb034709"
      },
      "source": [
        "# add clustering labels\n",
        "neighborhoods_venues_sorted.insert(0, 'Cluster Labels', kmeans.labels_)\n",
        "\n",
        "district6_merged = district6\n",
        "\n",
        "# merge manhattan_grouped with manhattan_data to add latitude/longitude for each neighborhood\n",
        "district6_merged = district6_merged.join(neighborhoods_venues_sorted.set_index('Neighborhood'), on='Neighborhood')\n",
        "\n",
        "district6_merged.head() # check the last columns!"
      ],
      "execution_count": 32,
      "outputs": [
        {
          "output_type": "execute_result",
          "data": {
            "text/html": [
              "<div>\n",
              "<style scoped>\n",
              "    .dataframe tbody tr th:only-of-type {\n",
              "        vertical-align: middle;\n",
              "    }\n",
              "\n",
              "    .dataframe tbody tr th {\n",
              "        vertical-align: top;\n",
              "    }\n",
              "\n",
              "    .dataframe thead th {\n",
              "        text-align: right;\n",
              "    }\n",
              "</style>\n",
              "<table border=\"1\" class=\"dataframe\">\n",
              "  <thead>\n",
              "    <tr style=\"text-align: right;\">\n",
              "      <th></th>\n",
              "      <th>Neighborhood</th>\n",
              "      <th>District</th>\n",
              "      <th>Latitude</th>\n",
              "      <th>Longitude</th>\n",
              "      <th>Cluster Labels</th>\n",
              "      <th>1st Most Common Venue</th>\n",
              "      <th>2nd Most Common Venue</th>\n",
              "      <th>3rd Most Common Venue</th>\n",
              "      <th>4th Most Common Venue</th>\n",
              "      <th>5th Most Common Venue</th>\n",
              "      <th>6th Most Common Venue</th>\n",
              "      <th>7th Most Common Venue</th>\n",
              "      <th>8th Most Common Venue</th>\n",
              "      <th>9th Most Common Venue</th>\n",
              "      <th>10th Most Common Venue</th>\n",
              "    </tr>\n",
              "  </thead>\n",
              "  <tbody>\n",
              "    <tr>\n",
              "      <th>0</th>\n",
              "      <td>ایرانشهر</td>\n",
              "      <td>6</td>\n",
              "      <td>35.708586</td>\n",
              "      <td>51.421945</td>\n",
              "      <td>0</td>\n",
              "      <td>Café</td>\n",
              "      <td>Art Gallery</td>\n",
              "      <td>Theater</td>\n",
              "      <td>Persian Restaurant</td>\n",
              "      <td>Hotel</td>\n",
              "      <td>Sandwich Place</td>\n",
              "      <td>Movie Theater</td>\n",
              "      <td>Coffee Shop</td>\n",
              "      <td>Hookah Bar</td>\n",
              "      <td>Hostel</td>\n",
              "    </tr>\n",
              "    <tr>\n",
              "      <th>1</th>\n",
              "      <td>آرزانتین-ساعی</td>\n",
              "      <td>6</td>\n",
              "      <td>35.734849</td>\n",
              "      <td>51.415833</td>\n",
              "      <td>2</td>\n",
              "      <td>Café</td>\n",
              "      <td>Perfume Shop</td>\n",
              "      <td>Bakery</td>\n",
              "      <td>Bus Station</td>\n",
              "      <td>Cosmetics Shop</td>\n",
              "      <td>Pastry Shop</td>\n",
              "      <td>Persian Restaurant</td>\n",
              "      <td>Plaza</td>\n",
              "      <td>Candy Store</td>\n",
              "      <td>Market</td>\n",
              "    </tr>\n",
              "    <tr>\n",
              "      <th>2</th>\n",
              "      <td>بهجت آباد</td>\n",
              "      <td>6</td>\n",
              "      <td>35.719040</td>\n",
              "      <td>51.412128</td>\n",
              "      <td>0</td>\n",
              "      <td>Café</td>\n",
              "      <td>Sandwich Place</td>\n",
              "      <td>Persian Restaurant</td>\n",
              "      <td>Coffee Shop</td>\n",
              "      <td>Bookstore</td>\n",
              "      <td>Ice Cream Shop</td>\n",
              "      <td>Jewelry Store</td>\n",
              "      <td>Pizza Place</td>\n",
              "      <td>Chinese Restaurant</td>\n",
              "      <td>Performing Arts Venue</td>\n",
              "    </tr>\n",
              "    <tr>\n",
              "      <th>3</th>\n",
              "      <td>پارک لاله</td>\n",
              "      <td>6</td>\n",
              "      <td>35.713637</td>\n",
              "      <td>51.399122</td>\n",
              "      <td>0</td>\n",
              "      <td>Café</td>\n",
              "      <td>Restaurant</td>\n",
              "      <td>Coffee Shop</td>\n",
              "      <td>Movie Theater</td>\n",
              "      <td>Pool</td>\n",
              "      <td>Bed &amp; Breakfast</td>\n",
              "      <td>Mediterranean Restaurant</td>\n",
              "      <td>Auto Garage</td>\n",
              "      <td>Hotel</td>\n",
              "      <td>Park</td>\n",
              "    </tr>\n",
              "    <tr>\n",
              "      <th>4</th>\n",
              "      <td>دانشگاه تهران</td>\n",
              "      <td>6</td>\n",
              "      <td>35.705399</td>\n",
              "      <td>51.399013</td>\n",
              "      <td>0</td>\n",
              "      <td>Café</td>\n",
              "      <td>Bookstore</td>\n",
              "      <td>Theater</td>\n",
              "      <td>Plaza</td>\n",
              "      <td>Coffee Shop</td>\n",
              "      <td>General Entertainment</td>\n",
              "      <td>Fast Food Restaurant</td>\n",
              "      <td>Movie Theater</td>\n",
              "      <td>Cultural Center</td>\n",
              "      <td>Palace</td>\n",
              "    </tr>\n",
              "  </tbody>\n",
              "</table>\n",
              "</div>"
            ],
            "text/plain": [
              "    Neighborhood  District   Latitude  Longitude  Cluster Labels  \\\n",
              "0       ایرانشهر         6  35.708586  51.421945               0   \n",
              "1  آرزانتین-ساعی         6  35.734849  51.415833               2   \n",
              "2      بهجت آباد         6  35.719040  51.412128               0   \n",
              "3      پارک لاله         6  35.713637  51.399122               0   \n",
              "4  دانشگاه تهران         6  35.705399  51.399013               0   \n",
              "\n",
              "  1st Most Common Venue 2nd Most Common Venue 3rd Most Common Venue  \\\n",
              "0                  Café           Art Gallery               Theater   \n",
              "1                  Café          Perfume Shop                Bakery   \n",
              "2                  Café        Sandwich Place    Persian Restaurant   \n",
              "3                  Café            Restaurant           Coffee Shop   \n",
              "4                  Café             Bookstore               Theater   \n",
              "\n",
              "  4th Most Common Venue 5th Most Common Venue  6th Most Common Venue  \\\n",
              "0    Persian Restaurant                 Hotel         Sandwich Place   \n",
              "1           Bus Station        Cosmetics Shop            Pastry Shop   \n",
              "2           Coffee Shop             Bookstore         Ice Cream Shop   \n",
              "3         Movie Theater                  Pool        Bed & Breakfast   \n",
              "4                 Plaza           Coffee Shop  General Entertainment   \n",
              "\n",
              "      7th Most Common Venue 8th Most Common Venue 9th Most Common Venue  \\\n",
              "0             Movie Theater           Coffee Shop            Hookah Bar   \n",
              "1        Persian Restaurant                 Plaza           Candy Store   \n",
              "2             Jewelry Store           Pizza Place    Chinese Restaurant   \n",
              "3  Mediterranean Restaurant           Auto Garage                 Hotel   \n",
              "4      Fast Food Restaurant         Movie Theater       Cultural Center   \n",
              "\n",
              "  10th Most Common Venue  \n",
              "0                 Hostel  \n",
              "1                 Market  \n",
              "2  Performing Arts Venue  \n",
              "3                   Park  \n",
              "4                 Palace  "
            ]
          },
          "metadata": {
            "tags": []
          },
          "execution_count": 32
        }
      ]
    },
    {
      "cell_type": "markdown",
      "metadata": {
        "id": "QNeAXwctMFDM"
      },
      "source": [
        "Finally, let's visualize the resulting clusters\n"
      ]
    },
    {
      "cell_type": "code",
      "metadata": {
        "id": "PC86XC-pMFDN"
      },
      "source": [
        "# create map\n",
        "map_clusters = folium.Map(location=[latitude, longitude], zoom_start=13)\n",
        "\n",
        "# set color scheme for the clusters\n",
        "x = np.arange(kclusters)\n",
        "ys = [i + x + (i*x)**2 for i in range(kclusters)]\n",
        "colors_array = cm.rainbow(np.linspace(0, 1, len(ys)))\n",
        "rainbow = [colors.rgb2hex(i) for i in colors_array]\n",
        "\n",
        "# add markers to the map\n",
        "markers_colors = []\n",
        "for lat, lon, poi, cluster in zip(district6_merged['Latitude'], district6_merged['Longitude'], district6_merged['Neighborhood'], district6_merged['Cluster Labels']):\n",
        "    label = folium.Popup(str(poi) + ' Cluster ' + str(cluster), parse_html=True)\n",
        "    folium.CircleMarker(\n",
        "        [lat, lon],\n",
        "        radius=7,\n",
        "        popup=label,\n",
        "        color=rainbow[cluster-1],\n",
        "        fill=True,\n",
        "        fill_color=rainbow[cluster-1],\n",
        "        fill_opacity=0.7).add_to(map_clusters)\n",
        "       \n",
        "map_clusters"
      ],
      "execution_count": null,
      "outputs": []
    },
    {
      "cell_type": "markdown",
      "metadata": {
        "id": "MKAgg3AdMFDR"
      },
      "source": [
        "<a id='item5'></a>\n"
      ]
    },
    {
      "cell_type": "markdown",
      "metadata": {
        "id": "0thOHoX9MFDR"
      },
      "source": [
        "## 5. Examine Clusters\n"
      ]
    },
    {
      "cell_type": "markdown",
      "metadata": {
        "id": "Sy2AkL9CMFDS"
      },
      "source": [
        "Now, you can examine each cluster and determine the discriminating venue categories that distinguish each cluster. Based on the defining categories, you can then assign a name to each cluster. I will leave this exercise to you.\n"
      ]
    },
    {
      "cell_type": "markdown",
      "metadata": {
        "id": "vOgOFM4QMFDS"
      },
      "source": [
        "#### Cluster 1\n"
      ]
    },
    {
      "cell_type": "code",
      "metadata": {
        "id": "ScGCnAYfMFDT",
        "colab": {
          "base_uri": "https://localhost:8080/",
          "height": 467
        },
        "outputId": "abf52bba-6bb3-449f-c382-958afd0b3d6f"
      },
      "source": [
        "district6_merged.loc[district6_merged['Cluster Labels'] == 0, district6_merged.columns[[1] + list(range(5, district6_merged.shape[1]))]]"
      ],
      "execution_count": null,
      "outputs": [
        {
          "output_type": "execute_result",
          "data": {
            "text/html": [
              "<div>\n",
              "<style scoped>\n",
              "    .dataframe tbody tr th:only-of-type {\n",
              "        vertical-align: middle;\n",
              "    }\n",
              "\n",
              "    .dataframe tbody tr th {\n",
              "        vertical-align: top;\n",
              "    }\n",
              "\n",
              "    .dataframe thead th {\n",
              "        text-align: right;\n",
              "    }\n",
              "</style>\n",
              "<table border=\"1\" class=\"dataframe\">\n",
              "  <thead>\n",
              "    <tr style=\"text-align: right;\">\n",
              "      <th></th>\n",
              "      <th>District</th>\n",
              "      <th>1st Most Common Venue</th>\n",
              "      <th>2nd Most Common Venue</th>\n",
              "      <th>3rd Most Common Venue</th>\n",
              "      <th>4th Most Common Venue</th>\n",
              "      <th>5th Most Common Venue</th>\n",
              "      <th>6th Most Common Venue</th>\n",
              "      <th>7th Most Common Venue</th>\n",
              "      <th>8th Most Common Venue</th>\n",
              "      <th>9th Most Common Venue</th>\n",
              "      <th>10th Most Common Venue</th>\n",
              "    </tr>\n",
              "  </thead>\n",
              "  <tbody>\n",
              "    <tr>\n",
              "      <th>0</th>\n",
              "      <td>6</td>\n",
              "      <td>Café</td>\n",
              "      <td>Art Gallery</td>\n",
              "      <td>Persian Restaurant</td>\n",
              "      <td>Theater</td>\n",
              "      <td>Hotel</td>\n",
              "      <td>Sandwich Place</td>\n",
              "      <td>Movie Theater</td>\n",
              "      <td>Coffee Shop</td>\n",
              "      <td>Gym Pool</td>\n",
              "      <td>Intersection</td>\n",
              "    </tr>\n",
              "    <tr>\n",
              "      <th>2</th>\n",
              "      <td>6</td>\n",
              "      <td>Café</td>\n",
              "      <td>Sandwich Place</td>\n",
              "      <td>Persian Restaurant</td>\n",
              "      <td>Coffee Shop</td>\n",
              "      <td>Ice Cream Shop</td>\n",
              "      <td>Jewelry Store</td>\n",
              "      <td>Bookstore</td>\n",
              "      <td>Burger Joint</td>\n",
              "      <td>Music Store</td>\n",
              "      <td>Music Venue</td>\n",
              "    </tr>\n",
              "    <tr>\n",
              "      <th>3</th>\n",
              "      <td>6</td>\n",
              "      <td>Café</td>\n",
              "      <td>Restaurant</td>\n",
              "      <td>Coffee Shop</td>\n",
              "      <td>Movie Theater</td>\n",
              "      <td>Pool</td>\n",
              "      <td>Bed &amp; Breakfast</td>\n",
              "      <td>Mediterranean Restaurant</td>\n",
              "      <td>Athletics &amp; Sports</td>\n",
              "      <td>Auto Garage</td>\n",
              "      <td>Gym / Fitness Center</td>\n",
              "    </tr>\n",
              "    <tr>\n",
              "      <th>4</th>\n",
              "      <td>6</td>\n",
              "      <td>Café</td>\n",
              "      <td>Bookstore</td>\n",
              "      <td>Art Gallery</td>\n",
              "      <td>Theater</td>\n",
              "      <td>Plaza</td>\n",
              "      <td>Hookah Bar</td>\n",
              "      <td>Palace</td>\n",
              "      <td>College Cafeteria</td>\n",
              "      <td>Coffee Shop</td>\n",
              "      <td>Persian Restaurant</td>\n",
              "    </tr>\n",
              "    <tr>\n",
              "      <th>6</th>\n",
              "      <td>6</td>\n",
              "      <td>Café</td>\n",
              "      <td>Sandwich Place</td>\n",
              "      <td>Art Gallery</td>\n",
              "      <td>Bakery</td>\n",
              "      <td>Pizza Place</td>\n",
              "      <td>Persian Restaurant</td>\n",
              "      <td>Gift Shop</td>\n",
              "      <td>Coffee Shop</td>\n",
              "      <td>Furniture / Home Store</td>\n",
              "      <td>Burger Joint</td>\n",
              "    </tr>\n",
              "    <tr>\n",
              "      <th>8</th>\n",
              "      <td>6</td>\n",
              "      <td>Café</td>\n",
              "      <td>Persian Restaurant</td>\n",
              "      <td>Bookstore</td>\n",
              "      <td>Hookah Bar</td>\n",
              "      <td>Gym</td>\n",
              "      <td>Department Store</td>\n",
              "      <td>Comfort Food Restaurant</td>\n",
              "      <td>Plaza</td>\n",
              "      <td>Salon / Barbershop</td>\n",
              "      <td>Hotel</td>\n",
              "    </tr>\n",
              "    <tr>\n",
              "      <th>11</th>\n",
              "      <td>6</td>\n",
              "      <td>Café</td>\n",
              "      <td>Hotel</td>\n",
              "      <td>Steakhouse</td>\n",
              "      <td>Food Court</td>\n",
              "      <td>Video Store</td>\n",
              "      <td>Park</td>\n",
              "      <td>Pastry Shop</td>\n",
              "      <td>Pizza Place</td>\n",
              "      <td>Shopping Mall</td>\n",
              "      <td>Tabbakhi</td>\n",
              "    </tr>\n",
              "    <tr>\n",
              "      <th>12</th>\n",
              "      <td>6</td>\n",
              "      <td>Café</td>\n",
              "      <td>Persian Restaurant</td>\n",
              "      <td>Bookstore</td>\n",
              "      <td>Gym / Fitness Center</td>\n",
              "      <td>Hotel</td>\n",
              "      <td>Theater</td>\n",
              "      <td>Pastry Shop</td>\n",
              "      <td>Tabbakhi</td>\n",
              "      <td>Men's Store</td>\n",
              "      <td>Pizza Place</td>\n",
              "    </tr>\n",
              "    <tr>\n",
              "      <th>13</th>\n",
              "      <td>6</td>\n",
              "      <td>Café</td>\n",
              "      <td>Hookah Bar</td>\n",
              "      <td>Theater</td>\n",
              "      <td>Coffee Shop</td>\n",
              "      <td>Pastry Shop</td>\n",
              "      <td>Hotel</td>\n",
              "      <td>Italian Restaurant</td>\n",
              "      <td>French Restaurant</td>\n",
              "      <td>Park</td>\n",
              "      <td>Art Gallery</td>\n",
              "    </tr>\n",
              "  </tbody>\n",
              "</table>\n",
              "</div>"
            ],
            "text/plain": [
              "    District 1st Most Common Venue 2nd Most Common Venue  \\\n",
              "0          6                  Café           Art Gallery   \n",
              "2          6                  Café        Sandwich Place   \n",
              "3          6                  Café            Restaurant   \n",
              "4          6                  Café             Bookstore   \n",
              "6          6                  Café        Sandwich Place   \n",
              "8          6                  Café    Persian Restaurant   \n",
              "11         6                  Café                 Hotel   \n",
              "12         6                  Café    Persian Restaurant   \n",
              "13         6                  Café            Hookah Bar   \n",
              "\n",
              "   3rd Most Common Venue 4th Most Common Venue 5th Most Common Venue  \\\n",
              "0     Persian Restaurant               Theater                 Hotel   \n",
              "2     Persian Restaurant           Coffee Shop        Ice Cream Shop   \n",
              "3            Coffee Shop         Movie Theater                  Pool   \n",
              "4            Art Gallery               Theater                 Plaza   \n",
              "6            Art Gallery                Bakery           Pizza Place   \n",
              "8              Bookstore            Hookah Bar                   Gym   \n",
              "11            Steakhouse            Food Court           Video Store   \n",
              "12             Bookstore  Gym / Fitness Center                 Hotel   \n",
              "13               Theater           Coffee Shop           Pastry Shop   \n",
              "\n",
              "   6th Most Common Venue     7th Most Common Venue 8th Most Common Venue  \\\n",
              "0         Sandwich Place             Movie Theater           Coffee Shop   \n",
              "2          Jewelry Store                 Bookstore          Burger Joint   \n",
              "3        Bed & Breakfast  Mediterranean Restaurant    Athletics & Sports   \n",
              "4             Hookah Bar                    Palace     College Cafeteria   \n",
              "6     Persian Restaurant                 Gift Shop           Coffee Shop   \n",
              "8       Department Store   Comfort Food Restaurant                 Plaza   \n",
              "11                  Park               Pastry Shop           Pizza Place   \n",
              "12               Theater               Pastry Shop              Tabbakhi   \n",
              "13                 Hotel        Italian Restaurant     French Restaurant   \n",
              "\n",
              "     9th Most Common Venue 10th Most Common Venue  \n",
              "0                 Gym Pool           Intersection  \n",
              "2              Music Store            Music Venue  \n",
              "3              Auto Garage   Gym / Fitness Center  \n",
              "4              Coffee Shop     Persian Restaurant  \n",
              "6   Furniture / Home Store           Burger Joint  \n",
              "8       Salon / Barbershop                  Hotel  \n",
              "11           Shopping Mall               Tabbakhi  \n",
              "12             Men's Store            Pizza Place  \n",
              "13                    Park            Art Gallery  "
            ]
          },
          "metadata": {
            "tags": []
          },
          "execution_count": 48
        }
      ]
    },
    {
      "cell_type": "markdown",
      "metadata": {
        "id": "3YKRxfgvMFDZ"
      },
      "source": [
        "#### Cluster 2\n"
      ]
    },
    {
      "cell_type": "code",
      "metadata": {
        "id": "qo25ru-iMFDZ",
        "colab": {
          "base_uri": "https://localhost:8080/",
          "height": 111
        },
        "outputId": "89a83a1a-31c2-48fb-fa06-52b61f1f8206"
      },
      "source": [
        "district6_merged.loc[district6_merged['Cluster Labels'] == 1, district6_merged.columns[[1] + list(range(5, district6_merged.shape[1]))]]"
      ],
      "execution_count": null,
      "outputs": [
        {
          "output_type": "execute_result",
          "data": {
            "text/html": [
              "<div>\n",
              "<style scoped>\n",
              "    .dataframe tbody tr th:only-of-type {\n",
              "        vertical-align: middle;\n",
              "    }\n",
              "\n",
              "    .dataframe tbody tr th {\n",
              "        vertical-align: top;\n",
              "    }\n",
              "\n",
              "    .dataframe thead th {\n",
              "        text-align: right;\n",
              "    }\n",
              "</style>\n",
              "<table border=\"1\" class=\"dataframe\">\n",
              "  <thead>\n",
              "    <tr style=\"text-align: right;\">\n",
              "      <th></th>\n",
              "      <th>District</th>\n",
              "      <th>1st Most Common Venue</th>\n",
              "      <th>2nd Most Common Venue</th>\n",
              "      <th>3rd Most Common Venue</th>\n",
              "      <th>4th Most Common Venue</th>\n",
              "      <th>5th Most Common Venue</th>\n",
              "      <th>6th Most Common Venue</th>\n",
              "      <th>7th Most Common Venue</th>\n",
              "      <th>8th Most Common Venue</th>\n",
              "      <th>9th Most Common Venue</th>\n",
              "      <th>10th Most Common Venue</th>\n",
              "    </tr>\n",
              "  </thead>\n",
              "  <tbody>\n",
              "    <tr>\n",
              "      <th>17</th>\n",
              "      <td>6</td>\n",
              "      <td>Ice Cream Shop</td>\n",
              "      <td>Pharmacy</td>\n",
              "      <td>Tennis Stadium</td>\n",
              "      <td>Bakery</td>\n",
              "      <td>Yoga Studio</td>\n",
              "      <td>Dry Cleaner</td>\n",
              "      <td>Food &amp; Drink Shop</td>\n",
              "      <td>Flower Shop</td>\n",
              "      <td>Fast Food Restaurant</td>\n",
              "      <td>Electronics Store</td>\n",
              "    </tr>\n",
              "  </tbody>\n",
              "</table>\n",
              "</div>"
            ],
            "text/plain": [
              "    District 1st Most Common Venue 2nd Most Common Venue  \\\n",
              "17         6        Ice Cream Shop              Pharmacy   \n",
              "\n",
              "   3rd Most Common Venue 4th Most Common Venue 5th Most Common Venue  \\\n",
              "17        Tennis Stadium                Bakery           Yoga Studio   \n",
              "\n",
              "   6th Most Common Venue 7th Most Common Venue 8th Most Common Venue  \\\n",
              "17           Dry Cleaner     Food & Drink Shop           Flower Shop   \n",
              "\n",
              "   9th Most Common Venue 10th Most Common Venue  \n",
              "17  Fast Food Restaurant      Electronics Store  "
            ]
          },
          "metadata": {
            "tags": []
          },
          "execution_count": 49
        }
      ]
    },
    {
      "cell_type": "markdown",
      "metadata": {
        "id": "AkzumUVIMFDd"
      },
      "source": [
        "#### Cluster 3\n"
      ]
    },
    {
      "cell_type": "code",
      "metadata": {
        "id": "WjNgjOHAMFDe",
        "colab": {
          "base_uri": "https://localhost:8080/",
          "height": 344
        },
        "outputId": "fae29edc-4f49-411a-b89d-dc981ffcb4f2"
      },
      "source": [
        "district6_merged.loc[district6_merged['Cluster Labels'] == 2, district6_merged.columns[[1] + list(range(5, district6_merged.shape[1]))]]"
      ],
      "execution_count": null,
      "outputs": [
        {
          "output_type": "execute_result",
          "data": {
            "text/html": [
              "<div>\n",
              "<style scoped>\n",
              "    .dataframe tbody tr th:only-of-type {\n",
              "        vertical-align: middle;\n",
              "    }\n",
              "\n",
              "    .dataframe tbody tr th {\n",
              "        vertical-align: top;\n",
              "    }\n",
              "\n",
              "    .dataframe thead th {\n",
              "        text-align: right;\n",
              "    }\n",
              "</style>\n",
              "<table border=\"1\" class=\"dataframe\">\n",
              "  <thead>\n",
              "    <tr style=\"text-align: right;\">\n",
              "      <th></th>\n",
              "      <th>District</th>\n",
              "      <th>1st Most Common Venue</th>\n",
              "      <th>2nd Most Common Venue</th>\n",
              "      <th>3rd Most Common Venue</th>\n",
              "      <th>4th Most Common Venue</th>\n",
              "      <th>5th Most Common Venue</th>\n",
              "      <th>6th Most Common Venue</th>\n",
              "      <th>7th Most Common Venue</th>\n",
              "      <th>8th Most Common Venue</th>\n",
              "      <th>9th Most Common Venue</th>\n",
              "      <th>10th Most Common Venue</th>\n",
              "    </tr>\n",
              "  </thead>\n",
              "  <tbody>\n",
              "    <tr>\n",
              "      <th>1</th>\n",
              "      <td>6</td>\n",
              "      <td>Café</td>\n",
              "      <td>Perfume Shop</td>\n",
              "      <td>Cosmetics Shop</td>\n",
              "      <td>Persian Restaurant</td>\n",
              "      <td>Pastry Shop</td>\n",
              "      <td>Bus Station</td>\n",
              "      <td>Bakery</td>\n",
              "      <td>Park</td>\n",
              "      <td>Candy Store</td>\n",
              "      <td>Restaurant</td>\n",
              "    </tr>\n",
              "    <tr>\n",
              "      <th>7</th>\n",
              "      <td>6</td>\n",
              "      <td>Café</td>\n",
              "      <td>Park</td>\n",
              "      <td>Ice Cream Shop</td>\n",
              "      <td>Pizza Place</td>\n",
              "      <td>Burger Joint</td>\n",
              "      <td>Asian Restaurant</td>\n",
              "      <td>Pharmacy</td>\n",
              "      <td>Fast Food Restaurant</td>\n",
              "      <td>Bookstore</td>\n",
              "      <td>Electronics Store</td>\n",
              "    </tr>\n",
              "    <tr>\n",
              "      <th>9</th>\n",
              "      <td>6</td>\n",
              "      <td>Park</td>\n",
              "      <td>Café</td>\n",
              "      <td>Concert Hall</td>\n",
              "      <td>Bakery</td>\n",
              "      <td>Department Store</td>\n",
              "      <td>Gym / Fitness Center</td>\n",
              "      <td>Pizza Place</td>\n",
              "      <td>Auto Garage</td>\n",
              "      <td>Drugstore</td>\n",
              "      <td>Fast Food Restaurant</td>\n",
              "    </tr>\n",
              "    <tr>\n",
              "      <th>14</th>\n",
              "      <td>6</td>\n",
              "      <td>Pet Store</td>\n",
              "      <td>Café</td>\n",
              "      <td>Persian Restaurant</td>\n",
              "      <td>Bakery</td>\n",
              "      <td>Drugstore</td>\n",
              "      <td>Cultural Center</td>\n",
              "      <td>Park</td>\n",
              "      <td>Coffee Shop</td>\n",
              "      <td>Pizza Place</td>\n",
              "      <td>Sandwich Place</td>\n",
              "    </tr>\n",
              "    <tr>\n",
              "      <th>15</th>\n",
              "      <td>6</td>\n",
              "      <td>Bakery</td>\n",
              "      <td>Juice Bar</td>\n",
              "      <td>Pastry Shop</td>\n",
              "      <td>Ice Cream Shop</td>\n",
              "      <td>Burger Joint</td>\n",
              "      <td>Bookstore</td>\n",
              "      <td>Plaza</td>\n",
              "      <td>Fried Chicken Joint</td>\n",
              "      <td>Italian Restaurant</td>\n",
              "      <td>Park</td>\n",
              "    </tr>\n",
              "    <tr>\n",
              "      <th>16</th>\n",
              "      <td>6</td>\n",
              "      <td>Soccer Field</td>\n",
              "      <td>Fast Food Restaurant</td>\n",
              "      <td>Bakery</td>\n",
              "      <td>Park</td>\n",
              "      <td>Pool</td>\n",
              "      <td>Plaza</td>\n",
              "      <td>Drugstore</td>\n",
              "      <td>Supermarket</td>\n",
              "      <td>Italian Restaurant</td>\n",
              "      <td>Gym</td>\n",
              "    </tr>\n",
              "  </tbody>\n",
              "</table>\n",
              "</div>"
            ],
            "text/plain": [
              "    District 1st Most Common Venue 2nd Most Common Venue  \\\n",
              "1          6                  Café          Perfume Shop   \n",
              "7          6                  Café                  Park   \n",
              "9          6                  Park                  Café   \n",
              "14         6             Pet Store                  Café   \n",
              "15         6                Bakery             Juice Bar   \n",
              "16         6          Soccer Field  Fast Food Restaurant   \n",
              "\n",
              "   3rd Most Common Venue 4th Most Common Venue 5th Most Common Venue  \\\n",
              "1         Cosmetics Shop    Persian Restaurant           Pastry Shop   \n",
              "7         Ice Cream Shop           Pizza Place          Burger Joint   \n",
              "9           Concert Hall                Bakery      Department Store   \n",
              "14    Persian Restaurant                Bakery             Drugstore   \n",
              "15           Pastry Shop        Ice Cream Shop          Burger Joint   \n",
              "16                Bakery                  Park                  Pool   \n",
              "\n",
              "   6th Most Common Venue 7th Most Common Venue 8th Most Common Venue  \\\n",
              "1            Bus Station                Bakery                  Park   \n",
              "7       Asian Restaurant              Pharmacy  Fast Food Restaurant   \n",
              "9   Gym / Fitness Center           Pizza Place           Auto Garage   \n",
              "14       Cultural Center                  Park           Coffee Shop   \n",
              "15             Bookstore                 Plaza   Fried Chicken Joint   \n",
              "16                 Plaza             Drugstore           Supermarket   \n",
              "\n",
              "   9th Most Common Venue 10th Most Common Venue  \n",
              "1            Candy Store             Restaurant  \n",
              "7              Bookstore      Electronics Store  \n",
              "9              Drugstore   Fast Food Restaurant  \n",
              "14           Pizza Place         Sandwich Place  \n",
              "15    Italian Restaurant                   Park  \n",
              "16    Italian Restaurant                    Gym  "
            ]
          },
          "metadata": {
            "tags": []
          },
          "execution_count": 50
        }
      ]
    },
    {
      "cell_type": "markdown",
      "metadata": {
        "id": "6CN02uLLMFDj"
      },
      "source": [
        "#### Cluster 4\n"
      ]
    },
    {
      "cell_type": "code",
      "metadata": {
        "id": "_LwbKfJtMFDk",
        "colab": {
          "base_uri": "https://localhost:8080/",
          "height": 111
        },
        "outputId": "b417d935-8ad5-44d8-af99-c5c8560a4f5c"
      },
      "source": [
        "district6_merged.loc[district6_merged['Cluster Labels'] == 3, district6_merged.columns[[1] + list(range(5, district6_merged.shape[1]))]]"
      ],
      "execution_count": null,
      "outputs": [
        {
          "output_type": "execute_result",
          "data": {
            "text/html": [
              "<div>\n",
              "<style scoped>\n",
              "    .dataframe tbody tr th:only-of-type {\n",
              "        vertical-align: middle;\n",
              "    }\n",
              "\n",
              "    .dataframe tbody tr th {\n",
              "        vertical-align: top;\n",
              "    }\n",
              "\n",
              "    .dataframe thead th {\n",
              "        text-align: right;\n",
              "    }\n",
              "</style>\n",
              "<table border=\"1\" class=\"dataframe\">\n",
              "  <thead>\n",
              "    <tr style=\"text-align: right;\">\n",
              "      <th></th>\n",
              "      <th>District</th>\n",
              "      <th>1st Most Common Venue</th>\n",
              "      <th>2nd Most Common Venue</th>\n",
              "      <th>3rd Most Common Venue</th>\n",
              "      <th>4th Most Common Venue</th>\n",
              "      <th>5th Most Common Venue</th>\n",
              "      <th>6th Most Common Venue</th>\n",
              "      <th>7th Most Common Venue</th>\n",
              "      <th>8th Most Common Venue</th>\n",
              "      <th>9th Most Common Venue</th>\n",
              "      <th>10th Most Common Venue</th>\n",
              "    </tr>\n",
              "  </thead>\n",
              "  <tbody>\n",
              "    <tr>\n",
              "      <th>5</th>\n",
              "      <td>6</td>\n",
              "      <td>Park</td>\n",
              "      <td>Restaurant</td>\n",
              "      <td>Buffet</td>\n",
              "      <td>Yoga Studio</td>\n",
              "      <td>Concert Hall</td>\n",
              "      <td>Cultural Center</td>\n",
              "      <td>Department Store</td>\n",
              "      <td>Dizi Place</td>\n",
              "      <td>Donut Shop</td>\n",
              "      <td>Drugstore</td>\n",
              "    </tr>\n",
              "  </tbody>\n",
              "</table>\n",
              "</div>"
            ],
            "text/plain": [
              "   District 1st Most Common Venue 2nd Most Common Venue 3rd Most Common Venue  \\\n",
              "5         6                  Park            Restaurant                Buffet   \n",
              "\n",
              "  4th Most Common Venue 5th Most Common Venue 6th Most Common Venue  \\\n",
              "5           Yoga Studio          Concert Hall       Cultural Center   \n",
              "\n",
              "  7th Most Common Venue 8th Most Common Venue 9th Most Common Venue  \\\n",
              "5      Department Store            Dizi Place            Donut Shop   \n",
              "\n",
              "  10th Most Common Venue  \n",
              "5              Drugstore  "
            ]
          },
          "metadata": {
            "tags": []
          },
          "execution_count": 51
        }
      ]
    },
    {
      "cell_type": "markdown",
      "metadata": {
        "id": "7bckrSSLMFDo"
      },
      "source": [
        "#### Cluster 5\n"
      ]
    },
    {
      "cell_type": "code",
      "metadata": {
        "id": "Kr3Addh-MFDp",
        "colab": {
          "base_uri": "https://localhost:8080/",
          "height": 111
        },
        "outputId": "09c9f0aa-5119-44c9-8d85-2420312e5299"
      },
      "source": [
        "district6_merged.loc[district6_merged['Cluster Labels'] == 4, district6_merged.columns[[1] + list(range(5, district6_merged.shape[1]))]]"
      ],
      "execution_count": null,
      "outputs": [
        {
          "output_type": "execute_result",
          "data": {
            "text/html": [
              "<div>\n",
              "<style scoped>\n",
              "    .dataframe tbody tr th:only-of-type {\n",
              "        vertical-align: middle;\n",
              "    }\n",
              "\n",
              "    .dataframe tbody tr th {\n",
              "        vertical-align: top;\n",
              "    }\n",
              "\n",
              "    .dataframe thead th {\n",
              "        text-align: right;\n",
              "    }\n",
              "</style>\n",
              "<table border=\"1\" class=\"dataframe\">\n",
              "  <thead>\n",
              "    <tr style=\"text-align: right;\">\n",
              "      <th></th>\n",
              "      <th>District</th>\n",
              "      <th>1st Most Common Venue</th>\n",
              "      <th>2nd Most Common Venue</th>\n",
              "      <th>3rd Most Common Venue</th>\n",
              "      <th>4th Most Common Venue</th>\n",
              "      <th>5th Most Common Venue</th>\n",
              "      <th>6th Most Common Venue</th>\n",
              "      <th>7th Most Common Venue</th>\n",
              "      <th>8th Most Common Venue</th>\n",
              "      <th>9th Most Common Venue</th>\n",
              "      <th>10th Most Common Venue</th>\n",
              "    </tr>\n",
              "  </thead>\n",
              "  <tbody>\n",
              "    <tr>\n",
              "      <th>10</th>\n",
              "      <td>6</td>\n",
              "      <td>Snack Place</td>\n",
              "      <td>Pizza Place</td>\n",
              "      <td>Gym / Fitness Center</td>\n",
              "      <td>Drugstore</td>\n",
              "      <td>Café</td>\n",
              "      <td>Kebab Restaurant</td>\n",
              "      <td>Yoga Studio</td>\n",
              "      <td>Cultural Center</td>\n",
              "      <td>Department Store</td>\n",
              "      <td>Dizi Place</td>\n",
              "    </tr>\n",
              "  </tbody>\n",
              "</table>\n",
              "</div>"
            ],
            "text/plain": [
              "    District 1st Most Common Venue 2nd Most Common Venue  \\\n",
              "10         6           Snack Place           Pizza Place   \n",
              "\n",
              "   3rd Most Common Venue 4th Most Common Venue 5th Most Common Venue  \\\n",
              "10  Gym / Fitness Center             Drugstore                  Café   \n",
              "\n",
              "   6th Most Common Venue 7th Most Common Venue 8th Most Common Venue  \\\n",
              "10      Kebab Restaurant           Yoga Studio       Cultural Center   \n",
              "\n",
              "   9th Most Common Venue 10th Most Common Venue  \n",
              "10      Department Store             Dizi Place  "
            ]
          },
          "metadata": {
            "tags": []
          },
          "execution_count": 52
        }
      ]
    },
    {
      "cell_type": "markdown",
      "metadata": {
        "id": "NbJkGYg_48fm"
      },
      "source": [
        "## Clustering with DBSCAN"
      ]
    },
    {
      "cell_type": "code",
      "metadata": {
        "id": "i7B48As1471f"
      },
      "source": [
        "import numpy as np \n",
        "from sklearn.cluster import DBSCAN \n",
        "from sklearn.preprocessing import StandardScaler "
      ],
      "execution_count": 34,
      "outputs": []
    },
    {
      "cell_type": "code",
      "metadata": {
        "id": "9uUXr1hx5YML",
        "colab": {
          "base_uri": "https://localhost:8080/"
        },
        "outputId": "b834989e-f872-42c6-c4bc-0492bd7c2c6d"
      },
      "source": [
        "epsilon = 0.3\n",
        "minimumSamples = 2\n",
        "district6_grouped_clustering_dbscan = StandardScaler().fit(district6_grouped_clustering).transform(district6_grouped_clustering)\n",
        "db = DBSCAN(eps=epsilon, min_samples=minimumSamples).fit(district6_grouped_clustering)\n",
        "labels = db.labels_\n",
        "labels"
      ],
      "execution_count": 35,
      "outputs": [
        {
          "output_type": "execute_result",
          "data": {
            "text/plain": [
              "array([0, 1, 0, 0, 0, 0, 2, 0, 0, 0, 0, 0, 0, 0, 0, 3, 0, 0])"
            ]
          },
          "metadata": {
            "tags": []
          },
          "execution_count": 35
        }
      ]
    },
    {
      "cell_type": "code",
      "metadata": {
        "id": "gUwgQAHb5p0I"
      },
      "source": [
        "# add clustering labels\n",
        "neighborhoods_venues_sorted['DBSCAN Cluster Labels'] = labels\n",
        "\n",
        "district6_merged = district6\n",
        "\n",
        "# merge manhattan_grouped with manhattan_data to add latitude/longitude for each neighborhood\n",
        "district6_merged = district6_merged.join(neighborhoods_venues_sorted.set_index('Neighborhood'), on='Neighborhood')\n",
        "\n",
        "district6_merged # check the last columns!"
      ],
      "execution_count": null,
      "outputs": []
    },
    {
      "cell_type": "code",
      "metadata": {
        "id": "zMH_chzT76lb"
      },
      "source": [
        "# create map\n",
        "map_clusters = folium.Map(location=[latitude, longitude], zoom_start=13)\n",
        "\n",
        "# set color scheme for the clusters\n",
        "x = np.arange(kclusters)\n",
        "ys = [i + x + (i*x)**2 for i in range(kclusters)]\n",
        "colors_array = cm.rainbow(np.linspace(0, 1, len(ys)))\n",
        "rainbow = [colors.rgb2hex(i) for i in colors_array]\n",
        "\n",
        "geodata = 'https://raw.githubusercontent.com/mjalalimanesh/tehran-districts-neighborhoods-map-geojson/main/tehran_neighborhoods_376.geojson'\n",
        "\n",
        "folium.GeoJson(\n",
        "    geodata,\n",
        "    name='geojson'\n",
        ").add_to(map_clusters)\n",
        "\n",
        "\n",
        "# add markers to the map\n",
        "markers_colors = []\n",
        "for lat, lon, poi, cluster in zip(district6_merged['Latitude'], district6_merged['Longitude'], district6_merged['Neighborhood'], district6_merged['DBSCAN Cluster Labels']):\n",
        "    label = folium.Popup(str(poi) + ' Cluster ' + str(cluster), parse_html=True)\n",
        "    folium.CircleMarker(\n",
        "        [lat, lon],\n",
        "        radius=10,\n",
        "        popup=label,\n",
        "        color=rainbow[cluster-1],\n",
        "        fill=True,\n",
        "        fill_color=rainbow[cluster-1],\n",
        "        fill_opacity=0.7).add_to(map_clusters)\n",
        "       \n",
        "\n",
        "#folium.LayerControl().add_to(map_clusters)\n",
        "\n",
        "map_clusters"
      ],
      "execution_count": null,
      "outputs": []
    },
    {
      "cell_type": "code",
      "metadata": {
        "id": "unvqLut5AeS3"
      },
      "source": [
        ""
      ],
      "execution_count": null,
      "outputs": []
    },
    {
      "cell_type": "markdown",
      "metadata": {
        "id": "3Vd55uiHMFDs"
      },
      "source": [
        "### Thank you for completing this lab!\n",
        "\n",
        "**Modified By Mohamad Jalalimanesh with Tehran Data**\n",
        "\n",
        "This notebook was created by [Alex Aklson](https://www.linkedin.com/in/aklson?cm_mmc=Email_Newsletter-_-Developer_Ed%2BTech-_-WW_WW-_-SkillsNetwork-Courses-IBMDeveloperSkillsNetwork-DS0701EN-SkillsNetwork-21253531&cm_mmca1=000026UJ&cm_mmca2=10006555&cm_mmca3=M12345678&cvosrc=email.Newsletter.M12345678&cvo_campaign=000026UJ&cm_mmc=Email_Newsletter-_-Developer_Ed%2BTech-_-WW_WW-_-SkillsNetwork-Courses-IBMDeveloperSkillsNetwork-DS0701EN-SkillsNetwork-21253531&cm_mmca1=000026UJ&cm_mmca2=10006555&cm_mmca3=M12345678&cvosrc=email.Newsletter.M12345678&cvo_campaign=000026UJ) and [Polong Lin](https://www.linkedin.com/in/polonglin?cm_mmc=Email_Newsletter-_-Developer_Ed%2BTech-_-WW_WW-_-SkillsNetwork-Courses-IBMDeveloperSkillsNetwork-DS0701EN-SkillsNetwork-21253531&cm_mmca1=000026UJ&cm_mmca2=10006555&cm_mmca3=M12345678&cvosrc=email.Newsletter.M12345678&cvo_campaign=000026UJ&cm_mmc=Email_Newsletter-_-Developer_Ed%2BTech-_-WW_WW-_-SkillsNetwork-Courses-IBMDeveloperSkillsNetwork-DS0701EN-SkillsNetwork-21253531&cm_mmca1=000026UJ&cm_mmca2=10006555&cm_mmca3=M12345678&cvosrc=email.Newsletter.M12345678&cvo_campaign=000026UJ). I hope you found this lab interesting and educational. Feel free to contact us if you have any questions!\n"
      ]
    },
    {
      "cell_type": "markdown",
      "metadata": {
        "id": "LpYiPbNYMFDt"
      },
      "source": [
        "This notebook is part of a course on **Coursera** called _Applied Data Science Capstone_. If you accessed this notebook outside the course, you can take this course online by clicking [here](http://cocl.us/DP0701EN_Coursera_Week3_LAB2).\n"
      ]
    },
    {
      "cell_type": "markdown",
      "metadata": {
        "id": "HZ-GCi0JMFDu"
      },
      "source": [
        "<hr>\n",
        "\n",
        "Copyright © 2018 [Cognitive Class](https://cognitiveclass.ai?utm_source=bducopyrightlink&utm_medium=dswb&utm_campaign=bdu&cm_mmc=Email_Newsletter-_-Developer_Ed%2BTech-_-WW_WW-_-SkillsNetwork-Courses-IBMDeveloperSkillsNetwork-DS0701EN-SkillsNetwork-21253531&cm_mmca1=000026UJ&cm_mmca2=10006555&cm_mmca3=M12345678&cvosrc=email.Newsletter.M12345678&cvo_campaign=000026UJ&cm_mmc=Email_Newsletter-_-Developer_Ed%2BTech-_-WW_WW-_-SkillsNetwork-Courses-IBMDeveloperSkillsNetwork-DS0701EN-SkillsNetwork-21253531&cm_mmca1=000026UJ&cm_mmca2=10006555&cm_mmca3=M12345678&cvosrc=email.Newsletter.M12345678&cvo_campaign=000026UJ&cm_mmc=Email_Newsletter-_-Developer_Ed%2BTech-_-WW_WW-_-SkillsNetwork-Courses-IBMDeveloperSkillsNetwork-DS0701EN-SkillsNetwork-21253531&cm_mmca1=000026UJ&cm_mmca2=10006555&cm_mmca3=M12345678&cvosrc=email.Newsletter.M12345678&cvo_campaign=000026UJ&cm_mmc=Email_Newsletter-_-Developer_Ed%2BTech-_-WW_WW-_-SkillsNetwork-Courses-IBMDeveloperSkillsNetwork-DS0701EN-SkillsNetwork-21253531&cm_mmca1=000026UJ&cm_mmca2=10006555&cm_mmca3=M12345678&cvosrc=email.Newsletter.M12345678&cvo_campaign=000026UJ). This notebook and its source code are released under the terms of the [MIT License](https://bigdatauniversity.com/mit-license?cm_mmc=Email_Newsletter-_-Developer_Ed%2BTech-_-WW_WW-_-SkillsNetwork-Courses-IBMDeveloperSkillsNetwork-DS0701EN-SkillsNetwork-21253531&cm_mmca1=000026UJ&cm_mmca2=10006555&cm_mmca3=M12345678&cvosrc=email.Newsletter.M12345678&cvo_campaign=000026UJ&cm_mmc=Email_Newsletter-_-Developer_Ed%2BTech-_-WW_WW-_-SkillsNetwork-Courses-IBMDeveloperSkillsNetwork-DS0701EN-SkillsNetwork-21253531&cm_mmca1=000026UJ&cm_mmca2=10006555&cm_mmca3=M12345678&cvosrc=email.Newsletter.M12345678&cvo_campaign=000026UJ).\n"
      ]
    }
  ]
}